{
  "cells": [
    {
      "cell_type": "markdown",
      "metadata": {
        "colab_type": "text",
        "id": "view-in-github"
      },
      "source": [
        "<a href=\"https://colab.research.google.com/github/muhajirakbarhsb/NLP_class_2023/blob/main/get_review_data.ipynb\" target=\"_parent\"><img src=\"https://colab.research.google.com/assets/colab-badge.svg\" alt=\"Open In Colab\"/></a>"
      ]
    },
    {
      "cell_type": "code",
      "execution_count": 1,
      "metadata": {
        "colab": {
          "base_uri": "https://localhost:8080/"
        },
        "id": "Oe0DZ6NuZj7q",
        "outputId": "41a1fed7-cda1-493d-c331-1d3b9287c0b4"
      },
      "outputs": [
        {
          "name": "stdout",
          "output_type": "stream",
          "text": [
            "Defaulting to user installation because normal site-packages is not writeable\n",
            "Requirement already satisfied: google_play_scraper in c:\\users\\alharidt\\appdata\\roaming\\python\\python311\\site-packages (1.2.4)\n"
          ]
        },
        {
          "name": "stderr",
          "output_type": "stream",
          "text": [
            "DEPRECATION: Loading egg at c:\\program files\\python311\\lib\\site-packages\\vboxapi-1.0-py3.11.egg is deprecated. pip 23.3 will enforce this behaviour change. A possible replacement is to use pip for package installation..\n"
          ]
        }
      ],
      "source": [
        "!pip install google_play_scraper"
      ]
    },
    {
      "cell_type": "code",
      "execution_count": 2,
      "metadata": {
        "id": "cIsA97S_Z9md"
      },
      "outputs": [],
      "source": [
        "from google_play_scraper import Sort, reviews_all\n",
        "import pandas as pd"
      ]
    },
    {
      "cell_type": "code",
      "execution_count": 3,
      "metadata": {
        "id": "ETzrTxbEaDXF"
      },
      "outputs": [],
      "source": [
        "result = reviews_all(\n",
        "        'com.myorbit',\n",
        "        sleep_milliseconds=0, # defaults to 0\n",
        "        lang='id', # defaults to 'en'\n",
        "        country='id', # defaults to 'us'\n",
        "        sort=Sort.NEWEST\n",
        "    )"
      ]
    },
    {
      "cell_type": "code",
      "execution_count": 4,
      "metadata": {
        "id": "tMjKsIKzaPYb"
      },
      "outputs": [],
      "source": [
        "dfItem = pd.DataFrame.from_records(result)"
      ]
    },
    {
      "cell_type": "code",
      "execution_count": 5,
      "metadata": {
        "colab": {
          "base_uri": "https://localhost:8080/",
          "height": 597
        },
        "id": "ZGQC2tbVaYda",
        "outputId": "1f47b7fe-21f2-4a9b-e780-757c30f9fdb0"
      },
      "outputs": [
        {
          "data": {
            "text/html": [
              "<div>\n",
              "<style scoped>\n",
              "    .dataframe tbody tr th:only-of-type {\n",
              "        vertical-align: middle;\n",
              "    }\n",
              "\n",
              "    .dataframe tbody tr th {\n",
              "        vertical-align: top;\n",
              "    }\n",
              "\n",
              "    .dataframe thead th {\n",
              "        text-align: right;\n",
              "    }\n",
              "</style>\n",
              "<table border=\"1\" class=\"dataframe\">\n",
              "  <thead>\n",
              "    <tr style=\"text-align: right;\">\n",
              "      <th></th>\n",
              "      <th>reviewId</th>\n",
              "      <th>userName</th>\n",
              "      <th>userImage</th>\n",
              "      <th>content</th>\n",
              "      <th>score</th>\n",
              "      <th>thumbsUpCount</th>\n",
              "      <th>reviewCreatedVersion</th>\n",
              "      <th>at</th>\n",
              "      <th>replyContent</th>\n",
              "      <th>repliedAt</th>\n",
              "      <th>appVersion</th>\n",
              "    </tr>\n",
              "  </thead>\n",
              "  <tbody>\n",
              "    <tr>\n",
              "      <th>0</th>\n",
              "      <td>75f5c929-a744-44d1-bb29-647244532218</td>\n",
              "      <td>Suryokusumo Risdika Rizki</td>\n",
              "      <td>https://play-lh.googleusercontent.com/a-/ALV-U...</td>\n",
              "      <td>Sering muncul tulisan \"tidak terhubung ke .......</td>\n",
              "      <td>3</td>\n",
              "      <td>22</td>\n",
              "      <td>0.69.6</td>\n",
              "      <td>2023-09-18 21:58:35</td>\n",
              "      <td>None</td>\n",
              "      <td>NaT</td>\n",
              "      <td>0.69.6</td>\n",
              "    </tr>\n",
              "    <tr>\n",
              "      <th>1</th>\n",
              "      <td>f32e3edf-6c44-46d5-afb1-39f89fbdafbd</td>\n",
              "      <td>Wilson Nts</td>\n",
              "      <td>https://play-lh.googleusercontent.com/a-/ALV-U...</td>\n",
              "      <td>Sering muncul peringatan 'anda tidak terhubung...</td>\n",
              "      <td>5</td>\n",
              "      <td>18</td>\n",
              "      <td>0.69.8</td>\n",
              "      <td>2023-09-21 14:31:30</td>\n",
              "      <td>None</td>\n",
              "      <td>NaT</td>\n",
              "      <td>0.69.8</td>\n",
              "    </tr>\n",
              "    <tr>\n",
              "      <th>2</th>\n",
              "      <td>007c84da-7ad7-4f22-909a-03206cd09414</td>\n",
              "      <td>Saifullah fil</td>\n",
              "      <td>https://play-lh.googleusercontent.com/a-/ALV-U...</td>\n",
              "      <td>Masih sering DC. Tiba2 g ada koneksi, lampu in...</td>\n",
              "      <td>1</td>\n",
              "      <td>4</td>\n",
              "      <td>0.69.8</td>\n",
              "      <td>2023-09-28 00:14:40</td>\n",
              "      <td>Hi Saifullah. Mohon maaf, apa sudah reinstall ...</td>\n",
              "      <td>2023-04-14 15:12:50</td>\n",
              "      <td>0.69.8</td>\n",
              "    </tr>\n",
              "    <tr>\n",
              "      <th>3</th>\n",
              "      <td>7b6aeee3-151d-4196-bd02-53cb6cd634ba</td>\n",
              "      <td>Mr. Suryanto</td>\n",
              "      <td>https://play-lh.googleusercontent.com/a-/ALV-U...</td>\n",
              "      <td>Gak dapat mengakses fitur perangka terhubung,s...</td>\n",
              "      <td>1</td>\n",
              "      <td>2</td>\n",
              "      <td>0.69.6</td>\n",
              "      <td>2023-09-19 14:20:26</td>\n",
              "      <td>None</td>\n",
              "      <td>NaT</td>\n",
              "      <td>0.69.6</td>\n",
              "    </tr>\n",
              "    <tr>\n",
              "      <th>4</th>\n",
              "      <td>3d0e9e72-9c83-4252-85c6-b48261e28a7a</td>\n",
              "      <td>allan afriyadi</td>\n",
              "      <td>https://play-lh.googleusercontent.com/a-/ALV-U...</td>\n",
              "      <td>Bapuk. Lemot. Padahal sudah di Taru dekat jend...</td>\n",
              "      <td>1</td>\n",
              "      <td>5</td>\n",
              "      <td>0.69.8</td>\n",
              "      <td>2023-09-24 13:44:07</td>\n",
              "      <td>None</td>\n",
              "      <td>NaT</td>\n",
              "      <td>0.69.8</td>\n",
              "    </tr>\n",
              "    <tr>\n",
              "      <th>...</th>\n",
              "      <td>...</td>\n",
              "      <td>...</td>\n",
              "      <td>...</td>\n",
              "      <td>...</td>\n",
              "      <td>...</td>\n",
              "      <td>...</td>\n",
              "      <td>...</td>\n",
              "      <td>...</td>\n",
              "      <td>...</td>\n",
              "      <td>...</td>\n",
              "      <td>...</td>\n",
              "    </tr>\n",
              "    <tr>\n",
              "      <th>19478</th>\n",
              "      <td>dda2f7b2-994d-4364-aab4-1d54a18fdd71</td>\n",
              "      <td>Mei Ningsih</td>\n",
              "      <td>https://play-lh.googleusercontent.com/a-/ALV-U...</td>\n",
              "      <td>👍👍👍👍👍👍</td>\n",
              "      <td>5</td>\n",
              "      <td>0</td>\n",
              "      <td>None</td>\n",
              "      <td>2022-11-14 06:50:13</td>\n",
              "      <td>Dear, Mei Ningsih. Terima kasih atas apresiasi...</td>\n",
              "      <td>2022-11-14 06:53:04</td>\n",
              "      <td>None</td>\n",
              "    </tr>\n",
              "    <tr>\n",
              "      <th>19479</th>\n",
              "      <td>17b4e930-7ab2-4494-991b-a2f7723a53b1</td>\n",
              "      <td>Muslim Antariksa</td>\n",
              "      <td>https://play-lh.googleusercontent.com/a-/ALV-U...</td>\n",
              "      <td>👍 👍 👍</td>\n",
              "      <td>5</td>\n",
              "      <td>0</td>\n",
              "      <td>None</td>\n",
              "      <td>2022-06-20 18:05:13</td>\n",
              "      <td>Hai, Kak. Terima kasih atas feedback yang dibe...</td>\n",
              "      <td>2022-08-15 16:04:07</td>\n",
              "      <td>None</td>\n",
              "    </tr>\n",
              "    <tr>\n",
              "      <th>19480</th>\n",
              "      <td>5c52e59e-f1e5-4083-ae60-72bfd5c42a4e</td>\n",
              "      <td>Asef Hidayat</td>\n",
              "      <td>https://play-lh.googleusercontent.com/a/ACg8oc...</td>\n",
              "      <td>👍👍👍👍👍👍👍👍👍👍</td>\n",
              "      <td>5</td>\n",
              "      <td>0</td>\n",
              "      <td>None</td>\n",
              "      <td>2022-12-03 17:36:29</td>\n",
              "      <td>Dear Asef Hidayat, Terima kasih atas apresiasi...</td>\n",
              "      <td>2022-12-03 17:41:11</td>\n",
              "      <td>None</td>\n",
              "    </tr>\n",
              "    <tr>\n",
              "      <th>19481</th>\n",
              "      <td>34f9e9b9-f9e1-4f07-9253-9510d0347878</td>\n",
              "      <td>Herman Kolaka</td>\n",
              "      <td>https://play-lh.googleusercontent.com/a-/ALV-U...</td>\n",
              "      <td>⭐⭐⭐⭐⭐⭐⭐⭐⭐⭐</td>\n",
              "      <td>5</td>\n",
              "      <td>0</td>\n",
              "      <td>None</td>\n",
              "      <td>2022-01-20 02:29:22</td>\n",
              "      <td>Dear Herman Kolaka, terima kasih atas respon p...</td>\n",
              "      <td>2022-01-20 02:32:19</td>\n",
              "      <td>None</td>\n",
              "    </tr>\n",
              "    <tr>\n",
              "      <th>19482</th>\n",
              "      <td>bc727cf9-ca12-4eb2-9a3b-10648e5d0711</td>\n",
              "      <td>Willyamsfrimaulana Willy</td>\n",
              "      <td>https://play-lh.googleusercontent.com/a-/ALV-U...</td>\n",
              "      <td>Bagus Bagus</td>\n",
              "      <td>5</td>\n",
              "      <td>0</td>\n",
              "      <td>None</td>\n",
              "      <td>2023-04-07 21:56:40</td>\n",
              "      <td>Halo Willy! Terima kasih atas kepercayaannya t...</td>\n",
              "      <td>2023-04-10 09:07:03</td>\n",
              "      <td>None</td>\n",
              "    </tr>\n",
              "  </tbody>\n",
              "</table>\n",
              "<p>19483 rows × 11 columns</p>\n",
              "</div>"
            ],
            "text/plain": [
              "                                   reviewId                   userName  \\\n",
              "0      75f5c929-a744-44d1-bb29-647244532218  Suryokusumo Risdika Rizki   \n",
              "1      f32e3edf-6c44-46d5-afb1-39f89fbdafbd                 Wilson Nts   \n",
              "2      007c84da-7ad7-4f22-909a-03206cd09414              Saifullah fil   \n",
              "3      7b6aeee3-151d-4196-bd02-53cb6cd634ba               Mr. Suryanto   \n",
              "4      3d0e9e72-9c83-4252-85c6-b48261e28a7a             allan afriyadi   \n",
              "...                                     ...                        ...   \n",
              "19478  dda2f7b2-994d-4364-aab4-1d54a18fdd71                Mei Ningsih   \n",
              "19479  17b4e930-7ab2-4494-991b-a2f7723a53b1           Muslim Antariksa   \n",
              "19480  5c52e59e-f1e5-4083-ae60-72bfd5c42a4e               Asef Hidayat   \n",
              "19481  34f9e9b9-f9e1-4f07-9253-9510d0347878              Herman Kolaka   \n",
              "19482  bc727cf9-ca12-4eb2-9a3b-10648e5d0711   Willyamsfrimaulana Willy   \n",
              "\n",
              "                                               userImage  \\\n",
              "0      https://play-lh.googleusercontent.com/a-/ALV-U...   \n",
              "1      https://play-lh.googleusercontent.com/a-/ALV-U...   \n",
              "2      https://play-lh.googleusercontent.com/a-/ALV-U...   \n",
              "3      https://play-lh.googleusercontent.com/a-/ALV-U...   \n",
              "4      https://play-lh.googleusercontent.com/a-/ALV-U...   \n",
              "...                                                  ...   \n",
              "19478  https://play-lh.googleusercontent.com/a-/ALV-U...   \n",
              "19479  https://play-lh.googleusercontent.com/a-/ALV-U...   \n",
              "19480  https://play-lh.googleusercontent.com/a/ACg8oc...   \n",
              "19481  https://play-lh.googleusercontent.com/a-/ALV-U...   \n",
              "19482  https://play-lh.googleusercontent.com/a-/ALV-U...   \n",
              "\n",
              "                                                 content  score  \\\n",
              "0      Sering muncul tulisan \"tidak terhubung ke .......      3   \n",
              "1      Sering muncul peringatan 'anda tidak terhubung...      5   \n",
              "2      Masih sering DC. Tiba2 g ada koneksi, lampu in...      1   \n",
              "3      Gak dapat mengakses fitur perangka terhubung,s...      1   \n",
              "4      Bapuk. Lemot. Padahal sudah di Taru dekat jend...      1   \n",
              "...                                                  ...    ...   \n",
              "19478                                             👍👍👍👍👍👍      5   \n",
              "19479                                              👍 👍 👍      5   \n",
              "19480                                         👍👍👍👍👍👍👍👍👍👍      5   \n",
              "19481                                         ⭐⭐⭐⭐⭐⭐⭐⭐⭐⭐      5   \n",
              "19482                                        Bagus Bagus      5   \n",
              "\n",
              "       thumbsUpCount reviewCreatedVersion                  at  \\\n",
              "0                 22               0.69.6 2023-09-18 21:58:35   \n",
              "1                 18               0.69.8 2023-09-21 14:31:30   \n",
              "2                  4               0.69.8 2023-09-28 00:14:40   \n",
              "3                  2               0.69.6 2023-09-19 14:20:26   \n",
              "4                  5               0.69.8 2023-09-24 13:44:07   \n",
              "...              ...                  ...                 ...   \n",
              "19478              0                 None 2022-11-14 06:50:13   \n",
              "19479              0                 None 2022-06-20 18:05:13   \n",
              "19480              0                 None 2022-12-03 17:36:29   \n",
              "19481              0                 None 2022-01-20 02:29:22   \n",
              "19482              0                 None 2023-04-07 21:56:40   \n",
              "\n",
              "                                            replyContent           repliedAt  \\\n",
              "0                                                   None                 NaT   \n",
              "1                                                   None                 NaT   \n",
              "2      Hi Saifullah. Mohon maaf, apa sudah reinstall ... 2023-04-14 15:12:50   \n",
              "3                                                   None                 NaT   \n",
              "4                                                   None                 NaT   \n",
              "...                                                  ...                 ...   \n",
              "19478  Dear, Mei Ningsih. Terima kasih atas apresiasi... 2022-11-14 06:53:04   \n",
              "19479  Hai, Kak. Terima kasih atas feedback yang dibe... 2022-08-15 16:04:07   \n",
              "19480  Dear Asef Hidayat, Terima kasih atas apresiasi... 2022-12-03 17:41:11   \n",
              "19481  Dear Herman Kolaka, terima kasih atas respon p... 2022-01-20 02:32:19   \n",
              "19482  Halo Willy! Terima kasih atas kepercayaannya t... 2023-04-10 09:07:03   \n",
              "\n",
              "      appVersion  \n",
              "0         0.69.6  \n",
              "1         0.69.8  \n",
              "2         0.69.8  \n",
              "3         0.69.6  \n",
              "4         0.69.8  \n",
              "...          ...  \n",
              "19478       None  \n",
              "19479       None  \n",
              "19480       None  \n",
              "19481       None  \n",
              "19482       None  \n",
              "\n",
              "[19483 rows x 11 columns]"
            ]
          },
          "execution_count": 5,
          "metadata": {},
          "output_type": "execute_result"
        }
      ],
      "source": [
        "dfItem"
      ]
    },
    {
      "cell_type": "code",
      "execution_count": 6,
      "metadata": {
        "id": "Z2HDvbqyad6A"
      },
      "outputs": [],
      "source": [
        "dfItem = dfItem[['at', 'content', 'score', 'userName','replyContent']]"
      ]
    },
    {
      "cell_type": "code",
      "execution_count": 7,
      "metadata": {
        "colab": {
          "base_uri": "https://localhost:8080/"
        },
        "id": "0_iLRDHDamd9",
        "outputId": "407ec36e-96fd-48ca-a690-63eaa7bc611f"
      },
      "outputs": [
        {
          "name": "stdout",
          "output_type": "stream",
          "text": [
            "data dimulai dari 2020-05-19 05:18:02 sampai 2023-10-03 17:08:35\n"
          ]
        }
      ],
      "source": [
        "min_tanggal = dfItem['at'].min()\n",
        "max_tanggal = dfItem['at'].max()\n",
        "\n",
        "print(f\"data dimulai dari {min_tanggal} sampai {max_tanggal}\")"
      ]
    },
    {
      "cell_type": "code",
      "execution_count": 8,
      "metadata": {
        "colab": {
          "base_uri": "https://localhost:8080/"
        },
        "id": "-m-FGFpUb1TE",
        "outputId": "ce833a5c-94f5-47c4-b323-1d488e589c26"
      },
      "outputs": [
        {
          "data": {
            "text/plain": [
              "array(['Sering muncul tulisan \"tidak terhubung ke .... (nama wifi saya) padahal jelas-jelas lancar. Tidak bisa klik menu PERANGKAT TERHUBUNG, sudah beberapa kali uninstall, clear cache & data pun tetap tak bisa. Hanya muncul layar putih lalu out dari aplikasi. Padahal saya sangat butuh mengetahui berapa hp yang tersambung di Orbit saya.',\n",
              "       'Sering muncul peringatan \\'anda tidak terhubung dengan jaringan orbit\\', kalau pun bisa, klik \"perangkat terhubung\" langsung layar blank putih. Mau isi ulang pulsa bingung krn app sering blank. Edit : kirim keluhan via email, direspon tim orbit dengan sangat baik. Setelah diupdate, aplikasi sudah normal kembali..',\n",
              "       'Masih sering DC. Tiba2 g ada koneksi, lampu indokator merah. Lagi enak2 youtube pake orbit, tiba2 pulsa HP abis gara2 orbitnya DC. Niat hemat jd mahal warbiasa. Tolong di perbaiki nih. Ane g ada masalah dgn kuota dan bayarnya ya. Posisi juga bagus indikator jaringan full 3 bar. Emang masalah di pelayanannya.',\n",
              "       'Gak dapat mengakses fitur perangka terhubung,selalu close sendiri ketika memilih opsi tersebut..di chat ke CS,malah hilang CS ny tak berbentuk..gak bisa memberi solusi,malah dibiarin gitu,alhasil gak tau siapa2 pengguna wifi yang mencuri paket data yang begitu cepat habis gak wajar ini',\n",
              "       'Bapuk. Lemot. Padahal sudah di Taru dekat jendela. Dan di lantai 2 pula, tapi tetap saja lemot. Nonton YouTube buffering, nonton Netflix dll buffering parah. Udah gitu sering disconnect gara gara pasword salah. Padahal udah bener masukin password nya bahkan gek pernah ganti password (masih pakai password yg di belakang unit wifi)',\n",
              "       'Jangan beli orbit nya, krn sangat tidak amanah, tidak recomended.. awal beli kata nya akan dapat bonus 25GB selama 6 bulan. Tapi setelah masuk 3 bulan untuk dapat bonus nya harus membeli paket dulu baru bonus nya akan masuk.. Di tambah lagi jaringan nya jg tidak bagus, lalod kya gak pake penangkap jaringan.. Sangat menyesal beli alat nya.. KALIAN JANGAN BELI',\n",
              "       'Dulu keren jaringan orbitnya. Sekarang tidak rekomendasi. Main game kalah trus karena tiba2 putus. Nonton youtube slalu buffering dulunya tdk pernah. Speedtest internet mentok 9mbps unduh, unggahnya lebih parah. Kalah sama jaringan seluler biasa, padahal sama2 Telkomsel. di Tolong tingkatkan.',\n",
              "       'Mohon di perbaiki bug aplikasi ini, banyak sekali bug, apalagi pada saat isi paket untuk bulan selanjutnya sering gagal padahal pulsa terisi dan mohon di tambah fitur auto perpanjang pada tgl yg sudah di tentukan masa tenggang paket habis dan bila ada pulsa yg ada di aplikasi.',\n",
              "       'Pengaturan perangkat yg terhubung kok gak ada lg boss buat yg terbarunya,jdi gmna kita tau,siapa saja yg masuk ke jaringan wifi kitaa. Yg terbarunya bukan malah Terbaik,malah Belepotan.. Hufffff 🤦🤦',\n",
              "       'Pada aplikasi saat membuka menu perangkat terhubung tiba2 force close sendiri. Dan jika saya buka diweb, tidak ada menu perangkat terhubung. Tolong diperbaiki, karna sudah saya coba di 2 HP.',\n",
              "       'Waktu baru beli, paket murah dan berselancar di internet apalagi zoom lancar jaya. Selang 3 bulan harga paket Naik, dan harganya beda jauh dg saat baru beli orbit dan kecepatan internet sangat lemah.',\n",
              "       'Mifi dngan harga yg tidak jauh beda dngan merk Huawei tpi ga bisa dirubah password. Sangat kecewa dan nyesel kemakan seller wkwkwk. Bagus di off aja produksi kalau barang ga bisa dirubah password. Sangat buruk',\n",
              "       'Baru juga 2 bulan ngerasain pake my orbit. 1 bulan pertama okey lah. Masuk ke 2 bulan super parah jaringan nya. Padahal di indikator ada 4 bar sinyal nya. Tapi buat maen game ping nya merah terus. Next bakal w jual nih my orbit',\n",
              "       'Aplikasinya udah bagus. Sangat membantu pengguna untuk mengatur modem. Pengalaman saya, untuk informasi wifi sudah diganti nama dan password baru. Tapi masih menunjukkan nama dan password bawaan modem. Mohon untuk developer telkomsel bisa memperbaiki. Terimakasih.',\n",
              "       'Harusnya bisa menghapus HP/PC/Laptop yg sdh tdk aktif pada menu Pengaturan Perangkat ? Harusnya tidak perlu lagi mengatur pada menu Pengaturan Perangkat atas HP/PC/Laptop yg sudah connect bhb sdh ada di Favorit ? Dan kenapa sekarang tdk bisa melihat siapa yg tersambung dgn WiFi Orbit saya ?',\n",
              "       'Kalau ada bintang kosong sudah saya kasih, saya punya masalah di WiFi yang sebelumnya baik-baik saja ada tulisan \"diperlukan autentikasi/masuk\" saya sudah menghubungi semua channel chat yang ada tapi respon yang dikasih bener2 tidak menyelesaikan masalah, saya pun sudah mengikuti tutor-tutor yang ada di YouTube, bener-bener ampas mending make WiFi sebelah INDIHOME',\n",
              "       'Udah tak uninstal trus tak instal lagi tetap sama saja,gak bisa buka menu perangkat terhubung.tiap buka menu itu langsung keluar aplikasi.dah lama kayak gitu terus. Udah itu paketanya semakin mahalllllllll.....',\n",
              "       'Data paket tidak normal, terkuras perhari 10Gb sedangkan user hanya 3 dan jarang\" Menggunakan data streaming. Banyak ngebug nya sehingga sangat KECEWA.',\n",
              "       'Sangat mengecewakan,awal beli harga paket normal selang beberapa bulan harga paket naik drastis.., tolong sesuai kan harga paket nya sama jaringan nya Terima kasih.',\n",
              "       'Assssseeeem, habis diperbarui jadi kurang asem ni app. Mau cek perangkat terhubung, app kluar sendiri. Bug bug buuuuuuug, buruan perbaiki.',\n",
              "       'Kurang optimal, pembelian paket data orbit berhasil namun struk pembelian tidak masuk ke email, cek di inbox dan spam juga tidak ada, nanya ke fitur chat veronica juga tidak efektif terlalu lama menunggu, hampir 1 jam menunggu. struk pembelian sangat penting bagi saya.',\n",
              "       'Yang belum beli di sarankan jgn beli, saya sendiri nyesel beli modem orbit ini, bulan pertama doang internet lancar, bulan ke 2 jaringan super lelet tapi kuota super boros pake bgt, di rumah saya hanya terkonesi 4 user hp dan 1 smart tv, di gunakan tidak terlalu intens tapi selama 5 hari kuota yang di habiskan sudah 25gb, sudah jaringan nya lelet kuota nya boros, sudah chat admin melalui instagram cuma nyuruh ngisi2 data doang gaada perubahan sama sekali, nyesel deh modem nya mau di jual ga laku',\n",
              "       'Jelek sekali aplikasi ini, selalu crash saat mau diliat berapa banyak pengguna modem ini, selalu white scren abis itu keluar sendiri dari aplikasi, sangat buruk, cs nya pun gak tau apa2 ditanya, cuman nyuruh resat ulang terus itu aja tau cs nya, menyesal beli kapok lah pake tsel,thx',\n",
              "       'Pelayanan buruk, beli paket internet tapi belum terisi dan saldo sudah terpotong. Disuruh tunggu 1x24 jam dan setelah lewat dari waktu tersebut masih belum terisi paket internet yg saya beli, hubungi cs lewat aplikasi tidak ada solusi dan tidak ada refund saldo yg sudah terpotong. Saya sudah setahun lebih langganan my orbit dan sekarang dibuat kecewa dengan pelayanan my orbit.',\n",
              "       'Orbit tolol udah mahal jaringan jelek.. ini malah transaksi saya gk di proses padahal saldo dana saya udh terpotong ..chat CS nya respon lama bnget dan jawaban dri masalah transaksi saya belum jelas gmna..padahal status transaksi sukses lohh invoise dan kodetransaksi ada dan udah sukses bukan sedang berlangsung tpi sampi skrng belum juga masuk paket saya..bnyak loh duit 125.000 buat saya ambil paket orbit extra tpi gk juga di proses ..buat yg lain jgn mau pakek orbit ini sumpah dri pada nyesel .',\n",
              "       'Gw saranin buat yg mau beli/masang orbit mending di pikir pikir lagi deh udh harga nya mahal,kuota boros,harga paket mahal sinyal nya ga sebanding dengan harga paket nya itu aja saran dari gw sih dari pada nyesel kaya gw...🙏🙏',\n",
              "       'mohon di perbaiki, kenapa saya tidak bisa melihat siapa yang tersambung ke perangkat? notif nya orbit mengalami macet silahkan di perbaharui padahal versi saya sudah yang terbaru!',\n",
              "       'saran saya sih ga usah... mengecewakan layanannya ... Udah beli kuota 100k, beli diaplikasi my orbit, bayar dengan mobile banking dan sudah dipotong.... tapi belum masuk2, saya sudah komplain, disuruh tunggu 24 jam, sekarang sudah menjelang 72 jam belum masuk2... Laporan ke Veronika, hanya basa basi untuk ditindaklanjuti.... Baru kali ini saya kecewa berat dengan provider internet, pake brand lain ga masalah... sekalinya nyoba orbit...',\n",
              "       'Aplikasi Orbitnya setelah Di Update ke yang Terbaru Malah pas Masuk Ke Perangkat yg Terhubung yg ada di Aplikasi Orbit ko tiba keluar2 sendiri Mohon Aplikasinya di perbaiki Masalah2 seperti itu Jadi Maaf saya Hanya Berikan Bintang 1,dulu...🙏',\n",
              "       'Aplikasi gk jelas, mau masuk bolak balik suruh login, nanti suruh reset pw dan bla...bla ,eh sakarang malah gk bisa login padahal pakai no. Yang sama buat login'],\n",
              "      dtype=object)"
            ]
          },
          "execution_count": 8,
          "metadata": {},
          "output_type": "execute_result"
        }
      ],
      "source": [
        "dfItem.head(30)['content'].values"
      ]
    },
    {
      "cell_type": "code",
      "execution_count": 9,
      "metadata": {
        "colab": {
          "base_uri": "https://localhost:8080/"
        },
        "id": "eC9AEbFPbFn3",
        "outputId": "7bc6aaf9-898e-4ced-af44-2242ff68596e"
      },
      "outputs": [
        {
          "data": {
            "text/plain": [
              "0     Sering muncul tulisan \"tidak terhubung ke .......\n",
              "1     Sering muncul peringatan 'anda tidak terhubung...\n",
              "2     Masih sering DC. Tiba2 g ada koneksi, lampu in...\n",
              "3     Gak dapat mengakses fitur perangka terhubung,s...\n",
              "4     Bapuk. Lemot. Padahal sudah di Taru dekat jend...\n",
              "5     Jangan beli orbit nya, krn sangat tidak amanah...\n",
              "6     Dulu keren jaringan orbitnya. Sekarang tidak r...\n",
              "7     Mohon di perbaiki bug aplikasi ini, banyak sek...\n",
              "8     Pengaturan perangkat yg terhubung kok gak ada ...\n",
              "9     Pada aplikasi saat membuka menu perangkat terh...\n",
              "10    Waktu baru beli, paket murah dan berselancar d...\n",
              "11    Mifi dngan harga yg tidak jauh beda dngan merk...\n",
              "12    Baru juga 2 bulan ngerasain pake my orbit. 1 b...\n",
              "13    Aplikasinya udah bagus. Sangat membantu penggu...\n",
              "14    Harusnya bisa menghapus HP/PC/Laptop yg sdh td...\n",
              "15    Kalau ada bintang kosong sudah saya kasih, say...\n",
              "16    Udah tak uninstal trus tak instal lagi tetap s...\n",
              "17    Data paket tidak normal, terkuras perhari 10Gb...\n",
              "18    Sangat mengecewakan,awal beli harga paket norm...\n",
              "19    Assssseeeem, habis diperbarui jadi kurang asem...\n",
              "20    Kurang optimal, pembelian paket data orbit ber...\n",
              "21    Yang belum beli di sarankan jgn beli, saya sen...\n",
              "22    Jelek sekali aplikasi ini, selalu crash saat m...\n",
              "23    Pelayanan buruk, beli paket internet tapi belu...\n",
              "24    Orbit tolol udah mahal jaringan jelek.. ini ma...\n",
              "25    Gw saranin buat yg mau beli/masang orbit mendi...\n",
              "26    mohon di perbaiki, kenapa saya tidak bisa meli...\n",
              "27    saran saya sih ga usah... mengecewakan layanan...\n",
              "28    Aplikasi Orbitnya setelah Di Update ke yang Te...\n",
              "29    Aplikasi gk jelas, mau masuk bolak balik suruh...\n",
              "Name: content, dtype: object"
            ]
          },
          "execution_count": 9,
          "metadata": {},
          "output_type": "execute_result"
        }
      ],
      "source": [
        "dfItem['content'].head(30)"
      ]
    }
  ],
  "metadata": {
    "colab": {
      "authorship_tag": "ABX9TyNWRvOrQUSlAOSIed1pgaU7",
      "include_colab_link": true,
      "provenance": []
    },
    "kernelspec": {
      "display_name": "Python 3",
      "name": "python3"
    },
    "language_info": {
      "codemirror_mode": {
        "name": "ipython",
        "version": 3
      },
      "file_extension": ".py",
      "mimetype": "text/x-python",
      "name": "python",
      "nbconvert_exporter": "python",
      "pygments_lexer": "ipython3",
      "version": "3.11.5"
    }
  },
  "nbformat": 4,
  "nbformat_minor": 0
}
