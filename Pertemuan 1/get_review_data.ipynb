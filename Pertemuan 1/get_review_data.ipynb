{
  "cells": [
    {
      "cell_type": "markdown",
      "metadata": {
        "colab_type": "text",
        "id": "view-in-github"
      },
      "source": [
        "<a href=\"https://colab.research.google.com/github/muhajirakbarhsb/NLP_class_2023/blob/main/get_review_data.ipynb\" target=\"_parent\"><img src=\"https://colab.research.google.com/assets/colab-badge.svg\" alt=\"Open In Colab\"/></a>"
      ]
    },
    {
      "cell_type": "code",
      "execution_count": 1,
      "metadata": {
        "colab": {
          "base_uri": "https://localhost:8080/"
        },
        "id": "Oe0DZ6NuZj7q",
        "outputId": "41a1fed7-cda1-493d-c331-1d3b9287c0b4"
      },
      "outputs": [
        {
          "name": "stdout",
          "output_type": "stream",
          "text": [
            "Collecting google_play_scraper\n",
            "  Using cached google_play_scraper-1.2.4-py3-none-any.whl (28 kB)\n",
            "Installing collected packages: google-play-scraper\n",
            "Successfully installed google-play-scraper-1.2.4\n"
          ]
        }
      ],
      "source": [
        "!pip install google_play_scraper"
      ]
    },
    {
      "cell_type": "code",
      "execution_count": 2,
      "metadata": {
        "id": "cIsA97S_Z9md"
      },
      "outputs": [],
      "source": [
        "from google_play_scraper import Sort, reviews_all\n",
        "import pandas as pd"
      ]
    },
    {
      "cell_type": "code",
      "execution_count": 3,
      "metadata": {
        "id": "ETzrTxbEaDXF"
      },
      "outputs": [],
      "source": [
        "result = reviews_all(\n",
        "        'com.myorbit',\n",
        "        sleep_milliseconds=0, # defaults to 0\n",
        "        lang='id', # defaults to 'en'\n",
        "        country='id', # defaults to 'us'\n",
        "        sort=Sort.NEWEST\n",
        "    )"
      ]
    },
    {
      "cell_type": "code",
      "execution_count": 4,
      "metadata": {
        "id": "tMjKsIKzaPYb"
      },
      "outputs": [],
      "source": [
        "dfItem = pd.DataFrame.from_records(result)"
      ]
    },
    {
      "cell_type": "code",
      "execution_count": 5,
      "metadata": {
        "colab": {
          "base_uri": "https://localhost:8080/",
          "height": 597
        },
        "id": "ZGQC2tbVaYda",
        "outputId": "1f47b7fe-21f2-4a9b-e780-757c30f9fdb0"
      },
      "outputs": [
        {
          "data": {
            "text/html": [
              "<div>\n",
              "<style scoped>\n",
              "    .dataframe tbody tr th:only-of-type {\n",
              "        vertical-align: middle;\n",
              "    }\n",
              "\n",
              "    .dataframe tbody tr th {\n",
              "        vertical-align: top;\n",
              "    }\n",
              "\n",
              "    .dataframe thead th {\n",
              "        text-align: right;\n",
              "    }\n",
              "</style>\n",
              "<table border=\"1\" class=\"dataframe\">\n",
              "  <thead>\n",
              "    <tr style=\"text-align: right;\">\n",
              "      <th></th>\n",
              "      <th>reviewId</th>\n",
              "      <th>userName</th>\n",
              "      <th>userImage</th>\n",
              "      <th>content</th>\n",
              "      <th>score</th>\n",
              "      <th>thumbsUpCount</th>\n",
              "      <th>reviewCreatedVersion</th>\n",
              "      <th>at</th>\n",
              "      <th>replyContent</th>\n",
              "      <th>repliedAt</th>\n",
              "      <th>appVersion</th>\n",
              "    </tr>\n",
              "  </thead>\n",
              "  <tbody>\n",
              "    <tr>\n",
              "      <th>0</th>\n",
              "      <td>eab7a2a3-f893-460d-916f-bf0ddcbd54aa</td>\n",
              "      <td>Wildan Cell</td>\n",
              "      <td>https://play-lh.googleusercontent.com/a-/ALV-U...</td>\n",
              "      <td>Paketnya mahal2 dan data internetnya juga boro...</td>\n",
              "      <td>1</td>\n",
              "      <td>0</td>\n",
              "      <td>0.70.2</td>\n",
              "      <td>2023-11-19 08:08:17</td>\n",
              "      <td>Pagi Kak Wildan. Harga dan syarat ketentuan ku...</td>\n",
              "      <td>2023-11-20 08:45:18</td>\n",
              "      <td>0.70.2</td>\n",
              "    </tr>\n",
              "    <tr>\n",
              "      <th>1</th>\n",
              "      <td>4e9f6806-aab6-4cf9-a4cd-e78307b64a2d</td>\n",
              "      <td>Deyubi kyubi</td>\n",
              "      <td>https://play-lh.googleusercontent.com/a-/ALV-U...</td>\n",
              "      <td>Ulasan lama : Parah ini kenapa ga bisa login d...</td>\n",
              "      <td>4</td>\n",
              "      <td>0</td>\n",
              "      <td>0.70.2</td>\n",
              "      <td>2023-11-19 00:02:23</td>\n",
              "      <td>Hai kak Deyubi kyubi. Mohon maaf atas ketidakn...</td>\n",
              "      <td>2022-06-16 13:55:19</td>\n",
              "      <td>0.70.2</td>\n",
              "    </tr>\n",
              "    <tr>\n",
              "      <th>2</th>\n",
              "      <td>9f3ef4d5-4fb1-48fc-aac2-6aff3a16b515</td>\n",
              "      <td>Asyraf Kaylani</td>\n",
              "      <td>https://play-lh.googleusercontent.com/a/ACg8oc...</td>\n",
              "      <td>Susah banget mau login ke aplikasi sampe jengkel</td>\n",
              "      <td>1</td>\n",
              "      <td>0</td>\n",
              "      <td>None</td>\n",
              "      <td>2023-11-18 22:02:21</td>\n",
              "      <td>Selamat pagi Kak Asyraf. Maaf ketidaknyamanann...</td>\n",
              "      <td>2023-11-19 06:44:33</td>\n",
              "      <td>None</td>\n",
              "    </tr>\n",
              "    <tr>\n",
              "      <th>3</th>\n",
              "      <td>db3d43ce-6abb-4e8f-9cfc-eff47999b503</td>\n",
              "      <td>Ardi Ardian</td>\n",
              "      <td>https://play-lh.googleusercontent.com/a-/ALV-U...</td>\n",
              "      <td>Cukup bagus tapi sayang tidak ada menu blokir ...</td>\n",
              "      <td>5</td>\n",
              "      <td>0</td>\n",
              "      <td>0.70.2</td>\n",
              "      <td>2023-11-18 18:21:34</td>\n",
              "      <td>Hai Kak Ardi. Beberapa modem ada yang sudah di...</td>\n",
              "      <td>2023-10-15 12:44:56</td>\n",
              "      <td>0.70.2</td>\n",
              "    </tr>\n",
              "    <tr>\n",
              "      <th>4</th>\n",
              "      <td>17a6bed8-fd0c-4536-8a82-de54a184821e</td>\n",
              "      <td>Bagas Eksanudin Aziz</td>\n",
              "      <td>https://play-lh.googleusercontent.com/a/ACg8oc...</td>\n",
              "      <td>Kencang dan stabil tapi mahaaallll,.. dimurahi...</td>\n",
              "      <td>3</td>\n",
              "      <td>0</td>\n",
              "      <td>0.70.2</td>\n",
              "      <td>2023-11-18 17:02:54</td>\n",
              "      <td>Halo Kak Bagas. Terima kasih apresiasinya ya! ...</td>\n",
              "      <td>2023-11-19 06:53:37</td>\n",
              "      <td>0.70.2</td>\n",
              "    </tr>\n",
              "    <tr>\n",
              "      <th>...</th>\n",
              "      <td>...</td>\n",
              "      <td>...</td>\n",
              "      <td>...</td>\n",
              "      <td>...</td>\n",
              "      <td>...</td>\n",
              "      <td>...</td>\n",
              "      <td>...</td>\n",
              "      <td>...</td>\n",
              "      <td>...</td>\n",
              "      <td>...</td>\n",
              "      <td>...</td>\n",
              "    </tr>\n",
              "    <tr>\n",
              "      <th>22561</th>\n",
              "      <td>2a07a879-5d3a-4c55-9686-d2f1d629be6a</td>\n",
              "      <td>ALFAIZNA Channel</td>\n",
              "      <td>https://play-lh.googleusercontent.com/a-/ALV-U...</td>\n",
              "      <td>Bagus, tapi masih harus dilengkapi fitur yg bl...</td>\n",
              "      <td>5</td>\n",
              "      <td>1</td>\n",
              "      <td>0.8.23</td>\n",
              "      <td>2020-05-26 01:34:40</td>\n",
              "      <td>None</td>\n",
              "      <td>NaT</td>\n",
              "      <td>0.8.23</td>\n",
              "    </tr>\n",
              "    <tr>\n",
              "      <th>22562</th>\n",
              "      <td>d7d1ceda-44b5-4ccf-95ab-604b922ccb4d</td>\n",
              "      <td>tubagus fandi</td>\n",
              "      <td>https://play-lh.googleusercontent.com/a/ACg8oc...</td>\n",
              "      <td>Mantaaap.... gak pke ribet...</td>\n",
              "      <td>5</td>\n",
              "      <td>2</td>\n",
              "      <td>0.8.20</td>\n",
              "      <td>2020-05-22 12:17:46</td>\n",
              "      <td>None</td>\n",
              "      <td>NaT</td>\n",
              "      <td>0.8.20</td>\n",
              "    </tr>\n",
              "    <tr>\n",
              "      <th>22563</th>\n",
              "      <td>94d6eefd-b333-44f1-803d-3ea31193795e</td>\n",
              "      <td>agus habib</td>\n",
              "      <td>https://play-lh.googleusercontent.com/a-/ALV-U...</td>\n",
              "      <td>Kasih 4 bintang dulu ya</td>\n",
              "      <td>4</td>\n",
              "      <td>0</td>\n",
              "      <td>None</td>\n",
              "      <td>2020-05-20 04:47:11</td>\n",
              "      <td>None</td>\n",
              "      <td>NaT</td>\n",
              "      <td>None</td>\n",
              "    </tr>\n",
              "    <tr>\n",
              "      <th>22564</th>\n",
              "      <td>cd6d79a9-bdf4-4a74-a0e2-584bee46eb58</td>\n",
              "      <td>Dwi Aji Kusuma</td>\n",
              "      <td>https://play-lh.googleusercontent.com/a-/ALV-U...</td>\n",
              "      <td>Woi, gw mau register orbit krn tertarik sama p...</td>\n",
              "      <td>3</td>\n",
              "      <td>3</td>\n",
              "      <td>0.8.20</td>\n",
              "      <td>2020-05-20 00:17:52</td>\n",
              "      <td>None</td>\n",
              "      <td>NaT</td>\n",
              "      <td>0.8.20</td>\n",
              "    </tr>\n",
              "    <tr>\n",
              "      <th>22565</th>\n",
              "      <td>22594202-4401-4119-8845-74aecaec85aa</td>\n",
              "      <td>Adi Pratomo</td>\n",
              "      <td>https://play-lh.googleusercontent.com/a/ACg8oc...</td>\n",
              "      <td>Mantap ! Setelah download aplikasi gak terjadi...</td>\n",
              "      <td>5</td>\n",
              "      <td>1</td>\n",
              "      <td>0.8.20</td>\n",
              "      <td>2020-05-19 05:18:02</td>\n",
              "      <td>None</td>\n",
              "      <td>NaT</td>\n",
              "      <td>0.8.20</td>\n",
              "    </tr>\n",
              "  </tbody>\n",
              "</table>\n",
              "<p>22566 rows × 11 columns</p>\n",
              "</div>"
            ],
            "text/plain": [
              "                                   reviewId              userName  \\\n",
              "0      eab7a2a3-f893-460d-916f-bf0ddcbd54aa           Wildan Cell   \n",
              "1      4e9f6806-aab6-4cf9-a4cd-e78307b64a2d          Deyubi kyubi   \n",
              "2      9f3ef4d5-4fb1-48fc-aac2-6aff3a16b515        Asyraf Kaylani   \n",
              "3      db3d43ce-6abb-4e8f-9cfc-eff47999b503           Ardi Ardian   \n",
              "4      17a6bed8-fd0c-4536-8a82-de54a184821e  Bagas Eksanudin Aziz   \n",
              "...                                     ...                   ...   \n",
              "22561  2a07a879-5d3a-4c55-9686-d2f1d629be6a      ALFAIZNA Channel   \n",
              "22562  d7d1ceda-44b5-4ccf-95ab-604b922ccb4d         tubagus fandi   \n",
              "22563  94d6eefd-b333-44f1-803d-3ea31193795e            agus habib   \n",
              "22564  cd6d79a9-bdf4-4a74-a0e2-584bee46eb58        Dwi Aji Kusuma   \n",
              "22565  22594202-4401-4119-8845-74aecaec85aa           Adi Pratomo   \n",
              "\n",
              "                                               userImage  \\\n",
              "0      https://play-lh.googleusercontent.com/a-/ALV-U...   \n",
              "1      https://play-lh.googleusercontent.com/a-/ALV-U...   \n",
              "2      https://play-lh.googleusercontent.com/a/ACg8oc...   \n",
              "3      https://play-lh.googleusercontent.com/a-/ALV-U...   \n",
              "4      https://play-lh.googleusercontent.com/a/ACg8oc...   \n",
              "...                                                  ...   \n",
              "22561  https://play-lh.googleusercontent.com/a-/ALV-U...   \n",
              "22562  https://play-lh.googleusercontent.com/a/ACg8oc...   \n",
              "22563  https://play-lh.googleusercontent.com/a-/ALV-U...   \n",
              "22564  https://play-lh.googleusercontent.com/a-/ALV-U...   \n",
              "22565  https://play-lh.googleusercontent.com/a/ACg8oc...   \n",
              "\n",
              "                                                 content  score  \\\n",
              "0      Paketnya mahal2 dan data internetnya juga boro...      1   \n",
              "1      Ulasan lama : Parah ini kenapa ga bisa login d...      4   \n",
              "2       Susah banget mau login ke aplikasi sampe jengkel      1   \n",
              "3      Cukup bagus tapi sayang tidak ada menu blokir ...      5   \n",
              "4      Kencang dan stabil tapi mahaaallll,.. dimurahi...      3   \n",
              "...                                                  ...    ...   \n",
              "22561  Bagus, tapi masih harus dilengkapi fitur yg bl...      5   \n",
              "22562                      Mantaaap.... gak pke ribet...      5   \n",
              "22563                            Kasih 4 bintang dulu ya      4   \n",
              "22564  Woi, gw mau register orbit krn tertarik sama p...      3   \n",
              "22565  Mantap ! Setelah download aplikasi gak terjadi...      5   \n",
              "\n",
              "       thumbsUpCount reviewCreatedVersion                  at  \\\n",
              "0                  0               0.70.2 2023-11-19 08:08:17   \n",
              "1                  0               0.70.2 2023-11-19 00:02:23   \n",
              "2                  0                 None 2023-11-18 22:02:21   \n",
              "3                  0               0.70.2 2023-11-18 18:21:34   \n",
              "4                  0               0.70.2 2023-11-18 17:02:54   \n",
              "...              ...                  ...                 ...   \n",
              "22561              1               0.8.23 2020-05-26 01:34:40   \n",
              "22562              2               0.8.20 2020-05-22 12:17:46   \n",
              "22563              0                 None 2020-05-20 04:47:11   \n",
              "22564              3               0.8.20 2020-05-20 00:17:52   \n",
              "22565              1               0.8.20 2020-05-19 05:18:02   \n",
              "\n",
              "                                            replyContent           repliedAt  \\\n",
              "0      Pagi Kak Wildan. Harga dan syarat ketentuan ku... 2023-11-20 08:45:18   \n",
              "1      Hai kak Deyubi kyubi. Mohon maaf atas ketidakn... 2022-06-16 13:55:19   \n",
              "2      Selamat pagi Kak Asyraf. Maaf ketidaknyamanann... 2023-11-19 06:44:33   \n",
              "3      Hai Kak Ardi. Beberapa modem ada yang sudah di... 2023-10-15 12:44:56   \n",
              "4      Halo Kak Bagas. Terima kasih apresiasinya ya! ... 2023-11-19 06:53:37   \n",
              "...                                                  ...                 ...   \n",
              "22561                                               None                 NaT   \n",
              "22562                                               None                 NaT   \n",
              "22563                                               None                 NaT   \n",
              "22564                                               None                 NaT   \n",
              "22565                                               None                 NaT   \n",
              "\n",
              "      appVersion  \n",
              "0         0.70.2  \n",
              "1         0.70.2  \n",
              "2           None  \n",
              "3         0.70.2  \n",
              "4         0.70.2  \n",
              "...          ...  \n",
              "22561     0.8.23  \n",
              "22562     0.8.20  \n",
              "22563       None  \n",
              "22564     0.8.20  \n",
              "22565     0.8.20  \n",
              "\n",
              "[22566 rows x 11 columns]"
            ]
          },
          "execution_count": 5,
          "metadata": {},
          "output_type": "execute_result"
        }
      ],
      "source": [
        "dfItem"
      ]
    },
    {
      "cell_type": "code",
      "execution_count": 6,
      "metadata": {
        "id": "Z2HDvbqyad6A"
      },
      "outputs": [],
      "source": [
        "dfItem = dfItem[['at', 'content', 'score', 'userName','replyContent']]"
      ]
    },
    {
      "cell_type": "code",
      "execution_count": 7,
      "metadata": {
        "colab": {
          "base_uri": "https://localhost:8080/"
        },
        "id": "0_iLRDHDamd9",
        "outputId": "407ec36e-96fd-48ca-a690-63eaa7bc611f"
      },
      "outputs": [
        {
          "name": "stdout",
          "output_type": "stream",
          "text": [
            "data dimulai dari 2020-05-19 05:18:02 sampai 2023-11-19 08:08:17\n"
          ]
        }
      ],
      "source": [
        "min_tanggal = dfItem['at'].min()\n",
        "max_tanggal = dfItem['at'].max()\n",
        "\n",
        "print(f\"data dimulai dari {min_tanggal} sampai {max_tanggal}\")"
      ]
    },
    {
      "cell_type": "code",
      "execution_count": 8,
      "metadata": {
        "colab": {
          "base_uri": "https://localhost:8080/"
        },
        "id": "-m-FGFpUb1TE",
        "outputId": "ce833a5c-94f5-47c4-b323-1d488e589c26"
      },
      "outputs": [
        {
          "data": {
            "text/plain": [
              "array(['Paketnya mahal2 dan data internetnya juga boros,,pokoknya gak rekomendasi pada para teman dan keluarga',\n",
              "       'Ulasan lama : Parah ini kenapa ga bisa login di apps?? 16/06/2022 Update ulasan : Gak ada promo pengguna lama apa?',\n",
              "       'Susah banget mau login ke aplikasi sampe jengkel',\n",
              "       'Cukup bagus tapi sayang tidak ada menu blokir buat pengguna lain yang masuk tanpa seizin kita pengguna',\n",
              "       'Kencang dan stabil tapi mahaaallll,.. dimurahin dikit kayaknya bakal asik sih wkwkw',\n",
              "       'Sekarang sering ilang ilangan sinyal e',\n",
              "       'waspada sama orbit, aktifin paket. sampai 2 hari belum juga aktif. pelayanan buruk. dari veronica malah di oper ke email, facebook, instagram, twitter sampe ke grapari segala..EDAN dan masih juga suruh nunggu. akhirnya aktifin paket lagi di luar orbit. RUGI jadi double double keluar duit.',\n",
              "       'Akun dan imei orbit tidak terdaftar sendiri padahal langganan paket lancar',\n",
              "       '😲😮😧 larang² paketane om 🤦',\n",
              "       'Produk gagal, jatingan tidak stabil.',\n",
              "       'Aplikasi sebelum di-update, pembayaran banyak pilihan. Setelah di-update, pilihannya tinggal Gopay. Itu aja gagal terus buat bayar.',\n",
              "       'Toppp', 'Top up ga masuk pembayaran berhasil', 'Mantap',\n",
              "       'Udah di bayar masih aja sinyal nya (?). Tau gini nggak usah pake pascabayar. Balikin dwit gue, woi telkomonyet. Bayar ngga pernah telat tpi sinyal nya ngga jelas payah. ??????????????¿?????????????????????????????? ??????????????¿?????????????????????????????? ??????????????¿?????????????????????????????? ??????????????¿?????????????????????????????? ??????????????¿?????????????????????????????? ??????????????¿ Andai di sini bisa upload bukti pembayaran udah gue upload.😡😡😡',\n",
              "       '👍👍👍',\n",
              "       'Lemotttt, Punya wifi tapi ujung ujungnya yang dipake paket data sendiri.',\n",
              "       'Perangkat orbit star lite payah.....sering ga konek, lampu nya merah, harus berulang reStart.... Pas udah lancar, ngedrop lagi, tanda merah, restart lagi.......capeee deehh',\n",
              "       'Udah 2 Mingguan ini jaringan ditempat saya gangguan, yg anehnya kalau ada bar sinyal yg muncul malah lag bukannya lancar',\n",
              "       'Apk gak bermutu!!!! BENER BENER BURUUUUKKKKKKK',\n",
              "       'Modem orbit sy error..Payahhhhhhhh',\n",
              "       'Bikin kouta games kalo bisa, biar hanya bisa main game nga bisa buka youtube, dll yg bisa bikin lag',\n",
              "       'Mf kepada penerbit amplikasi my orbit,kami sebagai pelanggang tekekomsel orbit memohon, klw bisa tambahkan menu d app My orbit nya menu kuota bersama nya,agar kami menikmati pull layanan telekomsel biarr Luar Rumah Makasih🙏🙏🙏 KAMI BERHARAP🙏🙏',\n",
              "       'Bintangnya sementara saya tambah satu lagi karena sudah ada perbaikan sedikit untuk masalah sinyalnya semoga bisa dipertahankan kualitasnya...',\n",
              "       'Nyesel juga beli orbit.. Apalagi aplikasi ini sering eror.. dan tak ada pembaruan. Tiap login sering keluar warning \"ops maaf sedang terjadi kesalahan sementara\" Sampah.. !!',\n",
              "       'Ok', 'Kalau lupa pasword susah sx dpat konfirmasi ke gmailn y a',\n",
              "       '2 kali beli paket data, data kuotanya sering ga masuk rugi anjingg .. dpet notif sms pembelian data sudah aktif, pas di cek data kuota yg di beli ga ada kacau ini orbit k.o.n.t.o.l',\n",
              "       'lumayan bagus,sngat membantu tpi hrga paket mahal.kuota cpt hbis.',\n",
              "       'Ga bisa login udah isi pulsa malah ga bisa beli paket, kalo apk nya payah mending versi browsernya di buka aja, solusi dari twitter smpe ig ga guna. Suruh nunggu lagi ujung2nya'],\n",
              "      dtype=object)"
            ]
          },
          "execution_count": 8,
          "metadata": {},
          "output_type": "execute_result"
        }
      ],
      "source": [
        "dfItem.head(30)['content'].values"
      ]
    },
    {
      "cell_type": "code",
      "execution_count": 9,
      "metadata": {
        "colab": {
          "base_uri": "https://localhost:8080/"
        },
        "id": "eC9AEbFPbFn3",
        "outputId": "7bc6aaf9-898e-4ced-af44-2242ff68596e"
      },
      "outputs": [
        {
          "data": {
            "text/plain": [
              "0     Paketnya mahal2 dan data internetnya juga boro...\n",
              "1     Ulasan lama : Parah ini kenapa ga bisa login d...\n",
              "2      Susah banget mau login ke aplikasi sampe jengkel\n",
              "3     Cukup bagus tapi sayang tidak ada menu blokir ...\n",
              "4     Kencang dan stabil tapi mahaaallll,.. dimurahi...\n",
              "5                Sekarang sering ilang ilangan sinyal e\n",
              "6     waspada sama orbit, aktifin paket. sampai 2 ha...\n",
              "7     Akun dan imei orbit tidak terdaftar sendiri pa...\n",
              "8                             😲😮😧 larang² paketane om 🤦\n",
              "9                  Produk gagal, jatingan tidak stabil.\n",
              "10    Aplikasi sebelum di-update, pembayaran banyak ...\n",
              "11                                                Toppp\n",
              "12                  Top up ga masuk pembayaran berhasil\n",
              "13                                               Mantap\n",
              "14    Udah di bayar masih aja sinyal nya (?). Tau gi...\n",
              "15                                                  👍👍👍\n",
              "16    Lemotttt, Punya wifi tapi ujung ujungnya yang ...\n",
              "17    Perangkat orbit star lite payah.....sering ga ...\n",
              "18    Udah 2 Mingguan ini jaringan ditempat saya gan...\n",
              "19       Apk gak bermutu!!!! BENER BENER BURUUUUKKKKKKK\n",
              "20                   Modem orbit sy error..Payahhhhhhhh\n",
              "21    Bikin kouta games kalo bisa, biar hanya bisa m...\n",
              "22    Mf kepada penerbit amplikasi my orbit,kami seb...\n",
              "23    Bintangnya sementara saya tambah satu lagi kar...\n",
              "24    Nyesel juga beli orbit.. Apalagi aplikasi ini ...\n",
              "25                                                   Ok\n",
              "26    Kalau lupa pasword susah sx dpat konfirmasi ke...\n",
              "27    2 kali beli paket data, data kuotanya sering g...\n",
              "28    lumayan bagus,sngat membantu tpi hrga paket ma...\n",
              "29    Ga bisa login udah isi pulsa malah ga bisa bel...\n",
              "Name: content, dtype: object"
            ]
          },
          "execution_count": 9,
          "metadata": {},
          "output_type": "execute_result"
        }
      ],
      "source": [
        "dfItem['content'].head(30)"
      ]
    }
  ],
  "metadata": {
    "colab": {
      "authorship_tag": "ABX9TyNWRvOrQUSlAOSIed1pgaU7",
      "include_colab_link": true,
      "provenance": []
    },
    "kernelspec": {
      "display_name": "Python 3",
      "name": "python3"
    },
    "language_info": {
      "codemirror_mode": {
        "name": "ipython",
        "version": 3
      },
      "file_extension": ".py",
      "mimetype": "text/x-python",
      "name": "python",
      "nbconvert_exporter": "python",
      "pygments_lexer": "ipython3",
      "version": "3.9.12"
    }
  },
  "nbformat": 4,
  "nbformat_minor": 0
}
