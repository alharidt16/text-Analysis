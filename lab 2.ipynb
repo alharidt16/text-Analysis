{
 "cells": [
  {
   "cell_type": "code",
   "execution_count": 6,
   "metadata": {},
   "outputs": [
    {
     "name": "stdout",
     "output_type": "stream",
     "text": [
      "Hasil Diagnosis: flu\n"
     ]
    }
   ],
   "source": [
    "class SistemPakar:\n",
    "    def __init__(self):\n",
    "        self.pengetahuan = {\n",
    "        \"flu\": [\"demam\", \"hidung berlendir\", \"batuk\", \"sakit tenggorokan\"],\n",
    "        \"alergi\": [\"hidung gatal\", \"bersin\", \"gatal-gatal di mata\"]\n",
    "        }\n",
    "\n",
    "    def deteksi_penyakit(self, gejala):\n",
    "        for penyakit, gejala_penyakit in self.pengetahuan.items():\n",
    "            if all(gejala in gejala_penyakit for gejala in gejala):\n",
    "                return penyakit\n",
    "        return \"Penyakit tidak dikenali\"   \n",
    "\n",
    "# Contoh penggunaan\n",
    "sistem = SistemPakar()\n",
    "\n",
    "gejala_pengguna = [\"demam\", \"hidung berlendir\", \"batuk\"]\n",
    "hasil_diagnosis = sistem.deteksi_penyakit(gejala_pengguna)\n",
    "\n",
    "print(\"Hasil Diagnosis:\", hasil_diagnosis)   \n",
    "\n",
    " "
   ]
  }
 ],
 "metadata": {
  "kernelspec": {
   "display_name": "Python 3",
   "language": "python",
   "name": "python3"
  },
  "language_info": {
   "codemirror_mode": {
    "name": "ipython",
    "version": 3
   },
   "file_extension": ".py",
   "mimetype": "text/x-python",
   "name": "python",
   "nbconvert_exporter": "python",
   "pygments_lexer": "ipython3",
   "version": "3.11.5"
  }
 },
 "nbformat": 4,
 "nbformat_minor": 2
}
