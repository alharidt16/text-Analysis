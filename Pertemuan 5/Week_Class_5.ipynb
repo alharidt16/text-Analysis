{
  "cells": [
    {
      "cell_type": "markdown",
      "metadata": {
        "colab_type": "text",
        "id": "view-in-github"
      },
      "source": [
        "<a href=\"https://colab.research.google.com/github/muhajirakbarhsb/NLP_class_2023/blob/main/Week_Class_5.ipynb\" target=\"_parent\"><img src=\"https://colab.research.google.com/assets/colab-badge.svg\" alt=\"Open In Colab\"/></a>"
      ]
    },
    {
      "cell_type": "markdown",
      "metadata": {
        "id": "H43tCKa7vzc9"
      },
      "source": [
        "## Week Class 5"
      ]
    },
    {
      "cell_type": "code",
      "execution_count": 1,
      "metadata": {
        "id": "XWpXoMJov3M3"
      },
      "outputs": [],
      "source": [
        "import pandas as pd\n",
        "import numpy as np"
      ]
    },
    {
      "cell_type": "code",
      "execution_count": 2,
      "metadata": {
        "colab": {
          "base_uri": "https://localhost:8080/",
          "height": 597
        },
        "id": "f_j7bmGBv99F",
        "outputId": "e3eec91b-aed3-4bb9-f8a2-14df54f8d31f"
      },
      "outputs": [
        {
          "data": {
            "text/html": [
              "<div>\n",
              "<style scoped>\n",
              "    .dataframe tbody tr th:only-of-type {\n",
              "        vertical-align: middle;\n",
              "    }\n",
              "\n",
              "    .dataframe tbody tr th {\n",
              "        vertical-align: top;\n",
              "    }\n",
              "\n",
              "    .dataframe thead th {\n",
              "        text-align: right;\n",
              "    }\n",
              "</style>\n",
              "<table border=\"1\" class=\"dataframe\">\n",
              "  <thead>\n",
              "    <tr style=\"text-align: right;\">\n",
              "      <th></th>\n",
              "      <th>at</th>\n",
              "      <th>content</th>\n",
              "      <th>score</th>\n",
              "      <th>userName</th>\n",
              "      <th>contentp</th>\n",
              "      <th>contentp_clean</th>\n",
              "      <th>text_length</th>\n",
              "    </tr>\n",
              "  </thead>\n",
              "  <tbody>\n",
              "    <tr>\n",
              "      <th>0</th>\n",
              "      <td>2023-09-24 14:03:39</td>\n",
              "      <td>Aplikasi ini sangat tidak bagus saya sangatla ...</td>\n",
              "      <td>1</td>\n",
              "      <td>Qinnaya</td>\n",
              "      <td>aplikasi ini sangat tidak bagus saya sangatla ...</td>\n",
              "      <td>aplikasi sangat bagus sangatla marah saya hapu...</td>\n",
              "      <td>56</td>\n",
              "    </tr>\n",
              "    <tr>\n",
              "      <th>1</th>\n",
              "      <td>2023-09-24 12:41:29</td>\n",
              "      <td>sangat berguna sekali ya teman teman</td>\n",
              "      <td>5</td>\n",
              "      <td>Ananta Pebrianto</td>\n",
              "      <td>sangat berguna sekali ya teman teman</td>\n",
              "      <td>sangat sekali teman teman</td>\n",
              "      <td>25</td>\n",
              "    </tr>\n",
              "    <tr>\n",
              "      <th>2</th>\n",
              "      <td>2023-09-24 12:04:00</td>\n",
              "      <td>Its just so useful for me</td>\n",
              "      <td>5</td>\n",
              "      <td>Dokkan JP</td>\n",
              "      <td>its just so useful for me</td>\n",
              "      <td>it is just so useful for me</td>\n",
              "      <td>27</td>\n",
              "    </tr>\n",
              "    <tr>\n",
              "      <th>3</th>\n",
              "      <td>2023-09-24 10:25:59</td>\n",
              "      <td>membuat pintar umat manusia</td>\n",
              "      <td>5</td>\n",
              "      <td>DafiUwU GamingXD</td>\n",
              "      <td>membuat pintar umat manusia</td>\n",
              "      <td>buat pintar umat manusia</td>\n",
              "      <td>24</td>\n",
              "    </tr>\n",
              "    <tr>\n",
              "      <th>4</th>\n",
              "      <td>2023-09-24 10:04:36</td>\n",
              "      <td>nicee</td>\n",
              "      <td>5</td>\n",
              "      <td>Dean F</td>\n",
              "      <td>nicee</td>\n",
              "      <td>nice</td>\n",
              "      <td>4</td>\n",
              "    </tr>\n",
              "    <tr>\n",
              "      <th>...</th>\n",
              "      <td>...</td>\n",
              "      <td>...</td>\n",
              "      <td>...</td>\n",
              "      <td>...</td>\n",
              "      <td>...</td>\n",
              "      <td>...</td>\n",
              "      <td>...</td>\n",
              "    </tr>\n",
              "    <tr>\n",
              "      <th>195</th>\n",
              "      <td>2023-09-12 19:21:14</td>\n",
              "      <td>good</td>\n",
              "      <td>5</td>\n",
              "      <td>danu prabowo</td>\n",
              "      <td>good</td>\n",
              "      <td>good</td>\n",
              "      <td>4</td>\n",
              "    </tr>\n",
              "    <tr>\n",
              "      <th>196</th>\n",
              "      <td>2023-09-12 18:15:12</td>\n",
              "      <td>saya amat sangat bahagia telah menemukan ChatG...</td>\n",
              "      <td>5</td>\n",
              "      <td>KHARISMA PUTRI WIBOWO</td>\n",
              "      <td>saya amat sangat bahagia telah menemukan chatg...</td>\n",
              "      <td>amat sangat bahagia temu chatgpt rupa temu lua...</td>\n",
              "      <td>98</td>\n",
              "    </tr>\n",
              "    <tr>\n",
              "      <th>197</th>\n",
              "      <td>2023-09-12 15:27:48</td>\n",
              "      <td>Mengecewakan. Ga bisa diedit.</td>\n",
              "      <td>2</td>\n",
              "      <td>Edy Rahman</td>\n",
              "      <td>mengecewakan ga bisa diedit</td>\n",
              "      <td>kecewa bisa edit</td>\n",
              "      <td>16</td>\n",
              "    </tr>\n",
              "    <tr>\n",
              "      <th>198</th>\n",
              "      <td>2023-09-12 14:52:51</td>\n",
              "      <td>sungguh sangat membantu jawabannya layan Tepat...</td>\n",
              "      <td>5</td>\n",
              "      <td>Fery Printing</td>\n",
              "      <td>sungguh sangat membantu jawabannya layan tepat...</td>\n",
              "      <td>sungguh sangat bantu jawab layan tepat sayang ...</td>\n",
              "      <td>126</td>\n",
              "    </tr>\n",
              "    <tr>\n",
              "      <th>199</th>\n",
              "      <td>2023-09-12 13:22:14</td>\n",
              "      <td>Bagus banget aplikasi nya tapi... terkadang be...</td>\n",
              "      <td>5</td>\n",
              "      <td>Davidteguh</td>\n",
              "      <td>bagus banget aplikasi nya tapi terkadang beber...</td>\n",
              "      <td>bagus banget aplikasi nya terkadang beberapa t...</td>\n",
              "      <td>83</td>\n",
              "    </tr>\n",
              "  </tbody>\n",
              "</table>\n",
              "<p>200 rows × 7 columns</p>\n",
              "</div>"
            ],
            "text/plain": [
              "                      at                                            content  \\\n",
              "0    2023-09-24 14:03:39  Aplikasi ini sangat tidak bagus saya sangatla ...   \n",
              "1    2023-09-24 12:41:29               sangat berguna sekali ya teman teman   \n",
              "2    2023-09-24 12:04:00                          Its just so useful for me   \n",
              "3    2023-09-24 10:25:59                        membuat pintar umat manusia   \n",
              "4    2023-09-24 10:04:36                                              nicee   \n",
              "..                   ...                                                ...   \n",
              "195  2023-09-12 19:21:14                                               good   \n",
              "196  2023-09-12 18:15:12  saya amat sangat bahagia telah menemukan ChatG...   \n",
              "197  2023-09-12 15:27:48                      Mengecewakan. Ga bisa diedit.   \n",
              "198  2023-09-12 14:52:51  sungguh sangat membantu jawabannya layan Tepat...   \n",
              "199  2023-09-12 13:22:14  Bagus banget aplikasi nya tapi... terkadang be...   \n",
              "\n",
              "     score               userName  \\\n",
              "0        1                Qinnaya   \n",
              "1        5       Ananta Pebrianto   \n",
              "2        5              Dokkan JP   \n",
              "3        5       DafiUwU GamingXD   \n",
              "4        5                 Dean F   \n",
              "..     ...                    ...   \n",
              "195      5           danu prabowo   \n",
              "196      5  KHARISMA PUTRI WIBOWO   \n",
              "197      2             Edy Rahman   \n",
              "198      5          Fery Printing   \n",
              "199      5             Davidteguh   \n",
              "\n",
              "                                              contentp  \\\n",
              "0    aplikasi ini sangat tidak bagus saya sangatla ...   \n",
              "1                 sangat berguna sekali ya teman teman   \n",
              "2                            its just so useful for me   \n",
              "3                          membuat pintar umat manusia   \n",
              "4                                                nicee   \n",
              "..                                                 ...   \n",
              "195                                               good   \n",
              "196  saya amat sangat bahagia telah menemukan chatg...   \n",
              "197                        mengecewakan ga bisa diedit   \n",
              "198  sungguh sangat membantu jawabannya layan tepat...   \n",
              "199  bagus banget aplikasi nya tapi terkadang beber...   \n",
              "\n",
              "                                        contentp_clean  text_length  \n",
              "0    aplikasi sangat bagus sangatla marah saya hapu...           56  \n",
              "1                            sangat sekali teman teman           25  \n",
              "2                          it is just so useful for me           27  \n",
              "3                             buat pintar umat manusia           24  \n",
              "4                                                 nice            4  \n",
              "..                                                 ...          ...  \n",
              "195                                               good            4  \n",
              "196  amat sangat bahagia temu chatgpt rupa temu lua...           98  \n",
              "197                                   kecewa bisa edit           16  \n",
              "198  sungguh sangat bantu jawab layan tepat sayang ...          126  \n",
              "199  bagus banget aplikasi nya terkadang beberapa t...           83  \n",
              "\n",
              "[200 rows x 7 columns]"
            ]
          },
          "execution_count": 2,
          "metadata": {},
          "output_type": "execute_result"
        }
      ],
      "source": [
        "df = pd.read_csv('gpt_clean_review.csv')\n",
        "df"
      ]
    },
    {
      "cell_type": "code",
      "execution_count": 3,
      "metadata": {
        "id": "GvsizlvFzbFN"
      },
      "outputs": [],
      "source": [
        "df['sentiment_first_scheme'] = df['score'].apply(lambda x: 'negative' if x in [1, 2] else 'positive')\n",
        "\n",
        "# Sentiment analysis based on the second scheme\n",
        "df['sentiment_second_scheme'] = df['score'].apply(lambda x: 'negative' if x in [1, 2] else ('neutral' if x == 3 else 'positive'))"
      ]
    },
    {
      "cell_type": "code",
      "execution_count": 4,
      "metadata": {
        "colab": {
          "base_uri": "https://localhost:8080/"
        },
        "id": "QF9VR4tEz89W",
        "outputId": "6ef80234-ccd3-4880-c5b3-28c6059122fc"
      },
      "outputs": [
        {
          "data": {
            "text/plain": [
              "sentiment_second_scheme\n",
              "positive    182\n",
              "negative     13\n",
              "neutral       5\n",
              "Name: count, dtype: int64"
            ]
          },
          "execution_count": 4,
          "metadata": {},
          "output_type": "execute_result"
        }
      ],
      "source": [
        "df.sentiment_second_scheme.value_counts()"
      ]
    },
    {
      "cell_type": "code",
      "execution_count": 5,
      "metadata": {
        "colab": {
          "base_uri": "https://localhost:8080/"
        },
        "id": "7P06J9GW0Iog",
        "outputId": "9a28567c-6434-4d88-bd43-d0e9fcc8d3ed"
      },
      "outputs": [
        {
          "data": {
            "text/plain": [
              "sentiment_first_scheme\n",
              "positive    187\n",
              "negative     13\n",
              "Name: count, dtype: int64"
            ]
          },
          "execution_count": 5,
          "metadata": {},
          "output_type": "execute_result"
        }
      ],
      "source": [
        "df.sentiment_first_scheme.value_counts()"
      ]
    },
    {
      "cell_type": "markdown",
      "metadata": {
        "id": "MaSvlnQO6oM2"
      },
      "source": [
        "### Classification Process"
      ]
    },
    {
      "cell_type": "code",
      "execution_count": 6,
      "metadata": {
        "id": "FBJ2K3ei6sNt"
      },
      "outputs": [],
      "source": [
        "import pandas as pd\n",
        "from sklearn.model_selection import train_test_split\n",
        "from sklearn.feature_extraction.text import TfidfVectorizer\n",
        "from sklearn.linear_model import LogisticRegression\n",
        "from sklearn.metrics import classification_report"
      ]
    },
    {
      "cell_type": "code",
      "execution_count": 7,
      "metadata": {
        "id": "DDBaqZCb7dwk"
      },
      "outputs": [
        {
          "name": "stderr",
          "output_type": "stream",
          "text": [
            "C:\\Users\\Alharidt\\AppData\\Local\\Temp\\ipykernel_3368\\3942706650.py:4: SettingWithCopyWarning: \n",
            "A value is trying to be set on a copy of a slice from a DataFrame\n",
            "\n",
            "See the caveats in the documentation: https://pandas.pydata.org/pandas-docs/stable/user_guide/indexing.html#returning-a-view-versus-a-copy\n",
            "  df['contentp_clean'].fillna('', inplace=True)\n"
          ]
        }
      ],
      "source": [
        "df = df[['contentp_clean', 'sentiment_first_scheme', 'score']]\n",
        "missing_values = df['contentp_clean'].isna().sum()\n",
        "if missing_values > 0:\n",
        "    df['contentp_clean'].fillna('', inplace=True)\n"
      ]
    },
    {
      "cell_type": "code",
      "execution_count": 8,
      "metadata": {
        "id": "uo5a1CRu6uh6"
      },
      "outputs": [],
      "source": [
        "X = df['contentp_clean']  # Text data\n",
        "y_binary = (df['sentiment_first_scheme'] == 'positive').astype(int)  # Binary labels (1 for positive, 0 for negative)\n",
        "y_multi = df['score']  # Multi-class labels (original star ratings)\n",
        "\n",
        "X_train, X_test, y_binary_train, y_binary_test, y_multi_train, y_multi_test = train_test_split(\n",
        "    X, y_binary, y_multi, test_size=0.2, random_state=42)"
      ]
    },
    {
      "cell_type": "code",
      "execution_count": 9,
      "metadata": {
        "id": "CXgvl8FR75Tl"
      },
      "outputs": [],
      "source": [
        "tfidf_vectorizer = TfidfVectorizer(max_features=5000)  # You can adjust max_features as needed\n",
        "X_train_tfidf = tfidf_vectorizer.fit_transform(X_train)\n",
        "X_test_tfidf = tfidf_vectorizer.transform(X_test)"
      ]
    },
    {
      "cell_type": "code",
      "execution_count": 10,
      "metadata": {
        "colab": {
          "base_uri": "https://localhost:8080/"
        },
        "id": "N_Ons9M_8c7F",
        "outputId": "7740aa01-7a1f-4485-94b2-612ad5c23ecc"
      },
      "outputs": [
        {
          "data": {
            "text/plain": [
              "<160x415 sparse matrix of type '<class 'numpy.float64'>'\n",
              "\twith 858 stored elements in Compressed Sparse Row format>"
            ]
          },
          "execution_count": 10,
          "metadata": {},
          "output_type": "execute_result"
        }
      ],
      "source": [
        "X_train_tfidf"
      ]
    },
    {
      "cell_type": "code",
      "execution_count": 11,
      "metadata": {
        "colab": {
          "base_uri": "https://localhost:8080/"
        },
        "id": "iGGKEESs8q9i",
        "outputId": "17cc98a7-4516-452e-dabe-2c6f1dcb8ece"
      },
      "outputs": [
        {
          "name": "stdout",
          "output_type": "stream",
          "text": [
            "TF-IDF representation of X_train:\n",
            "[[0. 0. 0. ... 0. 0. 0.]\n",
            " [0. 0. 0. ... 0. 0. 0.]\n",
            " [0. 0. 0. ... 0. 0. 0.]\n",
            " ...\n",
            " [0. 0. 0. ... 0. 0. 0.]\n",
            " [0. 0. 0. ... 0. 0. 0.]\n",
            " [0. 0. 0. ... 0. 0. 0.]]\n"
          ]
        }
      ],
      "source": [
        "X_train_tfidf_dense = X_train_tfidf.toarray()\n",
        "\n",
        "# Print the TF-IDF representation\n",
        "print(\"TF-IDF representation of X_train:\")\n",
        "print(X_train_tfidf_dense)"
      ]
    },
    {
      "cell_type": "code",
      "execution_count": 12,
      "metadata": {
        "id": "wN5NSrJc8tNX"
      },
      "outputs": [],
      "source": [
        "binary_classifier = LogisticRegression()\n",
        "binary_classifier.fit(X_train_tfidf, y_binary_train)\n",
        "binary_predictions = binary_classifier.predict(X_test_tfidf)"
      ]
    },
    {
      "cell_type": "code",
      "execution_count": 13,
      "metadata": {
        "colab": {
          "base_uri": "https://localhost:8080/"
        },
        "id": "Cwyo0cnd85vv",
        "outputId": "5ace4d52-1525-42f6-c7f9-807c90c9f888"
      },
      "outputs": [
        {
          "name": "stdout",
          "output_type": "stream",
          "text": [
            "Binary Classification Report:\n",
            "              precision    recall  f1-score   support\n",
            "\n",
            "           0       0.00      0.00      0.00         2\n",
            "           1       0.95      1.00      0.97        38\n",
            "\n",
            "    accuracy                           0.95        40\n",
            "   macro avg       0.47      0.50      0.49        40\n",
            "weighted avg       0.90      0.95      0.93        40\n",
            "\n"
          ]
        },
        {
          "name": "stderr",
          "output_type": "stream",
          "text": [
            "C:\\Users\\Alharidt\\AppData\\Roaming\\Python\\Python311\\site-packages\\sklearn\\metrics\\_classification.py:1469: UndefinedMetricWarning: Precision and F-score are ill-defined and being set to 0.0 in labels with no predicted samples. Use `zero_division` parameter to control this behavior.\n",
            "  _warn_prf(average, modifier, msg_start, len(result))\n",
            "C:\\Users\\Alharidt\\AppData\\Roaming\\Python\\Python311\\site-packages\\sklearn\\metrics\\_classification.py:1469: UndefinedMetricWarning: Precision and F-score are ill-defined and being set to 0.0 in labels with no predicted samples. Use `zero_division` parameter to control this behavior.\n",
            "  _warn_prf(average, modifier, msg_start, len(result))\n",
            "C:\\Users\\Alharidt\\AppData\\Roaming\\Python\\Python311\\site-packages\\sklearn\\metrics\\_classification.py:1469: UndefinedMetricWarning: Precision and F-score are ill-defined and being set to 0.0 in labels with no predicted samples. Use `zero_division` parameter to control this behavior.\n",
            "  _warn_prf(average, modifier, msg_start, len(result))\n"
          ]
        }
      ],
      "source": [
        "print(\"Binary Classification Report:\")\n",
        "print(classification_report(y_binary_test, binary_predictions))"
      ]
    },
    {
      "cell_type": "code",
      "execution_count": 14,
      "metadata": {},
      "outputs": [],
      "source": [
        "#!pip install xgboost"
      ]
    },
    {
      "cell_type": "code",
      "execution_count": 15,
      "metadata": {
        "id": "hr27fZLq9j_w"
      },
      "outputs": [],
      "source": [
        "from sklearn.model_selection import train_test_split, GridSearchCV\n",
        "from sklearn.feature_extraction.text import TfidfVectorizer\n",
        "from sklearn.ensemble import RandomForestClassifier\n",
        "from xgboost import XGBClassifier\n",
        "from sklearn.metrics import classification_report"
      ]
    },
    {
      "cell_type": "code",
      "execution_count": 16,
      "metadata": {
        "colab": {
          "base_uri": "https://localhost:8080/"
        },
        "id": "Z_-u5VD89sKn",
        "outputId": "255e0eee-ff35-487e-bfe9-cee74ce98822"
      },
      "outputs": [
        {
          "name": "stderr",
          "output_type": "stream",
          "text": [
            "C:\\Users\\Alharidt\\AppData\\Roaming\\Python\\Python311\\site-packages\\xgboost\\data.py:520: FutureWarning: is_sparse is deprecated and will be removed in a future version. Check `isinstance(dtype, pd.SparseDtype)` instead.\n",
            "  if is_sparse(data):\n",
            "C:\\Users\\Alharidt\\AppData\\Roaming\\Python\\Python311\\site-packages\\xgboost\\data.py:520: FutureWarning: is_sparse is deprecated and will be removed in a future version. Check `isinstance(dtype, pd.SparseDtype)` instead.\n",
            "  if is_sparse(data):\n",
            "C:\\Users\\Alharidt\\AppData\\Roaming\\Python\\Python311\\site-packages\\xgboost\\data.py:520: FutureWarning: is_sparse is deprecated and will be removed in a future version. Check `isinstance(dtype, pd.SparseDtype)` instead.\n",
            "  if is_sparse(data):\n",
            "C:\\Users\\Alharidt\\AppData\\Roaming\\Python\\Python311\\site-packages\\xgboost\\data.py:520: FutureWarning: is_sparse is deprecated and will be removed in a future version. Check `isinstance(dtype, pd.SparseDtype)` instead.\n",
            "  if is_sparse(data):\n",
            "C:\\Users\\Alharidt\\AppData\\Roaming\\Python\\Python311\\site-packages\\xgboost\\data.py:520: FutureWarning: is_sparse is deprecated and will be removed in a future version. Check `isinstance(dtype, pd.SparseDtype)` instead.\n",
            "  if is_sparse(data):\n",
            "C:\\Users\\Alharidt\\AppData\\Roaming\\Python\\Python311\\site-packages\\xgboost\\data.py:520: FutureWarning: is_sparse is deprecated and will be removed in a future version. Check `isinstance(dtype, pd.SparseDtype)` instead.\n",
            "  if is_sparse(data):\n",
            "C:\\Users\\Alharidt\\AppData\\Roaming\\Python\\Python311\\site-packages\\xgboost\\data.py:520: FutureWarning: is_sparse is deprecated and will be removed in a future version. Check `isinstance(dtype, pd.SparseDtype)` instead.\n",
            "  if is_sparse(data):\n",
            "C:\\Users\\Alharidt\\AppData\\Roaming\\Python\\Python311\\site-packages\\xgboost\\data.py:520: FutureWarning: is_sparse is deprecated and will be removed in a future version. Check `isinstance(dtype, pd.SparseDtype)` instead.\n",
            "  if is_sparse(data):\n",
            "C:\\Users\\Alharidt\\AppData\\Roaming\\Python\\Python311\\site-packages\\xgboost\\data.py:520: FutureWarning: is_sparse is deprecated and will be removed in a future version. Check `isinstance(dtype, pd.SparseDtype)` instead.\n",
            "  if is_sparse(data):\n",
            "C:\\Users\\Alharidt\\AppData\\Roaming\\Python\\Python311\\site-packages\\xgboost\\data.py:520: FutureWarning: is_sparse is deprecated and will be removed in a future version. Check `isinstance(dtype, pd.SparseDtype)` instead.\n",
            "  if is_sparse(data):\n",
            "C:\\Users\\Alharidt\\AppData\\Roaming\\Python\\Python311\\site-packages\\xgboost\\data.py:520: FutureWarning: is_sparse is deprecated and will be removed in a future version. Check `isinstance(dtype, pd.SparseDtype)` instead.\n",
            "  if is_sparse(data):\n",
            "C:\\Users\\Alharidt\\AppData\\Roaming\\Python\\Python311\\site-packages\\xgboost\\data.py:520: FutureWarning: is_sparse is deprecated and will be removed in a future version. Check `isinstance(dtype, pd.SparseDtype)` instead.\n",
            "  if is_sparse(data):\n",
            "C:\\Users\\Alharidt\\AppData\\Roaming\\Python\\Python311\\site-packages\\xgboost\\data.py:520: FutureWarning: is_sparse is deprecated and will be removed in a future version. Check `isinstance(dtype, pd.SparseDtype)` instead.\n",
            "  if is_sparse(data):\n",
            "C:\\Users\\Alharidt\\AppData\\Roaming\\Python\\Python311\\site-packages\\xgboost\\data.py:520: FutureWarning: is_sparse is deprecated and will be removed in a future version. Check `isinstance(dtype, pd.SparseDtype)` instead.\n",
            "  if is_sparse(data):\n",
            "C:\\Users\\Alharidt\\AppData\\Roaming\\Python\\Python311\\site-packages\\xgboost\\data.py:520: FutureWarning: is_sparse is deprecated and will be removed in a future version. Check `isinstance(dtype, pd.SparseDtype)` instead.\n",
            "  if is_sparse(data):\n",
            "C:\\Users\\Alharidt\\AppData\\Roaming\\Python\\Python311\\site-packages\\xgboost\\data.py:520: FutureWarning: is_sparse is deprecated and will be removed in a future version. Check `isinstance(dtype, pd.SparseDtype)` instead.\n",
            "  if is_sparse(data):\n",
            "C:\\Users\\Alharidt\\AppData\\Roaming\\Python\\Python311\\site-packages\\xgboost\\data.py:520: FutureWarning: is_sparse is deprecated and will be removed in a future version. Check `isinstance(dtype, pd.SparseDtype)` instead.\n",
            "  if is_sparse(data):\n",
            "C:\\Users\\Alharidt\\AppData\\Roaming\\Python\\Python311\\site-packages\\xgboost\\data.py:520: FutureWarning: is_sparse is deprecated and will be removed in a future version. Check `isinstance(dtype, pd.SparseDtype)` instead.\n",
            "  if is_sparse(data):\n",
            "C:\\Users\\Alharidt\\AppData\\Roaming\\Python\\Python311\\site-packages\\xgboost\\data.py:520: FutureWarning: is_sparse is deprecated and will be removed in a future version. Check `isinstance(dtype, pd.SparseDtype)` instead.\n",
            "  if is_sparse(data):\n",
            "C:\\Users\\Alharidt\\AppData\\Roaming\\Python\\Python311\\site-packages\\xgboost\\data.py:520: FutureWarning: is_sparse is deprecated and will be removed in a future version. Check `isinstance(dtype, pd.SparseDtype)` instead.\n",
            "  if is_sparse(data):\n",
            "C:\\Users\\Alharidt\\AppData\\Roaming\\Python\\Python311\\site-packages\\xgboost\\data.py:520: FutureWarning: is_sparse is deprecated and will be removed in a future version. Check `isinstance(dtype, pd.SparseDtype)` instead.\n",
            "  if is_sparse(data):\n",
            "C:\\Users\\Alharidt\\AppData\\Roaming\\Python\\Python311\\site-packages\\xgboost\\data.py:520: FutureWarning: is_sparse is deprecated and will be removed in a future version. Check `isinstance(dtype, pd.SparseDtype)` instead.\n",
            "  if is_sparse(data):\n",
            "C:\\Users\\Alharidt\\AppData\\Roaming\\Python\\Python311\\site-packages\\xgboost\\data.py:520: FutureWarning: is_sparse is deprecated and will be removed in a future version. Check `isinstance(dtype, pd.SparseDtype)` instead.\n",
            "  if is_sparse(data):\n",
            "C:\\Users\\Alharidt\\AppData\\Roaming\\Python\\Python311\\site-packages\\xgboost\\data.py:520: FutureWarning: is_sparse is deprecated and will be removed in a future version. Check `isinstance(dtype, pd.SparseDtype)` instead.\n",
            "  if is_sparse(data):\n",
            "C:\\Users\\Alharidt\\AppData\\Roaming\\Python\\Python311\\site-packages\\xgboost\\data.py:520: FutureWarning: is_sparse is deprecated and will be removed in a future version. Check `isinstance(dtype, pd.SparseDtype)` instead.\n",
            "  if is_sparse(data):\n",
            "C:\\Users\\Alharidt\\AppData\\Roaming\\Python\\Python311\\site-packages\\xgboost\\data.py:520: FutureWarning: is_sparse is deprecated and will be removed in a future version. Check `isinstance(dtype, pd.SparseDtype)` instead.\n",
            "  if is_sparse(data):\n",
            "C:\\Users\\Alharidt\\AppData\\Roaming\\Python\\Python311\\site-packages\\xgboost\\data.py:520: FutureWarning: is_sparse is deprecated and will be removed in a future version. Check `isinstance(dtype, pd.SparseDtype)` instead.\n",
            "  if is_sparse(data):\n",
            "C:\\Users\\Alharidt\\AppData\\Roaming\\Python\\Python311\\site-packages\\xgboost\\data.py:520: FutureWarning: is_sparse is deprecated and will be removed in a future version. Check `isinstance(dtype, pd.SparseDtype)` instead.\n",
            "  if is_sparse(data):\n",
            "C:\\Users\\Alharidt\\AppData\\Roaming\\Python\\Python311\\site-packages\\xgboost\\data.py:520: FutureWarning: is_sparse is deprecated and will be removed in a future version. Check `isinstance(dtype, pd.SparseDtype)` instead.\n",
            "  if is_sparse(data):\n",
            "C:\\Users\\Alharidt\\AppData\\Roaming\\Python\\Python311\\site-packages\\xgboost\\data.py:520: FutureWarning: is_sparse is deprecated and will be removed in a future version. Check `isinstance(dtype, pd.SparseDtype)` instead.\n",
            "  if is_sparse(data):\n",
            "C:\\Users\\Alharidt\\AppData\\Roaming\\Python\\Python311\\site-packages\\xgboost\\data.py:520: FutureWarning: is_sparse is deprecated and will be removed in a future version. Check `isinstance(dtype, pd.SparseDtype)` instead.\n",
            "  if is_sparse(data):\n",
            "C:\\Users\\Alharidt\\AppData\\Roaming\\Python\\Python311\\site-packages\\xgboost\\data.py:520: FutureWarning: is_sparse is deprecated and will be removed in a future version. Check `isinstance(dtype, pd.SparseDtype)` instead.\n",
            "  if is_sparse(data):\n",
            "C:\\Users\\Alharidt\\AppData\\Roaming\\Python\\Python311\\site-packages\\xgboost\\data.py:520: FutureWarning: is_sparse is deprecated and will be removed in a future version. Check `isinstance(dtype, pd.SparseDtype)` instead.\n",
            "  if is_sparse(data):\n",
            "C:\\Users\\Alharidt\\AppData\\Roaming\\Python\\Python311\\site-packages\\xgboost\\data.py:520: FutureWarning: is_sparse is deprecated and will be removed in a future version. Check `isinstance(dtype, pd.SparseDtype)` instead.\n",
            "  if is_sparse(data):\n",
            "C:\\Users\\Alharidt\\AppData\\Roaming\\Python\\Python311\\site-packages\\xgboost\\data.py:520: FutureWarning: is_sparse is deprecated and will be removed in a future version. Check `isinstance(dtype, pd.SparseDtype)` instead.\n",
            "  if is_sparse(data):\n",
            "C:\\Users\\Alharidt\\AppData\\Roaming\\Python\\Python311\\site-packages\\xgboost\\data.py:520: FutureWarning: is_sparse is deprecated and will be removed in a future version. Check `isinstance(dtype, pd.SparseDtype)` instead.\n",
            "  if is_sparse(data):\n",
            "C:\\Users\\Alharidt\\AppData\\Roaming\\Python\\Python311\\site-packages\\xgboost\\data.py:520: FutureWarning: is_sparse is deprecated and will be removed in a future version. Check `isinstance(dtype, pd.SparseDtype)` instead.\n",
            "  if is_sparse(data):\n",
            "C:\\Users\\Alharidt\\AppData\\Roaming\\Python\\Python311\\site-packages\\xgboost\\data.py:520: FutureWarning: is_sparse is deprecated and will be removed in a future version. Check `isinstance(dtype, pd.SparseDtype)` instead.\n",
            "  if is_sparse(data):\n",
            "C:\\Users\\Alharidt\\AppData\\Roaming\\Python\\Python311\\site-packages\\xgboost\\data.py:520: FutureWarning: is_sparse is deprecated and will be removed in a future version. Check `isinstance(dtype, pd.SparseDtype)` instead.\n",
            "  if is_sparse(data):\n",
            "C:\\Users\\Alharidt\\AppData\\Roaming\\Python\\Python311\\site-packages\\xgboost\\data.py:520: FutureWarning: is_sparse is deprecated and will be removed in a future version. Check `isinstance(dtype, pd.SparseDtype)` instead.\n",
            "  if is_sparse(data):\n",
            "C:\\Users\\Alharidt\\AppData\\Roaming\\Python\\Python311\\site-packages\\xgboost\\data.py:520: FutureWarning: is_sparse is deprecated and will be removed in a future version. Check `isinstance(dtype, pd.SparseDtype)` instead.\n",
            "  if is_sparse(data):\n",
            "C:\\Users\\Alharidt\\AppData\\Roaming\\Python\\Python311\\site-packages\\xgboost\\data.py:520: FutureWarning: is_sparse is deprecated and will be removed in a future version. Check `isinstance(dtype, pd.SparseDtype)` instead.\n",
            "  if is_sparse(data):\n",
            "C:\\Users\\Alharidt\\AppData\\Roaming\\Python\\Python311\\site-packages\\xgboost\\data.py:520: FutureWarning: is_sparse is deprecated and will be removed in a future version. Check `isinstance(dtype, pd.SparseDtype)` instead.\n",
            "  if is_sparse(data):\n",
            "C:\\Users\\Alharidt\\AppData\\Roaming\\Python\\Python311\\site-packages\\xgboost\\data.py:520: FutureWarning: is_sparse is deprecated and will be removed in a future version. Check `isinstance(dtype, pd.SparseDtype)` instead.\n",
            "  if is_sparse(data):\n",
            "C:\\Users\\Alharidt\\AppData\\Roaming\\Python\\Python311\\site-packages\\xgboost\\data.py:520: FutureWarning: is_sparse is deprecated and will be removed in a future version. Check `isinstance(dtype, pd.SparseDtype)` instead.\n",
            "  if is_sparse(data):\n",
            "C:\\Users\\Alharidt\\AppData\\Roaming\\Python\\Python311\\site-packages\\xgboost\\data.py:520: FutureWarning: is_sparse is deprecated and will be removed in a future version. Check `isinstance(dtype, pd.SparseDtype)` instead.\n",
            "  if is_sparse(data):\n",
            "C:\\Users\\Alharidt\\AppData\\Roaming\\Python\\Python311\\site-packages\\xgboost\\data.py:520: FutureWarning: is_sparse is deprecated and will be removed in a future version. Check `isinstance(dtype, pd.SparseDtype)` instead.\n",
            "  if is_sparse(data):\n",
            "C:\\Users\\Alharidt\\AppData\\Roaming\\Python\\Python311\\site-packages\\xgboost\\data.py:520: FutureWarning: is_sparse is deprecated and will be removed in a future version. Check `isinstance(dtype, pd.SparseDtype)` instead.\n",
            "  if is_sparse(data):\n",
            "C:\\Users\\Alharidt\\AppData\\Roaming\\Python\\Python311\\site-packages\\xgboost\\data.py:520: FutureWarning: is_sparse is deprecated and will be removed in a future version. Check `isinstance(dtype, pd.SparseDtype)` instead.\n",
            "  if is_sparse(data):\n",
            "C:\\Users\\Alharidt\\AppData\\Roaming\\Python\\Python311\\site-packages\\xgboost\\data.py:520: FutureWarning: is_sparse is deprecated and will be removed in a future version. Check `isinstance(dtype, pd.SparseDtype)` instead.\n",
            "  if is_sparse(data):\n",
            "C:\\Users\\Alharidt\\AppData\\Roaming\\Python\\Python311\\site-packages\\xgboost\\data.py:520: FutureWarning: is_sparse is deprecated and will be removed in a future version. Check `isinstance(dtype, pd.SparseDtype)` instead.\n",
            "  if is_sparse(data):\n",
            "C:\\Users\\Alharidt\\AppData\\Roaming\\Python\\Python311\\site-packages\\xgboost\\data.py:520: FutureWarning: is_sparse is deprecated and will be removed in a future version. Check `isinstance(dtype, pd.SparseDtype)` instead.\n",
            "  if is_sparse(data):\n",
            "C:\\Users\\Alharidt\\AppData\\Roaming\\Python\\Python311\\site-packages\\xgboost\\data.py:520: FutureWarning: is_sparse is deprecated and will be removed in a future version. Check `isinstance(dtype, pd.SparseDtype)` instead.\n",
            "  if is_sparse(data):\n",
            "C:\\Users\\Alharidt\\AppData\\Roaming\\Python\\Python311\\site-packages\\xgboost\\data.py:520: FutureWarning: is_sparse is deprecated and will be removed in a future version. Check `isinstance(dtype, pd.SparseDtype)` instead.\n",
            "  if is_sparse(data):\n",
            "C:\\Users\\Alharidt\\AppData\\Roaming\\Python\\Python311\\site-packages\\xgboost\\data.py:520: FutureWarning: is_sparse is deprecated and will be removed in a future version. Check `isinstance(dtype, pd.SparseDtype)` instead.\n",
            "  if is_sparse(data):\n",
            "C:\\Users\\Alharidt\\AppData\\Roaming\\Python\\Python311\\site-packages\\xgboost\\data.py:520: FutureWarning: is_sparse is deprecated and will be removed in a future version. Check `isinstance(dtype, pd.SparseDtype)` instead.\n",
            "  if is_sparse(data):\n",
            "C:\\Users\\Alharidt\\AppData\\Roaming\\Python\\Python311\\site-packages\\xgboost\\data.py:520: FutureWarning: is_sparse is deprecated and will be removed in a future version. Check `isinstance(dtype, pd.SparseDtype)` instead.\n",
            "  if is_sparse(data):\n",
            "C:\\Users\\Alharidt\\AppData\\Roaming\\Python\\Python311\\site-packages\\xgboost\\data.py:520: FutureWarning: is_sparse is deprecated and will be removed in a future version. Check `isinstance(dtype, pd.SparseDtype)` instead.\n",
            "  if is_sparse(data):\n",
            "C:\\Users\\Alharidt\\AppData\\Roaming\\Python\\Python311\\site-packages\\xgboost\\data.py:520: FutureWarning: is_sparse is deprecated and will be removed in a future version. Check `isinstance(dtype, pd.SparseDtype)` instead.\n",
            "  if is_sparse(data):\n",
            "C:\\Users\\Alharidt\\AppData\\Roaming\\Python\\Python311\\site-packages\\xgboost\\data.py:520: FutureWarning: is_sparse is deprecated and will be removed in a future version. Check `isinstance(dtype, pd.SparseDtype)` instead.\n",
            "  if is_sparse(data):\n",
            "C:\\Users\\Alharidt\\AppData\\Roaming\\Python\\Python311\\site-packages\\xgboost\\data.py:520: FutureWarning: is_sparse is deprecated and will be removed in a future version. Check `isinstance(dtype, pd.SparseDtype)` instead.\n",
            "  if is_sparse(data):\n",
            "C:\\Users\\Alharidt\\AppData\\Roaming\\Python\\Python311\\site-packages\\xgboost\\data.py:520: FutureWarning: is_sparse is deprecated and will be removed in a future version. Check `isinstance(dtype, pd.SparseDtype)` instead.\n",
            "  if is_sparse(data):\n",
            "C:\\Users\\Alharidt\\AppData\\Roaming\\Python\\Python311\\site-packages\\xgboost\\data.py:520: FutureWarning: is_sparse is deprecated and will be removed in a future version. Check `isinstance(dtype, pd.SparseDtype)` instead.\n",
            "  if is_sparse(data):\n",
            "C:\\Users\\Alharidt\\AppData\\Roaming\\Python\\Python311\\site-packages\\xgboost\\data.py:520: FutureWarning: is_sparse is deprecated and will be removed in a future version. Check `isinstance(dtype, pd.SparseDtype)` instead.\n",
            "  if is_sparse(data):\n",
            "C:\\Users\\Alharidt\\AppData\\Roaming\\Python\\Python311\\site-packages\\xgboost\\data.py:520: FutureWarning: is_sparse is deprecated and will be removed in a future version. Check `isinstance(dtype, pd.SparseDtype)` instead.\n",
            "  if is_sparse(data):\n",
            "C:\\Users\\Alharidt\\AppData\\Roaming\\Python\\Python311\\site-packages\\xgboost\\data.py:520: FutureWarning: is_sparse is deprecated and will be removed in a future version. Check `isinstance(dtype, pd.SparseDtype)` instead.\n",
            "  if is_sparse(data):\n",
            "C:\\Users\\Alharidt\\AppData\\Roaming\\Python\\Python311\\site-packages\\xgboost\\data.py:520: FutureWarning: is_sparse is deprecated and will be removed in a future version. Check `isinstance(dtype, pd.SparseDtype)` instead.\n",
            "  if is_sparse(data):\n",
            "C:\\Users\\Alharidt\\AppData\\Roaming\\Python\\Python311\\site-packages\\xgboost\\data.py:520: FutureWarning: is_sparse is deprecated and will be removed in a future version. Check `isinstance(dtype, pd.SparseDtype)` instead.\n",
            "  if is_sparse(data):\n",
            "C:\\Users\\Alharidt\\AppData\\Roaming\\Python\\Python311\\site-packages\\xgboost\\data.py:520: FutureWarning: is_sparse is deprecated and will be removed in a future version. Check `isinstance(dtype, pd.SparseDtype)` instead.\n",
            "  if is_sparse(data):\n",
            "C:\\Users\\Alharidt\\AppData\\Roaming\\Python\\Python311\\site-packages\\xgboost\\data.py:520: FutureWarning: is_sparse is deprecated and will be removed in a future version. Check `isinstance(dtype, pd.SparseDtype)` instead.\n",
            "  if is_sparse(data):\n",
            "C:\\Users\\Alharidt\\AppData\\Roaming\\Python\\Python311\\site-packages\\xgboost\\data.py:520: FutureWarning: is_sparse is deprecated and will be removed in a future version. Check `isinstance(dtype, pd.SparseDtype)` instead.\n",
            "  if is_sparse(data):\n",
            "C:\\Users\\Alharidt\\AppData\\Roaming\\Python\\Python311\\site-packages\\xgboost\\data.py:520: FutureWarning: is_sparse is deprecated and will be removed in a future version. Check `isinstance(dtype, pd.SparseDtype)` instead.\n",
            "  if is_sparse(data):\n",
            "C:\\Users\\Alharidt\\AppData\\Roaming\\Python\\Python311\\site-packages\\xgboost\\data.py:520: FutureWarning: is_sparse is deprecated and will be removed in a future version. Check `isinstance(dtype, pd.SparseDtype)` instead.\n",
            "  if is_sparse(data):\n",
            "C:\\Users\\Alharidt\\AppData\\Roaming\\Python\\Python311\\site-packages\\xgboost\\data.py:520: FutureWarning: is_sparse is deprecated and will be removed in a future version. Check `isinstance(dtype, pd.SparseDtype)` instead.\n",
            "  if is_sparse(data):\n",
            "C:\\Users\\Alharidt\\AppData\\Roaming\\Python\\Python311\\site-packages\\xgboost\\data.py:520: FutureWarning: is_sparse is deprecated and will be removed in a future version. Check `isinstance(dtype, pd.SparseDtype)` instead.\n",
            "  if is_sparse(data):\n",
            "C:\\Users\\Alharidt\\AppData\\Roaming\\Python\\Python311\\site-packages\\xgboost\\data.py:520: FutureWarning: is_sparse is deprecated and will be removed in a future version. Check `isinstance(dtype, pd.SparseDtype)` instead.\n",
            "  if is_sparse(data):\n",
            "C:\\Users\\Alharidt\\AppData\\Roaming\\Python\\Python311\\site-packages\\xgboost\\data.py:520: FutureWarning: is_sparse is deprecated and will be removed in a future version. Check `isinstance(dtype, pd.SparseDtype)` instead.\n",
            "  if is_sparse(data):\n",
            "C:\\Users\\Alharidt\\AppData\\Roaming\\Python\\Python311\\site-packages\\xgboost\\data.py:520: FutureWarning: is_sparse is deprecated and will be removed in a future version. Check `isinstance(dtype, pd.SparseDtype)` instead.\n",
            "  if is_sparse(data):\n",
            "C:\\Users\\Alharidt\\AppData\\Roaming\\Python\\Python311\\site-packages\\xgboost\\data.py:520: FutureWarning: is_sparse is deprecated and will be removed in a future version. Check `isinstance(dtype, pd.SparseDtype)` instead.\n",
            "  if is_sparse(data):\n",
            "C:\\Users\\Alharidt\\AppData\\Roaming\\Python\\Python311\\site-packages\\xgboost\\data.py:520: FutureWarning: is_sparse is deprecated and will be removed in a future version. Check `isinstance(dtype, pd.SparseDtype)` instead.\n",
            "  if is_sparse(data):\n",
            "C:\\Users\\Alharidt\\AppData\\Roaming\\Python\\Python311\\site-packages\\xgboost\\data.py:520: FutureWarning: is_sparse is deprecated and will be removed in a future version. Check `isinstance(dtype, pd.SparseDtype)` instead.\n",
            "  if is_sparse(data):\n",
            "C:\\Users\\Alharidt\\AppData\\Roaming\\Python\\Python311\\site-packages\\xgboost\\data.py:520: FutureWarning: is_sparse is deprecated and will be removed in a future version. Check `isinstance(dtype, pd.SparseDtype)` instead.\n",
            "  if is_sparse(data):\n"
          ]
        },
        {
          "name": "stdout",
          "output_type": "stream",
          "text": [
            "Binary Classification Report (Random Forest):\n",
            "              precision    recall  f1-score   support\n",
            "\n",
            "           0       0.00      0.00      0.00         2\n",
            "           1       0.95      0.95      0.95        38\n",
            "\n",
            "    accuracy                           0.90        40\n",
            "   macro avg       0.47      0.47      0.47        40\n",
            "weighted avg       0.90      0.90      0.90        40\n",
            "\n",
            "Binary Classification Report (XGBoost):\n",
            "              precision    recall  f1-score   support\n",
            "\n",
            "           0       0.00      0.00      0.00         2\n",
            "           1       0.95      1.00      0.97        38\n",
            "\n",
            "    accuracy                           0.95        40\n",
            "   macro avg       0.47      0.50      0.49        40\n",
            "weighted avg       0.90      0.95      0.93        40\n",
            "\n"
          ]
        },
        {
          "name": "stderr",
          "output_type": "stream",
          "text": [
            "C:\\Users\\Alharidt\\AppData\\Roaming\\Python\\Python311\\site-packages\\sklearn\\metrics\\_classification.py:1469: UndefinedMetricWarning: Precision and F-score are ill-defined and being set to 0.0 in labels with no predicted samples. Use `zero_division` parameter to control this behavior.\n",
            "  _warn_prf(average, modifier, msg_start, len(result))\n",
            "C:\\Users\\Alharidt\\AppData\\Roaming\\Python\\Python311\\site-packages\\sklearn\\metrics\\_classification.py:1469: UndefinedMetricWarning: Precision and F-score are ill-defined and being set to 0.0 in labels with no predicted samples. Use `zero_division` parameter to control this behavior.\n",
            "  _warn_prf(average, modifier, msg_start, len(result))\n",
            "C:\\Users\\Alharidt\\AppData\\Roaming\\Python\\Python311\\site-packages\\sklearn\\metrics\\_classification.py:1469: UndefinedMetricWarning: Precision and F-score are ill-defined and being set to 0.0 in labels with no predicted samples. Use `zero_division` parameter to control this behavior.\n",
            "  _warn_prf(average, modifier, msg_start, len(result))\n"
          ]
        }
      ],
      "source": [
        "# Binary Classification with Random Forest and GridSearchCV\n",
        "rf_classifier = RandomForestClassifier()\n",
        "param_grid_rf = {'n_estimators': [100, 200, 300], 'max_depth': [None, 10, 20]}\n",
        "grid_search_rf = GridSearchCV(rf_classifier, param_grid_rf, cv=3, scoring='accuracy')\n",
        "grid_search_rf.fit(X_train_tfidf, y_binary_train)\n",
        "best_rf_model = grid_search_rf.best_estimator_\n",
        "binary_predictions_rf = best_rf_model.predict(X_test_tfidf)\n",
        "\n",
        "# Binary Classification with XGBoost and GridSearchCV\n",
        "xgb_classifier = XGBClassifier()\n",
        "param_grid_xgb = {'n_estimators': [100, 200, 300], 'max_depth': [3, 4, 5], 'learning_rate': [0.01, 0.1, 0.2]}\n",
        "grid_search_xgb = GridSearchCV(xgb_classifier, param_grid_xgb, cv=3, scoring='accuracy')\n",
        "grid_search_xgb.fit(X_train_tfidf, y_binary_train)\n",
        "best_xgb_model = grid_search_xgb.best_estimator_\n",
        "binary_predictions_xgb = best_xgb_model.predict(X_test_tfidf)\n",
        "\n",
        "# Evaluate binary classification model (Random Forest)\n",
        "print(\"Binary Classification Report (Random Forest):\")\n",
        "print(classification_report(y_binary_test, binary_predictions_rf))\n",
        "\n",
        "# Evaluate binary classification model (XGBoost)\n",
        "print(\"Binary Classification Report (XGBoost):\")\n",
        "print(classification_report(y_binary_test, binary_predictions_xgb))"
      ]
    },
    {
      "cell_type": "code",
      "execution_count": 17,
      "metadata": {
        "colab": {
          "base_uri": "https://localhost:8080/"
        },
        "id": "efx2A03x_L9A",
        "outputId": "aa8035fa-2a09-4e5b-ae60-ceab896f2b77"
      },
      "outputs": [
        {
          "name": "stdout",
          "output_type": "stream",
          "text": [
            "{'Random Forest Prediction': 'positive', 'XGBoost Prediction': 'positive', 'Logistic Regression Prediction': 'positive'}\n"
          ]
        }
      ],
      "source": [
        "def predict_sentiment(text):\n",
        "    # Preprocess the input text (e.g., remove punctuation, lowercase, etc.)\n",
        "    preprocessed_text = text.lower()  # You can add more pre-processing steps as needed\n",
        "\n",
        "    # Vectorize the preprocessed text using the TF-IDF vectorizer\n",
        "    text_vectorized = tfidf_vectorizer.transform([preprocessed_text])\n",
        "\n",
        "    # Predict sentiment using all three models\n",
        "    rf_prediction = best_rf_model.predict(text_vectorized)\n",
        "    xgb_prediction = best_xgb_model.predict(text_vectorized)\n",
        "    logistic_prediction = binary_classifier.predict(text_vectorized)\n",
        "\n",
        "    return {\n",
        "        \"Random Forest Prediction\": \"positive\" if rf_prediction[0] == 1 else \"negative\",\n",
        "        \"XGBoost Prediction\": \"positive\" if xgb_prediction[0] == 1 else \"negative\",\n",
        "        \"Logistic Regression Prediction\": \"positive\" if logistic_prediction[0] == 1 else \"negative\",\n",
        "    }\n",
        "\n",
        "# Example usage:\n",
        "input_text = \"telkomsel tidak jelas membuat produk, programmernya gaji buta\"\n",
        "sentiment_prediction = predict_sentiment(input_text)\n",
        "print(sentiment_prediction)"
      ]
    },
    {
      "cell_type": "code",
      "execution_count": 18,
      "metadata": {
        "colab": {
          "base_uri": "https://localhost:8080/"
        },
        "id": "05EDqNac_gcF",
        "outputId": "8ee72a9b-6b0b-473d-e23d-1171ea968483"
      },
      "outputs": [
        {
          "name": "stdout",
          "output_type": "stream",
          "text": [
            "{'Random Forest Prediction': 'positive', 'XGBoost Prediction': 'positive', 'Logistic Regression Prediction': 'positive'}\n"
          ]
        }
      ],
      "source": [
        "# Example usage:\n",
        "input_text = \"produknya oke, karyawannya juga ganteng dan tampan\"\n",
        "sentiment_prediction = predict_sentiment(input_text)\n",
        "print(sentiment_prediction)"
      ]
    },
    {
      "cell_type": "markdown",
      "metadata": {
        "id": "pHKxShYr_2J8"
      },
      "source": [
        "## MultiClass"
      ]
    },
    {
      "cell_type": "code",
      "execution_count": 19,
      "metadata": {
        "colab": {
          "base_uri": "https://localhost:8080/",
          "height": 423
        },
        "id": "nJoOGtkq_51f",
        "outputId": "dab97787-8c90-4e7f-95de-d84fa3eccbcc"
      },
      "outputs": [
        {
          "data": {
            "text/html": [
              "<div>\n",
              "<style scoped>\n",
              "    .dataframe tbody tr th:only-of-type {\n",
              "        vertical-align: middle;\n",
              "    }\n",
              "\n",
              "    .dataframe tbody tr th {\n",
              "        vertical-align: top;\n",
              "    }\n",
              "\n",
              "    .dataframe thead th {\n",
              "        text-align: right;\n",
              "    }\n",
              "</style>\n",
              "<table border=\"1\" class=\"dataframe\">\n",
              "  <thead>\n",
              "    <tr style=\"text-align: right;\">\n",
              "      <th></th>\n",
              "      <th>contentp_clean</th>\n",
              "      <th>sentiment_first_scheme</th>\n",
              "      <th>score</th>\n",
              "    </tr>\n",
              "  </thead>\n",
              "  <tbody>\n",
              "    <tr>\n",
              "      <th>0</th>\n",
              "      <td>aplikasi sangat bagus sangatla marah saya hapu...</td>\n",
              "      <td>negative</td>\n",
              "      <td>1</td>\n",
              "    </tr>\n",
              "    <tr>\n",
              "      <th>1</th>\n",
              "      <td>sangat sekali teman teman</td>\n",
              "      <td>positive</td>\n",
              "      <td>5</td>\n",
              "    </tr>\n",
              "    <tr>\n",
              "      <th>2</th>\n",
              "      <td>it is just so useful for me</td>\n",
              "      <td>positive</td>\n",
              "      <td>5</td>\n",
              "    </tr>\n",
              "    <tr>\n",
              "      <th>3</th>\n",
              "      <td>buat pintar umat manusia</td>\n",
              "      <td>positive</td>\n",
              "      <td>5</td>\n",
              "    </tr>\n",
              "    <tr>\n",
              "      <th>4</th>\n",
              "      <td>nice</td>\n",
              "      <td>positive</td>\n",
              "      <td>5</td>\n",
              "    </tr>\n",
              "    <tr>\n",
              "      <th>...</th>\n",
              "      <td>...</td>\n",
              "      <td>...</td>\n",
              "      <td>...</td>\n",
              "    </tr>\n",
              "    <tr>\n",
              "      <th>195</th>\n",
              "      <td>good</td>\n",
              "      <td>positive</td>\n",
              "      <td>5</td>\n",
              "    </tr>\n",
              "    <tr>\n",
              "      <th>196</th>\n",
              "      <td>amat sangat bahagia temu chatgpt rupa temu lua...</td>\n",
              "      <td>positive</td>\n",
              "      <td>5</td>\n",
              "    </tr>\n",
              "    <tr>\n",
              "      <th>197</th>\n",
              "      <td>kecewa bisa edit</td>\n",
              "      <td>negative</td>\n",
              "      <td>2</td>\n",
              "    </tr>\n",
              "    <tr>\n",
              "      <th>198</th>\n",
              "      <td>sungguh sangat bantu jawab layan tepat sayang ...</td>\n",
              "      <td>positive</td>\n",
              "      <td>5</td>\n",
              "    </tr>\n",
              "    <tr>\n",
              "      <th>199</th>\n",
              "      <td>bagus banget aplikasi nya terkadang beberapa t...</td>\n",
              "      <td>positive</td>\n",
              "      <td>5</td>\n",
              "    </tr>\n",
              "  </tbody>\n",
              "</table>\n",
              "<p>200 rows × 3 columns</p>\n",
              "</div>"
            ],
            "text/plain": [
              "                                        contentp_clean sentiment_first_scheme  \\\n",
              "0    aplikasi sangat bagus sangatla marah saya hapu...               negative   \n",
              "1                            sangat sekali teman teman               positive   \n",
              "2                          it is just so useful for me               positive   \n",
              "3                             buat pintar umat manusia               positive   \n",
              "4                                                 nice               positive   \n",
              "..                                                 ...                    ...   \n",
              "195                                               good               positive   \n",
              "196  amat sangat bahagia temu chatgpt rupa temu lua...               positive   \n",
              "197                                   kecewa bisa edit               negative   \n",
              "198  sungguh sangat bantu jawab layan tepat sayang ...               positive   \n",
              "199  bagus banget aplikasi nya terkadang beberapa t...               positive   \n",
              "\n",
              "     score  \n",
              "0        1  \n",
              "1        5  \n",
              "2        5  \n",
              "3        5  \n",
              "4        5  \n",
              "..     ...  \n",
              "195      5  \n",
              "196      5  \n",
              "197      2  \n",
              "198      5  \n",
              "199      5  \n",
              "\n",
              "[200 rows x 3 columns]"
            ]
          },
          "execution_count": 19,
          "metadata": {},
          "output_type": "execute_result"
        }
      ],
      "source": [
        "df"
      ]
    },
    {
      "cell_type": "code",
      "execution_count": 20,
      "metadata": {
        "colab": {
          "base_uri": "https://localhost:8080/",
          "height": 423
        },
        "id": "mClOur4BHWp0",
        "outputId": "07e79b71-7e72-46a6-c493-63a233b75600"
      },
      "outputs": [
        {
          "data": {
            "text/html": [
              "<div>\n",
              "<style scoped>\n",
              "    .dataframe tbody tr th:only-of-type {\n",
              "        vertical-align: middle;\n",
              "    }\n",
              "\n",
              "    .dataframe tbody tr th {\n",
              "        vertical-align: top;\n",
              "    }\n",
              "\n",
              "    .dataframe thead th {\n",
              "        text-align: right;\n",
              "    }\n",
              "</style>\n",
              "<table border=\"1\" class=\"dataframe\">\n",
              "  <thead>\n",
              "    <tr style=\"text-align: right;\">\n",
              "      <th></th>\n",
              "      <th>contentp_clean</th>\n",
              "      <th>sentiment_first_scheme</th>\n",
              "      <th>score</th>\n",
              "    </tr>\n",
              "  </thead>\n",
              "  <tbody>\n",
              "    <tr>\n",
              "      <th>0</th>\n",
              "      <td>aplikasi sangat bagus sangatla marah saya hapu...</td>\n",
              "      <td>negative</td>\n",
              "      <td>1</td>\n",
              "    </tr>\n",
              "    <tr>\n",
              "      <th>1</th>\n",
              "      <td>sangat sekali teman teman</td>\n",
              "      <td>positive</td>\n",
              "      <td>5</td>\n",
              "    </tr>\n",
              "    <tr>\n",
              "      <th>2</th>\n",
              "      <td>it is just so useful for me</td>\n",
              "      <td>positive</td>\n",
              "      <td>5</td>\n",
              "    </tr>\n",
              "    <tr>\n",
              "      <th>3</th>\n",
              "      <td>buat pintar umat manusia</td>\n",
              "      <td>positive</td>\n",
              "      <td>5</td>\n",
              "    </tr>\n",
              "    <tr>\n",
              "      <th>4</th>\n",
              "      <td>nice</td>\n",
              "      <td>positive</td>\n",
              "      <td>5</td>\n",
              "    </tr>\n",
              "    <tr>\n",
              "      <th>...</th>\n",
              "      <td>...</td>\n",
              "      <td>...</td>\n",
              "      <td>...</td>\n",
              "    </tr>\n",
              "    <tr>\n",
              "      <th>195</th>\n",
              "      <td>good</td>\n",
              "      <td>positive</td>\n",
              "      <td>5</td>\n",
              "    </tr>\n",
              "    <tr>\n",
              "      <th>196</th>\n",
              "      <td>amat sangat bahagia temu chatgpt rupa temu lua...</td>\n",
              "      <td>positive</td>\n",
              "      <td>5</td>\n",
              "    </tr>\n",
              "    <tr>\n",
              "      <th>197</th>\n",
              "      <td>kecewa bisa edit</td>\n",
              "      <td>negative</td>\n",
              "      <td>2</td>\n",
              "    </tr>\n",
              "    <tr>\n",
              "      <th>198</th>\n",
              "      <td>sungguh sangat bantu jawab layan tepat sayang ...</td>\n",
              "      <td>positive</td>\n",
              "      <td>5</td>\n",
              "    </tr>\n",
              "    <tr>\n",
              "      <th>199</th>\n",
              "      <td>bagus banget aplikasi nya terkadang beberapa t...</td>\n",
              "      <td>positive</td>\n",
              "      <td>5</td>\n",
              "    </tr>\n",
              "  </tbody>\n",
              "</table>\n",
              "<p>200 rows × 3 columns</p>\n",
              "</div>"
            ],
            "text/plain": [
              "                                        contentp_clean sentiment_first_scheme  \\\n",
              "0    aplikasi sangat bagus sangatla marah saya hapu...               negative   \n",
              "1                            sangat sekali teman teman               positive   \n",
              "2                          it is just so useful for me               positive   \n",
              "3                             buat pintar umat manusia               positive   \n",
              "4                                                 nice               positive   \n",
              "..                                                 ...                    ...   \n",
              "195                                               good               positive   \n",
              "196  amat sangat bahagia temu chatgpt rupa temu lua...               positive   \n",
              "197                                   kecewa bisa edit               negative   \n",
              "198  sungguh sangat bantu jawab layan tepat sayang ...               positive   \n",
              "199  bagus banget aplikasi nya terkadang beberapa t...               positive   \n",
              "\n",
              "     score  \n",
              "0        1  \n",
              "1        5  \n",
              "2        5  \n",
              "3        5  \n",
              "4        5  \n",
              "..     ...  \n",
              "195      5  \n",
              "196      5  \n",
              "197      2  \n",
              "198      5  \n",
              "199      5  \n",
              "\n",
              "[200 rows x 3 columns]"
            ]
          },
          "execution_count": 20,
          "metadata": {},
          "output_type": "execute_result"
        }
      ],
      "source": [
        "df"
      ]
    },
    {
      "cell_type": "code",
      "execution_count": 21,
      "metadata": {
        "id": "zBiDr2uFBntz"
      },
      "outputs": [
        {
          "name": "stderr",
          "output_type": "stream",
          "text": [
            "C:\\Users\\Alharidt\\AppData\\Local\\Temp\\ipykernel_3368\\1327490831.py:1: SettingWithCopyWarning: \n",
            "A value is trying to be set on a copy of a slice from a DataFrame.\n",
            "Try using .loc[row_indexer,col_indexer] = value instead\n",
            "\n",
            "See the caveats in the documentation: https://pandas.pydata.org/pandas-docs/stable/user_guide/indexing.html#returning-a-view-versus-a-copy\n",
            "  df['sentiment_second_scheme'] = df['score'].apply(lambda x: 'negative' if x in [1, 2] else ('neutral' if x == 3 else 'positive'))\n"
          ]
        }
      ],
      "source": [
        "\n",
        "df['sentiment_second_scheme'] = df['score'].apply(lambda x: 'negative' if x in [1, 2] else ('neutral' if x == 3 else 'positive'))"
      ]
    },
    {
      "cell_type": "code",
      "execution_count": 22,
      "metadata": {
        "id": "HhqM943hDQmf"
      },
      "outputs": [
        {
          "name": "stderr",
          "output_type": "stream",
          "text": [
            "C:\\Users\\Alharidt\\AppData\\Local\\Temp\\ipykernel_3368\\1314380004.py:3: SettingWithCopyWarning: \n",
            "A value is trying to be set on a copy of a slice from a DataFrame.\n",
            "Try using .loc[row_indexer,col_indexer] = value instead\n",
            "\n",
            "See the caveats in the documentation: https://pandas.pydata.org/pandas-docs/stable/user_guide/indexing.html#returning-a-view-versus-a-copy\n",
            "  df['sentiment_encoded'] = label_encoder.fit_transform(df['sentiment_second_scheme'])\n"
          ]
        }
      ],
      "source": [
        "from sklearn.preprocessing import LabelEncoder\n",
        "label_encoder = LabelEncoder()\n",
        "df['sentiment_encoded'] = label_encoder.fit_transform(df['sentiment_second_scheme'])\n",
        "\n",
        "\n"
      ]
    },
    {
      "cell_type": "code",
      "execution_count": 23,
      "metadata": {
        "id": "DvaKJp8FBpx4"
      },
      "outputs": [],
      "source": [
        "X = df['contentp_clean']  # Text data\n",
        "y_multi = df['sentiment_encoded']  # Multi-class labels (\"positive,\" \"negative,\" \"neutral\")\n",
        "\n",
        "X_train, X_test, y_multi_train, y_multi_test = train_test_split(\n",
        "    X, y_multi, test_size=0.2, random_state=42\n",
        ")"
      ]
    },
    {
      "cell_type": "code",
      "execution_count": 24,
      "metadata": {
        "colab": {
          "base_uri": "https://localhost:8080/"
        },
        "id": "ERpeTgKOB7Qf",
        "outputId": "5016c71a-9cee-4c04-b88d-3e2e51527aa6"
      },
      "outputs": [
        {
          "name": "stdout",
          "output_type": "stream",
          "text": [
            "Multi-class Classification Report (Logistic Regression):\n",
            "              precision    recall  f1-score   support\n",
            "\n",
            "           0       0.00      0.00      0.00         2\n",
            "           1       0.00      0.00      0.00         1\n",
            "           2       0.93      1.00      0.96        37\n",
            "\n",
            "    accuracy                           0.93        40\n",
            "   macro avg       0.31      0.33      0.32        40\n",
            "weighted avg       0.86      0.93      0.89        40\n",
            "\n"
          ]
        },
        {
          "name": "stderr",
          "output_type": "stream",
          "text": [
            "C:\\Users\\Alharidt\\AppData\\Roaming\\Python\\Python311\\site-packages\\sklearn\\metrics\\_classification.py:1469: UndefinedMetricWarning: Precision and F-score are ill-defined and being set to 0.0 in labels with no predicted samples. Use `zero_division` parameter to control this behavior.\n",
            "  _warn_prf(average, modifier, msg_start, len(result))\n",
            "C:\\Users\\Alharidt\\AppData\\Roaming\\Python\\Python311\\site-packages\\sklearn\\metrics\\_classification.py:1469: UndefinedMetricWarning: Precision and F-score are ill-defined and being set to 0.0 in labels with no predicted samples. Use `zero_division` parameter to control this behavior.\n",
            "  _warn_prf(average, modifier, msg_start, len(result))\n",
            "C:\\Users\\Alharidt\\AppData\\Roaming\\Python\\Python311\\site-packages\\sklearn\\metrics\\_classification.py:1469: UndefinedMetricWarning: Precision and F-score are ill-defined and being set to 0.0 in labels with no predicted samples. Use `zero_division` parameter to control this behavior.\n",
            "  _warn_prf(average, modifier, msg_start, len(result))\n"
          ]
        }
      ],
      "source": [
        "# TF-IDF vectorization\n",
        "tfidf_vectorizer = TfidfVectorizer(max_features=5000)  # You can adjust max_features as needed\n",
        "X_train_tfidf = tfidf_vectorizer.fit_transform(X_train)\n",
        "X_test_tfidf = tfidf_vectorizer.transform(X_test)\n",
        "\n",
        "# Multi-class Classification with Logistic Regression\n",
        "logistic_classifier = LogisticRegression(max_iter=1000)\n",
        "logistic_classifier.fit(X_train_tfidf, y_multi_train)\n",
        "\n",
        "# Predict multi-class sentiment using Logistic Regression\n",
        "multi_predictions_logistic = logistic_classifier.predict(X_test_tfidf)\n",
        "\n",
        "# Evaluate multi-class classification model (Logistic Regression)\n",
        "print(\"Multi-class Classification Report (Logistic Regression):\")\n",
        "print(classification_report(y_multi_test, multi_predictions_logistic))"
      ]
    },
    {
      "cell_type": "code",
      "execution_count": 25,
      "metadata": {
        "id": "QyRfMIevCMCC"
      },
      "outputs": [
        {
          "name": "stderr",
          "output_type": "stream",
          "text": [
            "C:\\Users\\Alharidt\\AppData\\Roaming\\Python\\Python311\\site-packages\\xgboost\\data.py:520: FutureWarning: is_sparse is deprecated and will be removed in a future version. Check `isinstance(dtype, pd.SparseDtype)` instead.\n",
            "  if is_sparse(data):\n",
            "C:\\Users\\Alharidt\\AppData\\Roaming\\Python\\Python311\\site-packages\\xgboost\\data.py:520: FutureWarning: is_sparse is deprecated and will be removed in a future version. Check `isinstance(dtype, pd.SparseDtype)` instead.\n",
            "  if is_sparse(data):\n",
            "C:\\Users\\Alharidt\\AppData\\Roaming\\Python\\Python311\\site-packages\\xgboost\\data.py:520: FutureWarning: is_sparse is deprecated and will be removed in a future version. Check `isinstance(dtype, pd.SparseDtype)` instead.\n",
            "  if is_sparse(data):\n",
            "C:\\Users\\Alharidt\\AppData\\Roaming\\Python\\Python311\\site-packages\\xgboost\\data.py:520: FutureWarning: is_sparse is deprecated and will be removed in a future version. Check `isinstance(dtype, pd.SparseDtype)` instead.\n",
            "  if is_sparse(data):\n",
            "C:\\Users\\Alharidt\\AppData\\Roaming\\Python\\Python311\\site-packages\\xgboost\\data.py:520: FutureWarning: is_sparse is deprecated and will be removed in a future version. Check `isinstance(dtype, pd.SparseDtype)` instead.\n",
            "  if is_sparse(data):\n",
            "C:\\Users\\Alharidt\\AppData\\Roaming\\Python\\Python311\\site-packages\\xgboost\\data.py:520: FutureWarning: is_sparse is deprecated and will be removed in a future version. Check `isinstance(dtype, pd.SparseDtype)` instead.\n",
            "  if is_sparse(data):\n",
            "C:\\Users\\Alharidt\\AppData\\Roaming\\Python\\Python311\\site-packages\\xgboost\\data.py:520: FutureWarning: is_sparse is deprecated and will be removed in a future version. Check `isinstance(dtype, pd.SparseDtype)` instead.\n",
            "  if is_sparse(data):\n",
            "C:\\Users\\Alharidt\\AppData\\Roaming\\Python\\Python311\\site-packages\\xgboost\\data.py:520: FutureWarning: is_sparse is deprecated and will be removed in a future version. Check `isinstance(dtype, pd.SparseDtype)` instead.\n",
            "  if is_sparse(data):\n",
            "C:\\Users\\Alharidt\\AppData\\Roaming\\Python\\Python311\\site-packages\\xgboost\\data.py:520: FutureWarning: is_sparse is deprecated and will be removed in a future version. Check `isinstance(dtype, pd.SparseDtype)` instead.\n",
            "  if is_sparse(data):\n",
            "C:\\Users\\Alharidt\\AppData\\Roaming\\Python\\Python311\\site-packages\\xgboost\\data.py:520: FutureWarning: is_sparse is deprecated and will be removed in a future version. Check `isinstance(dtype, pd.SparseDtype)` instead.\n",
            "  if is_sparse(data):\n",
            "C:\\Users\\Alharidt\\AppData\\Roaming\\Python\\Python311\\site-packages\\xgboost\\data.py:520: FutureWarning: is_sparse is deprecated and will be removed in a future version. Check `isinstance(dtype, pd.SparseDtype)` instead.\n",
            "  if is_sparse(data):\n",
            "C:\\Users\\Alharidt\\AppData\\Roaming\\Python\\Python311\\site-packages\\xgboost\\data.py:520: FutureWarning: is_sparse is deprecated and will be removed in a future version. Check `isinstance(dtype, pd.SparseDtype)` instead.\n",
            "  if is_sparse(data):\n",
            "C:\\Users\\Alharidt\\AppData\\Roaming\\Python\\Python311\\site-packages\\xgboost\\data.py:520: FutureWarning: is_sparse is deprecated and will be removed in a future version. Check `isinstance(dtype, pd.SparseDtype)` instead.\n",
            "  if is_sparse(data):\n",
            "C:\\Users\\Alharidt\\AppData\\Roaming\\Python\\Python311\\site-packages\\xgboost\\data.py:520: FutureWarning: is_sparse is deprecated and will be removed in a future version. Check `isinstance(dtype, pd.SparseDtype)` instead.\n",
            "  if is_sparse(data):\n",
            "C:\\Users\\Alharidt\\AppData\\Roaming\\Python\\Python311\\site-packages\\xgboost\\data.py:520: FutureWarning: is_sparse is deprecated and will be removed in a future version. Check `isinstance(dtype, pd.SparseDtype)` instead.\n",
            "  if is_sparse(data):\n",
            "C:\\Users\\Alharidt\\AppData\\Roaming\\Python\\Python311\\site-packages\\xgboost\\data.py:520: FutureWarning: is_sparse is deprecated and will be removed in a future version. Check `isinstance(dtype, pd.SparseDtype)` instead.\n",
            "  if is_sparse(data):\n",
            "C:\\Users\\Alharidt\\AppData\\Roaming\\Python\\Python311\\site-packages\\xgboost\\data.py:520: FutureWarning: is_sparse is deprecated and will be removed in a future version. Check `isinstance(dtype, pd.SparseDtype)` instead.\n",
            "  if is_sparse(data):\n",
            "C:\\Users\\Alharidt\\AppData\\Roaming\\Python\\Python311\\site-packages\\xgboost\\data.py:520: FutureWarning: is_sparse is deprecated and will be removed in a future version. Check `isinstance(dtype, pd.SparseDtype)` instead.\n",
            "  if is_sparse(data):\n",
            "C:\\Users\\Alharidt\\AppData\\Roaming\\Python\\Python311\\site-packages\\xgboost\\data.py:520: FutureWarning: is_sparse is deprecated and will be removed in a future version. Check `isinstance(dtype, pd.SparseDtype)` instead.\n",
            "  if is_sparse(data):\n",
            "C:\\Users\\Alharidt\\AppData\\Roaming\\Python\\Python311\\site-packages\\xgboost\\data.py:520: FutureWarning: is_sparse is deprecated and will be removed in a future version. Check `isinstance(dtype, pd.SparseDtype)` instead.\n",
            "  if is_sparse(data):\n",
            "C:\\Users\\Alharidt\\AppData\\Roaming\\Python\\Python311\\site-packages\\xgboost\\data.py:520: FutureWarning: is_sparse is deprecated and will be removed in a future version. Check `isinstance(dtype, pd.SparseDtype)` instead.\n",
            "  if is_sparse(data):\n",
            "C:\\Users\\Alharidt\\AppData\\Roaming\\Python\\Python311\\site-packages\\xgboost\\data.py:520: FutureWarning: is_sparse is deprecated and will be removed in a future version. Check `isinstance(dtype, pd.SparseDtype)` instead.\n",
            "  if is_sparse(data):\n",
            "C:\\Users\\Alharidt\\AppData\\Roaming\\Python\\Python311\\site-packages\\xgboost\\data.py:520: FutureWarning: is_sparse is deprecated and will be removed in a future version. Check `isinstance(dtype, pd.SparseDtype)` instead.\n",
            "  if is_sparse(data):\n",
            "C:\\Users\\Alharidt\\AppData\\Roaming\\Python\\Python311\\site-packages\\xgboost\\data.py:520: FutureWarning: is_sparse is deprecated and will be removed in a future version. Check `isinstance(dtype, pd.SparseDtype)` instead.\n",
            "  if is_sparse(data):\n",
            "C:\\Users\\Alharidt\\AppData\\Roaming\\Python\\Python311\\site-packages\\xgboost\\data.py:520: FutureWarning: is_sparse is deprecated and will be removed in a future version. Check `isinstance(dtype, pd.SparseDtype)` instead.\n",
            "  if is_sparse(data):\n",
            "C:\\Users\\Alharidt\\AppData\\Roaming\\Python\\Python311\\site-packages\\xgboost\\data.py:520: FutureWarning: is_sparse is deprecated and will be removed in a future version. Check `isinstance(dtype, pd.SparseDtype)` instead.\n",
            "  if is_sparse(data):\n",
            "C:\\Users\\Alharidt\\AppData\\Roaming\\Python\\Python311\\site-packages\\xgboost\\data.py:520: FutureWarning: is_sparse is deprecated and will be removed in a future version. Check `isinstance(dtype, pd.SparseDtype)` instead.\n",
            "  if is_sparse(data):\n",
            "C:\\Users\\Alharidt\\AppData\\Roaming\\Python\\Python311\\site-packages\\xgboost\\data.py:520: FutureWarning: is_sparse is deprecated and will be removed in a future version. Check `isinstance(dtype, pd.SparseDtype)` instead.\n",
            "  if is_sparse(data):\n",
            "C:\\Users\\Alharidt\\AppData\\Roaming\\Python\\Python311\\site-packages\\xgboost\\data.py:520: FutureWarning: is_sparse is deprecated and will be removed in a future version. Check `isinstance(dtype, pd.SparseDtype)` instead.\n",
            "  if is_sparse(data):\n",
            "C:\\Users\\Alharidt\\AppData\\Roaming\\Python\\Python311\\site-packages\\xgboost\\data.py:520: FutureWarning: is_sparse is deprecated and will be removed in a future version. Check `isinstance(dtype, pd.SparseDtype)` instead.\n",
            "  if is_sparse(data):\n",
            "C:\\Users\\Alharidt\\AppData\\Roaming\\Python\\Python311\\site-packages\\xgboost\\data.py:520: FutureWarning: is_sparse is deprecated and will be removed in a future version. Check `isinstance(dtype, pd.SparseDtype)` instead.\n",
            "  if is_sparse(data):\n",
            "C:\\Users\\Alharidt\\AppData\\Roaming\\Python\\Python311\\site-packages\\xgboost\\data.py:520: FutureWarning: is_sparse is deprecated and will be removed in a future version. Check `isinstance(dtype, pd.SparseDtype)` instead.\n",
            "  if is_sparse(data):\n",
            "C:\\Users\\Alharidt\\AppData\\Roaming\\Python\\Python311\\site-packages\\xgboost\\data.py:520: FutureWarning: is_sparse is deprecated and will be removed in a future version. Check `isinstance(dtype, pd.SparseDtype)` instead.\n",
            "  if is_sparse(data):\n",
            "C:\\Users\\Alharidt\\AppData\\Roaming\\Python\\Python311\\site-packages\\xgboost\\data.py:520: FutureWarning: is_sparse is deprecated and will be removed in a future version. Check `isinstance(dtype, pd.SparseDtype)` instead.\n",
            "  if is_sparse(data):\n",
            "C:\\Users\\Alharidt\\AppData\\Roaming\\Python\\Python311\\site-packages\\xgboost\\data.py:520: FutureWarning: is_sparse is deprecated and will be removed in a future version. Check `isinstance(dtype, pd.SparseDtype)` instead.\n",
            "  if is_sparse(data):\n",
            "C:\\Users\\Alharidt\\AppData\\Roaming\\Python\\Python311\\site-packages\\xgboost\\data.py:520: FutureWarning: is_sparse is deprecated and will be removed in a future version. Check `isinstance(dtype, pd.SparseDtype)` instead.\n",
            "  if is_sparse(data):\n",
            "C:\\Users\\Alharidt\\AppData\\Roaming\\Python\\Python311\\site-packages\\xgboost\\data.py:520: FutureWarning: is_sparse is deprecated and will be removed in a future version. Check `isinstance(dtype, pd.SparseDtype)` instead.\n",
            "  if is_sparse(data):\n",
            "C:\\Users\\Alharidt\\AppData\\Roaming\\Python\\Python311\\site-packages\\xgboost\\data.py:520: FutureWarning: is_sparse is deprecated and will be removed in a future version. Check `isinstance(dtype, pd.SparseDtype)` instead.\n",
            "  if is_sparse(data):\n",
            "C:\\Users\\Alharidt\\AppData\\Roaming\\Python\\Python311\\site-packages\\xgboost\\data.py:520: FutureWarning: is_sparse is deprecated and will be removed in a future version. Check `isinstance(dtype, pd.SparseDtype)` instead.\n",
            "  if is_sparse(data):\n",
            "C:\\Users\\Alharidt\\AppData\\Roaming\\Python\\Python311\\site-packages\\xgboost\\data.py:520: FutureWarning: is_sparse is deprecated and will be removed in a future version. Check `isinstance(dtype, pd.SparseDtype)` instead.\n",
            "  if is_sparse(data):\n",
            "C:\\Users\\Alharidt\\AppData\\Roaming\\Python\\Python311\\site-packages\\xgboost\\data.py:520: FutureWarning: is_sparse is deprecated and will be removed in a future version. Check `isinstance(dtype, pd.SparseDtype)` instead.\n",
            "  if is_sparse(data):\n",
            "C:\\Users\\Alharidt\\AppData\\Roaming\\Python\\Python311\\site-packages\\xgboost\\data.py:520: FutureWarning: is_sparse is deprecated and will be removed in a future version. Check `isinstance(dtype, pd.SparseDtype)` instead.\n",
            "  if is_sparse(data):\n",
            "C:\\Users\\Alharidt\\AppData\\Roaming\\Python\\Python311\\site-packages\\xgboost\\data.py:520: FutureWarning: is_sparse is deprecated and will be removed in a future version. Check `isinstance(dtype, pd.SparseDtype)` instead.\n",
            "  if is_sparse(data):\n",
            "C:\\Users\\Alharidt\\AppData\\Roaming\\Python\\Python311\\site-packages\\xgboost\\data.py:520: FutureWarning: is_sparse is deprecated and will be removed in a future version. Check `isinstance(dtype, pd.SparseDtype)` instead.\n",
            "  if is_sparse(data):\n",
            "C:\\Users\\Alharidt\\AppData\\Roaming\\Python\\Python311\\site-packages\\xgboost\\data.py:520: FutureWarning: is_sparse is deprecated and will be removed in a future version. Check `isinstance(dtype, pd.SparseDtype)` instead.\n",
            "  if is_sparse(data):\n",
            "C:\\Users\\Alharidt\\AppData\\Roaming\\Python\\Python311\\site-packages\\xgboost\\data.py:520: FutureWarning: is_sparse is deprecated and will be removed in a future version. Check `isinstance(dtype, pd.SparseDtype)` instead.\n",
            "  if is_sparse(data):\n",
            "C:\\Users\\Alharidt\\AppData\\Roaming\\Python\\Python311\\site-packages\\xgboost\\data.py:520: FutureWarning: is_sparse is deprecated and will be removed in a future version. Check `isinstance(dtype, pd.SparseDtype)` instead.\n",
            "  if is_sparse(data):\n",
            "C:\\Users\\Alharidt\\AppData\\Roaming\\Python\\Python311\\site-packages\\xgboost\\data.py:520: FutureWarning: is_sparse is deprecated and will be removed in a future version. Check `isinstance(dtype, pd.SparseDtype)` instead.\n",
            "  if is_sparse(data):\n",
            "C:\\Users\\Alharidt\\AppData\\Roaming\\Python\\Python311\\site-packages\\xgboost\\data.py:520: FutureWarning: is_sparse is deprecated and will be removed in a future version. Check `isinstance(dtype, pd.SparseDtype)` instead.\n",
            "  if is_sparse(data):\n",
            "C:\\Users\\Alharidt\\AppData\\Roaming\\Python\\Python311\\site-packages\\xgboost\\data.py:520: FutureWarning: is_sparse is deprecated and will be removed in a future version. Check `isinstance(dtype, pd.SparseDtype)` instead.\n",
            "  if is_sparse(data):\n",
            "C:\\Users\\Alharidt\\AppData\\Roaming\\Python\\Python311\\site-packages\\xgboost\\data.py:520: FutureWarning: is_sparse is deprecated and will be removed in a future version. Check `isinstance(dtype, pd.SparseDtype)` instead.\n",
            "  if is_sparse(data):\n",
            "C:\\Users\\Alharidt\\AppData\\Roaming\\Python\\Python311\\site-packages\\xgboost\\data.py:520: FutureWarning: is_sparse is deprecated and will be removed in a future version. Check `isinstance(dtype, pd.SparseDtype)` instead.\n",
            "  if is_sparse(data):\n",
            "C:\\Users\\Alharidt\\AppData\\Roaming\\Python\\Python311\\site-packages\\xgboost\\data.py:520: FutureWarning: is_sparse is deprecated and will be removed in a future version. Check `isinstance(dtype, pd.SparseDtype)` instead.\n",
            "  if is_sparse(data):\n",
            "C:\\Users\\Alharidt\\AppData\\Roaming\\Python\\Python311\\site-packages\\xgboost\\data.py:520: FutureWarning: is_sparse is deprecated and will be removed in a future version. Check `isinstance(dtype, pd.SparseDtype)` instead.\n",
            "  if is_sparse(data):\n",
            "C:\\Users\\Alharidt\\AppData\\Roaming\\Python\\Python311\\site-packages\\xgboost\\data.py:520: FutureWarning: is_sparse is deprecated and will be removed in a future version. Check `isinstance(dtype, pd.SparseDtype)` instead.\n",
            "  if is_sparse(data):\n",
            "C:\\Users\\Alharidt\\AppData\\Roaming\\Python\\Python311\\site-packages\\xgboost\\data.py:520: FutureWarning: is_sparse is deprecated and will be removed in a future version. Check `isinstance(dtype, pd.SparseDtype)` instead.\n",
            "  if is_sparse(data):\n",
            "C:\\Users\\Alharidt\\AppData\\Roaming\\Python\\Python311\\site-packages\\xgboost\\data.py:520: FutureWarning: is_sparse is deprecated and will be removed in a future version. Check `isinstance(dtype, pd.SparseDtype)` instead.\n",
            "  if is_sparse(data):\n",
            "C:\\Users\\Alharidt\\AppData\\Roaming\\Python\\Python311\\site-packages\\xgboost\\data.py:520: FutureWarning: is_sparse is deprecated and will be removed in a future version. Check `isinstance(dtype, pd.SparseDtype)` instead.\n",
            "  if is_sparse(data):\n",
            "C:\\Users\\Alharidt\\AppData\\Roaming\\Python\\Python311\\site-packages\\xgboost\\data.py:520: FutureWarning: is_sparse is deprecated and will be removed in a future version. Check `isinstance(dtype, pd.SparseDtype)` instead.\n",
            "  if is_sparse(data):\n",
            "C:\\Users\\Alharidt\\AppData\\Roaming\\Python\\Python311\\site-packages\\xgboost\\data.py:520: FutureWarning: is_sparse is deprecated and will be removed in a future version. Check `isinstance(dtype, pd.SparseDtype)` instead.\n",
            "  if is_sparse(data):\n",
            "C:\\Users\\Alharidt\\AppData\\Roaming\\Python\\Python311\\site-packages\\xgboost\\data.py:520: FutureWarning: is_sparse is deprecated and will be removed in a future version. Check `isinstance(dtype, pd.SparseDtype)` instead.\n",
            "  if is_sparse(data):\n",
            "C:\\Users\\Alharidt\\AppData\\Roaming\\Python\\Python311\\site-packages\\xgboost\\data.py:520: FutureWarning: is_sparse is deprecated and will be removed in a future version. Check `isinstance(dtype, pd.SparseDtype)` instead.\n",
            "  if is_sparse(data):\n",
            "C:\\Users\\Alharidt\\AppData\\Roaming\\Python\\Python311\\site-packages\\xgboost\\data.py:520: FutureWarning: is_sparse is deprecated and will be removed in a future version. Check `isinstance(dtype, pd.SparseDtype)` instead.\n",
            "  if is_sparse(data):\n",
            "C:\\Users\\Alharidt\\AppData\\Roaming\\Python\\Python311\\site-packages\\xgboost\\data.py:520: FutureWarning: is_sparse is deprecated and will be removed in a future version. Check `isinstance(dtype, pd.SparseDtype)` instead.\n",
            "  if is_sparse(data):\n",
            "C:\\Users\\Alharidt\\AppData\\Roaming\\Python\\Python311\\site-packages\\xgboost\\data.py:520: FutureWarning: is_sparse is deprecated and will be removed in a future version. Check `isinstance(dtype, pd.SparseDtype)` instead.\n",
            "  if is_sparse(data):\n",
            "C:\\Users\\Alharidt\\AppData\\Roaming\\Python\\Python311\\site-packages\\xgboost\\data.py:520: FutureWarning: is_sparse is deprecated and will be removed in a future version. Check `isinstance(dtype, pd.SparseDtype)` instead.\n",
            "  if is_sparse(data):\n",
            "C:\\Users\\Alharidt\\AppData\\Roaming\\Python\\Python311\\site-packages\\xgboost\\data.py:520: FutureWarning: is_sparse is deprecated and will be removed in a future version. Check `isinstance(dtype, pd.SparseDtype)` instead.\n",
            "  if is_sparse(data):\n",
            "C:\\Users\\Alharidt\\AppData\\Roaming\\Python\\Python311\\site-packages\\xgboost\\data.py:520: FutureWarning: is_sparse is deprecated and will be removed in a future version. Check `isinstance(dtype, pd.SparseDtype)` instead.\n",
            "  if is_sparse(data):\n",
            "C:\\Users\\Alharidt\\AppData\\Roaming\\Python\\Python311\\site-packages\\xgboost\\data.py:520: FutureWarning: is_sparse is deprecated and will be removed in a future version. Check `isinstance(dtype, pd.SparseDtype)` instead.\n",
            "  if is_sparse(data):\n",
            "C:\\Users\\Alharidt\\AppData\\Roaming\\Python\\Python311\\site-packages\\xgboost\\data.py:520: FutureWarning: is_sparse is deprecated and will be removed in a future version. Check `isinstance(dtype, pd.SparseDtype)` instead.\n",
            "  if is_sparse(data):\n",
            "C:\\Users\\Alharidt\\AppData\\Roaming\\Python\\Python311\\site-packages\\xgboost\\data.py:520: FutureWarning: is_sparse is deprecated and will be removed in a future version. Check `isinstance(dtype, pd.SparseDtype)` instead.\n",
            "  if is_sparse(data):\n",
            "C:\\Users\\Alharidt\\AppData\\Roaming\\Python\\Python311\\site-packages\\xgboost\\data.py:520: FutureWarning: is_sparse is deprecated and will be removed in a future version. Check `isinstance(dtype, pd.SparseDtype)` instead.\n",
            "  if is_sparse(data):\n",
            "C:\\Users\\Alharidt\\AppData\\Roaming\\Python\\Python311\\site-packages\\xgboost\\data.py:520: FutureWarning: is_sparse is deprecated and will be removed in a future version. Check `isinstance(dtype, pd.SparseDtype)` instead.\n",
            "  if is_sparse(data):\n",
            "C:\\Users\\Alharidt\\AppData\\Roaming\\Python\\Python311\\site-packages\\xgboost\\data.py:520: FutureWarning: is_sparse is deprecated and will be removed in a future version. Check `isinstance(dtype, pd.SparseDtype)` instead.\n",
            "  if is_sparse(data):\n",
            "C:\\Users\\Alharidt\\AppData\\Roaming\\Python\\Python311\\site-packages\\xgboost\\data.py:520: FutureWarning: is_sparse is deprecated and will be removed in a future version. Check `isinstance(dtype, pd.SparseDtype)` instead.\n",
            "  if is_sparse(data):\n",
            "C:\\Users\\Alharidt\\AppData\\Roaming\\Python\\Python311\\site-packages\\xgboost\\data.py:520: FutureWarning: is_sparse is deprecated and will be removed in a future version. Check `isinstance(dtype, pd.SparseDtype)` instead.\n",
            "  if is_sparse(data):\n",
            "C:\\Users\\Alharidt\\AppData\\Roaming\\Python\\Python311\\site-packages\\xgboost\\data.py:520: FutureWarning: is_sparse is deprecated and will be removed in a future version. Check `isinstance(dtype, pd.SparseDtype)` instead.\n",
            "  if is_sparse(data):\n",
            "C:\\Users\\Alharidt\\AppData\\Roaming\\Python\\Python311\\site-packages\\xgboost\\data.py:520: FutureWarning: is_sparse is deprecated and will be removed in a future version. Check `isinstance(dtype, pd.SparseDtype)` instead.\n",
            "  if is_sparse(data):\n",
            "C:\\Users\\Alharidt\\AppData\\Roaming\\Python\\Python311\\site-packages\\xgboost\\data.py:520: FutureWarning: is_sparse is deprecated and will be removed in a future version. Check `isinstance(dtype, pd.SparseDtype)` instead.\n",
            "  if is_sparse(data):\n",
            "C:\\Users\\Alharidt\\AppData\\Roaming\\Python\\Python311\\site-packages\\xgboost\\data.py:520: FutureWarning: is_sparse is deprecated and will be removed in a future version. Check `isinstance(dtype, pd.SparseDtype)` instead.\n",
            "  if is_sparse(data):\n",
            "C:\\Users\\Alharidt\\AppData\\Roaming\\Python\\Python311\\site-packages\\xgboost\\data.py:520: FutureWarning: is_sparse is deprecated and will be removed in a future version. Check `isinstance(dtype, pd.SparseDtype)` instead.\n",
            "  if is_sparse(data):\n",
            "C:\\Users\\Alharidt\\AppData\\Roaming\\Python\\Python311\\site-packages\\xgboost\\data.py:520: FutureWarning: is_sparse is deprecated and will be removed in a future version. Check `isinstance(dtype, pd.SparseDtype)` instead.\n",
            "  if is_sparse(data):\n"
          ]
        }
      ],
      "source": [
        "# Multi-class Classification with Random Forest and GridSearchCV\n",
        "rf_classifier = RandomForestClassifier()\n",
        "param_grid_rf = {'n_estimators': [100, 200, 300], 'max_depth': [None, 10, 20]}\n",
        "grid_search_rf = GridSearchCV(rf_classifier, param_grid_rf, cv=3, scoring='accuracy')\n",
        "grid_search_rf.fit(X_train_tfidf, y_multi_train)\n",
        "best_rf_model = grid_search_rf.best_estimator_\n",
        "\n",
        "# Multi-class Classification with XGBoost and GridSearchCV\n",
        "xgb_classifier = XGBClassifier()\n",
        "param_grid_xgb = {'n_estimators': [100, 200, 300], 'max_depth': [3, 4, 5], 'learning_rate': [0.01, 0.1, 0.2]}\n",
        "grid_search_xgb = GridSearchCV(xgb_classifier, param_grid_xgb, cv=3, scoring='accuracy')\n",
        "grid_search_xgb.fit(X_train_tfidf, y_multi_train)\n",
        "best_xgb_model = grid_search_xgb.best_estimator_\n",
        "\n"
      ]
    },
    {
      "cell_type": "code",
      "execution_count": 26,
      "metadata": {
        "colab": {
          "base_uri": "https://localhost:8080/"
        },
        "id": "_jLAWlxJFiSQ",
        "outputId": "14592a80-72e7-4db6-ddc5-09746d7d996c"
      },
      "outputs": [
        {
          "name": "stdout",
          "output_type": "stream",
          "text": [
            "Multi Classification Report (Random Forest):\n",
            "              precision    recall  f1-score   support\n",
            "\n",
            "           0       0.00      0.00      0.00         2\n",
            "           1       0.00      0.00      0.00         1\n",
            "           2       0.92      0.95      0.93        37\n",
            "\n",
            "    accuracy                           0.88        40\n",
            "   macro avg       0.31      0.32      0.31        40\n",
            "weighted avg       0.85      0.88      0.86        40\n",
            "\n",
            "Multi Classification Report (XGBoost):\n",
            "              precision    recall  f1-score   support\n",
            "\n",
            "           0       0.00      0.00      0.00         2\n",
            "           1       0.00      0.00      0.00         1\n",
            "           2       0.92      0.95      0.93        37\n",
            "\n",
            "    accuracy                           0.88        40\n",
            "   macro avg       0.31      0.32      0.31        40\n",
            "weighted avg       0.85      0.88      0.86        40\n",
            "\n"
          ]
        },
        {
          "name": "stderr",
          "output_type": "stream",
          "text": [
            "C:\\Users\\Alharidt\\AppData\\Roaming\\Python\\Python311\\site-packages\\sklearn\\metrics\\_classification.py:1469: UndefinedMetricWarning: Precision and F-score are ill-defined and being set to 0.0 in labels with no predicted samples. Use `zero_division` parameter to control this behavior.\n",
            "  _warn_prf(average, modifier, msg_start, len(result))\n",
            "C:\\Users\\Alharidt\\AppData\\Roaming\\Python\\Python311\\site-packages\\sklearn\\metrics\\_classification.py:1469: UndefinedMetricWarning: Precision and F-score are ill-defined and being set to 0.0 in labels with no predicted samples. Use `zero_division` parameter to control this behavior.\n",
            "  _warn_prf(average, modifier, msg_start, len(result))\n",
            "C:\\Users\\Alharidt\\AppData\\Roaming\\Python\\Python311\\site-packages\\sklearn\\metrics\\_classification.py:1469: UndefinedMetricWarning: Precision and F-score are ill-defined and being set to 0.0 in labels with no predicted samples. Use `zero_division` parameter to control this behavior.\n",
            "  _warn_prf(average, modifier, msg_start, len(result))\n",
            "C:\\Users\\Alharidt\\AppData\\Roaming\\Python\\Python311\\site-packages\\sklearn\\metrics\\_classification.py:1469: UndefinedMetricWarning: Precision and F-score are ill-defined and being set to 0.0 in labels with no predicted samples. Use `zero_division` parameter to control this behavior.\n",
            "  _warn_prf(average, modifier, msg_start, len(result))\n",
            "C:\\Users\\Alharidt\\AppData\\Roaming\\Python\\Python311\\site-packages\\sklearn\\metrics\\_classification.py:1469: UndefinedMetricWarning: Precision and F-score are ill-defined and being set to 0.0 in labels with no predicted samples. Use `zero_division` parameter to control this behavior.\n",
            "  _warn_prf(average, modifier, msg_start, len(result))\n",
            "C:\\Users\\Alharidt\\AppData\\Roaming\\Python\\Python311\\site-packages\\sklearn\\metrics\\_classification.py:1469: UndefinedMetricWarning: Precision and F-score are ill-defined and being set to 0.0 in labels with no predicted samples. Use `zero_division` parameter to control this behavior.\n",
            "  _warn_prf(average, modifier, msg_start, len(result))\n"
          ]
        }
      ],
      "source": [
        "# Evaluate binary classification model (Random Forest)\n",
        "multi_predictions_rf = best_rf_model.predict(X_test_tfidf)\n",
        "multi_predictions_xgb = best_xgb_model.predict(X_test_tfidf)\n",
        "\n",
        "print(\"Multi Classification Report (Random Forest):\")\n",
        "print(classification_report(y_multi_test, multi_predictions_rf))\n",
        "\n",
        "# Evaluate binary classification model (XGBoost)\n",
        "print(\"Multi Classification Report (XGBoost):\")\n",
        "print(classification_report(y_multi_test, multi_predictions_xgb))"
      ]
    },
    {
      "cell_type": "code",
      "execution_count": 27,
      "metadata": {
        "colab": {
          "base_uri": "https://localhost:8080/"
        },
        "id": "_tGpuX_3GtjV",
        "outputId": "572644ce-1c4f-459a-f100-3357d4874331"
      },
      "outputs": [
        {
          "name": "stdout",
          "output_type": "stream",
          "text": [
            "{'Random Forest Prediction': 'positive', 'XGBoost Prediction': 'positive', 'Logistic Regression Prediction': 'positive'}\n"
          ]
        }
      ],
      "source": [
        "def predict_sentiment_multiclass(text):\n",
        "    # Preprocess the input text (e.g., remove punctuation, lowercase, etc.)\n",
        "    preprocessed_text = text.lower()  # You can add more pre-processing steps as needed\n",
        "\n",
        "    # Vectorize the preprocessed text using the TF-IDF vectorizer\n",
        "    text_vectorized = tfidf_vectorizer.transform([preprocessed_text])\n",
        "\n",
        "    # Predict sentiment using all three models\n",
        "    rf_prediction = best_rf_model.predict(text_vectorized)[0]\n",
        "    xgb_prediction = best_xgb_model.predict(text_vectorized)[0]\n",
        "    logistic_prediction = logistic_classifier.predict(text_vectorized)[0]\n",
        "\n",
        "    # Map numeric labels to sentiment labels\n",
        "    sentiment_labels = {0: \"negative\", 1: \"neutral\", 2: \"positive\"}\n",
        "\n",
        "    return {\n",
        "        \"Random Forest Prediction\": sentiment_labels[rf_prediction],\n",
        "        \"XGBoost Prediction\": sentiment_labels[xgb_prediction],\n",
        "        \"Logistic Regression Prediction\": sentiment_labels[logistic_prediction],\n",
        "    }\n",
        "\n",
        "# Example usage:\n",
        "input_text = \"biasa saja\"\n",
        "sentiment_prediction = predict_sentiment_multiclass(input_text)\n",
        "print(sentiment_prediction)"
      ]
    },
    {
      "cell_type": "code",
      "execution_count": 28,
      "metadata": {
        "id": "VWuul1d4HmRw"
      },
      "outputs": [],
      "source": [
        "predicted_sentiments_xgb = label_encoder.inverse_transform(multi_predictions_xgb)\n",
        "\n",
        "# Create a DataFrame to store the test data and predictions\n",
        "results_df = pd.DataFrame({'Text': X_test, 'True Sentiment': label_encoder.inverse_transform(y_multi_test),\n",
        "                            'XGBoost Prediction': predicted_sentiments_xgb})"
      ]
    },
    {
      "cell_type": "code",
      "execution_count": 29,
      "metadata": {
        "colab": {
          "base_uri": "https://localhost:8080/",
          "height": 174
        },
        "id": "QJj7yqlxIBga",
        "outputId": "a3919cf4-02f3-42bb-d501-b84d2557a846"
      },
      "outputs": [
        {
          "data": {
            "text/html": [
              "<div>\n",
              "<style scoped>\n",
              "    .dataframe tbody tr th:only-of-type {\n",
              "        vertical-align: middle;\n",
              "    }\n",
              "\n",
              "    .dataframe tbody tr th {\n",
              "        vertical-align: top;\n",
              "    }\n",
              "\n",
              "    .dataframe thead th {\n",
              "        text-align: right;\n",
              "    }\n",
              "</style>\n",
              "<table border=\"1\" class=\"dataframe\">\n",
              "  <thead>\n",
              "    <tr style=\"text-align: right;\">\n",
              "      <th></th>\n",
              "      <th>Text</th>\n",
              "      <th>True Sentiment</th>\n",
              "      <th>XGBoost Prediction</th>\n",
              "    </tr>\n",
              "  </thead>\n",
              "  <tbody>\n",
              "  </tbody>\n",
              "</table>\n",
              "</div>"
            ],
            "text/plain": [
              "Empty DataFrame\n",
              "Columns: [Text, True Sentiment, XGBoost Prediction]\n",
              "Index: []"
            ]
          },
          "execution_count": 29,
          "metadata": {},
          "output_type": "execute_result"
        }
      ],
      "source": [
        "results_df[results_df['XGBoost Prediction'] == 'neutral']"
      ]
    }
  ],
  "metadata": {
    "colab": {
      "authorship_tag": "ABX9TyO8f1BdxpiNmVb/El/Yjzie",
      "include_colab_link": true,
      "provenance": []
    },
    "kernelspec": {
      "display_name": "Python 3",
      "name": "python3"
    },
    "language_info": {
      "codemirror_mode": {
        "name": "ipython",
        "version": 3
      },
      "file_extension": ".py",
      "mimetype": "text/x-python",
      "name": "python",
      "nbconvert_exporter": "python",
      "pygments_lexer": "ipython3",
      "version": "3.11.5"
    }
  },
  "nbformat": 4,
  "nbformat_minor": 0
}
