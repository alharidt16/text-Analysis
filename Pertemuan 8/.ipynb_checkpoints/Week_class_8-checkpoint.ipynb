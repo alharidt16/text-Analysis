{
  "cells": [
    {
      "cell_type": "code",
      "execution_count": 1,
      "metadata": {
        "id": "lC351eH0mrZa"
      },
      "outputs": [],
      "source": [
        "import pandas as pd\n",
        "import numpy as np"
      ]
    },
    {
      "cell_type": "code",
      "execution_count": 2,
      "metadata": {
        "colab": {
          "base_uri": "https://localhost:8080/",
          "height": 597
        },
        "id": "sI9bo-Hem_cY",
        "outputId": "fe8a0add-f022-40e4-c96a-1d2284decab1"
      },
      "outputs": [
        {
          "data": {
            "text/html": [
              "<div>\n",
              "<style scoped>\n",
              "    .dataframe tbody tr th:only-of-type {\n",
              "        vertical-align: middle;\n",
              "    }\n",
              "\n",
              "    .dataframe tbody tr th {\n",
              "        vertical-align: top;\n",
              "    }\n",
              "\n",
              "    .dataframe thead th {\n",
              "        text-align: right;\n",
              "    }\n",
              "</style>\n",
              "<table border=\"1\" class=\"dataframe\">\n",
              "  <thead>\n",
              "    <tr style=\"text-align: right;\">\n",
              "      <th></th>\n",
              "      <th>at</th>\n",
              "      <th>content</th>\n",
              "      <th>score</th>\n",
              "      <th>userName</th>\n",
              "      <th>contentp</th>\n",
              "      <th>contentp_clean</th>\n",
              "      <th>text_length</th>\n",
              "    </tr>\n",
              "  </thead>\n",
              "  <tbody>\n",
              "    <tr>\n",
              "      <th>0</th>\n",
              "      <td>2023-09-21 14:31:30</td>\n",
              "      <td>Sering muncul peringatan 'anda tidak terhubung...</td>\n",
              "      <td>5</td>\n",
              "      <td>Wilson Nts</td>\n",
              "      <td>sering muncul peringatan anda tidak terhubung ...</td>\n",
              "      <td>sering muncul ingat tidak hubung jaring orbit ...</td>\n",
              "      <td>238</td>\n",
              "    </tr>\n",
              "    <tr>\n",
              "      <th>1</th>\n",
              "      <td>2023-09-28 00:14:40</td>\n",
              "      <td>Masih sering DC. Tiba2 g ada koneksi, lampu in...</td>\n",
              "      <td>1</td>\n",
              "      <td>Saifullah fil</td>\n",
              "      <td>masih sering dc tiba ada koneksi lampu indokat...</td>\n",
              "      <td>sering dc tiba koneksi lampu indokator merah e...</td>\n",
              "      <td>226</td>\n",
              "    </tr>\n",
              "    <tr>\n",
              "      <th>2</th>\n",
              "      <td>2023-09-24 13:44:07</td>\n",
              "      <td>Bapuk. Lemot. Padahal sudah di Taru dekat jend...</td>\n",
              "      <td>1</td>\n",
              "      <td>allan afriyadi</td>\n",
              "      <td>bapuk lemot padahal sudah di taru dekat jendel...</td>\n",
              "      <td>jelek lambat padahal taru dekat jendela lantai...</td>\n",
              "      <td>269</td>\n",
              "    </tr>\n",
              "    <tr>\n",
              "      <th>3</th>\n",
              "      <td>2023-09-18 21:58:35</td>\n",
              "      <td>Sering muncul tulisan \"tidak terhubung ke .......</td>\n",
              "      <td>3</td>\n",
              "      <td>Suryokusumo Risdika Rizki</td>\n",
              "      <td>sering muncul tulisan tidak terhubung ke nama ...</td>\n",
              "      <td>sering muncul tulis hubung nama wifi padahal j...</td>\n",
              "      <td>240</td>\n",
              "    </tr>\n",
              "    <tr>\n",
              "      <th>4</th>\n",
              "      <td>2023-10-02 21:40:00</td>\n",
              "      <td>Sudah beli model yg harganya sampai 2 jutaan. ...</td>\n",
              "      <td>3</td>\n",
              "      <td>Anton Karnadi</td>\n",
              "      <td>sudah beli model yg harganya sampai jutaan awa...</td>\n",
              "      <td>beli model harga juta awal kencang tahun pakai...</td>\n",
              "      <td>147</td>\n",
              "    </tr>\n",
              "    <tr>\n",
              "      <th>...</th>\n",
              "      <td>...</td>\n",
              "      <td>...</td>\n",
              "      <td>...</td>\n",
              "      <td>...</td>\n",
              "      <td>...</td>\n",
              "      <td>...</td>\n",
              "      <td>...</td>\n",
              "    </tr>\n",
              "    <tr>\n",
              "      <th>3017</th>\n",
              "      <td>2023-02-06 16:52:51</td>\n",
              "      <td>Good</td>\n",
              "      <td>4</td>\n",
              "      <td>Prinstony Bella</td>\n",
              "      <td>good</td>\n",
              "      <td>good</td>\n",
              "      <td>4</td>\n",
              "    </tr>\n",
              "    <tr>\n",
              "      <th>3018</th>\n",
              "      <td>2023-05-01 18:30:41</td>\n",
              "      <td>Semngat</td>\n",
              "      <td>4</td>\n",
              "      <td>Agus Adekaputra</td>\n",
              "      <td>semngat</td>\n",
              "      <td>semngat</td>\n",
              "      <td>7</td>\n",
              "    </tr>\n",
              "    <tr>\n",
              "      <th>3019</th>\n",
              "      <td>2023-01-18 22:03:06</td>\n",
              "      <td>🙏🙏🙏🙏</td>\n",
              "      <td>5</td>\n",
              "      <td>Meki Mote</td>\n",
              "      <td>NaN</td>\n",
              "      <td>NaN</td>\n",
              "      <td>0</td>\n",
              "    </tr>\n",
              "    <tr>\n",
              "      <th>3020</th>\n",
              "      <td>2023-04-02 18:06:26</td>\n",
              "      <td>👍👍👍👍</td>\n",
              "      <td>5</td>\n",
              "      <td>Bertus Soen</td>\n",
              "      <td>NaN</td>\n",
              "      <td>NaN</td>\n",
              "      <td>0</td>\n",
              "    </tr>\n",
              "    <tr>\n",
              "      <th>3021</th>\n",
              "      <td>2023-04-07 21:56:40</td>\n",
              "      <td>Bagus Bagus</td>\n",
              "      <td>5</td>\n",
              "      <td>Willyamsfrimaulana Willy</td>\n",
              "      <td>bagus bagus</td>\n",
              "      <td>bagus bagus</td>\n",
              "      <td>11</td>\n",
              "    </tr>\n",
              "  </tbody>\n",
              "</table>\n",
              "<p>3022 rows × 7 columns</p>\n",
              "</div>"
            ],
            "text/plain": [
              "                       at                                            content  \\\n",
              "0     2023-09-21 14:31:30  Sering muncul peringatan 'anda tidak terhubung...   \n",
              "1     2023-09-28 00:14:40  Masih sering DC. Tiba2 g ada koneksi, lampu in...   \n",
              "2     2023-09-24 13:44:07  Bapuk. Lemot. Padahal sudah di Taru dekat jend...   \n",
              "3     2023-09-18 21:58:35  Sering muncul tulisan \"tidak terhubung ke .......   \n",
              "4     2023-10-02 21:40:00  Sudah beli model yg harganya sampai 2 jutaan. ...   \n",
              "...                   ...                                                ...   \n",
              "3017  2023-02-06 16:52:51                                               Good   \n",
              "3018  2023-05-01 18:30:41                                            Semngat   \n",
              "3019  2023-01-18 22:03:06                                               🙏🙏🙏🙏   \n",
              "3020  2023-04-02 18:06:26                                               👍👍👍👍   \n",
              "3021  2023-04-07 21:56:40                                        Bagus Bagus   \n",
              "\n",
              "      score                   userName  \\\n",
              "0         5                 Wilson Nts   \n",
              "1         1              Saifullah fil   \n",
              "2         1             allan afriyadi   \n",
              "3         3  Suryokusumo Risdika Rizki   \n",
              "4         3              Anton Karnadi   \n",
              "...     ...                        ...   \n",
              "3017      4            Prinstony Bella   \n",
              "3018      4            Agus Adekaputra   \n",
              "3019      5                  Meki Mote   \n",
              "3020      5                Bertus Soen   \n",
              "3021      5   Willyamsfrimaulana Willy   \n",
              "\n",
              "                                               contentp  \\\n",
              "0     sering muncul peringatan anda tidak terhubung ...   \n",
              "1     masih sering dc tiba ada koneksi lampu indokat...   \n",
              "2     bapuk lemot padahal sudah di taru dekat jendel...   \n",
              "3     sering muncul tulisan tidak terhubung ke nama ...   \n",
              "4     sudah beli model yg harganya sampai jutaan awa...   \n",
              "...                                                 ...   \n",
              "3017                                               good   \n",
              "3018                                            semngat   \n",
              "3019                                                NaN   \n",
              "3020                                                NaN   \n",
              "3021                                        bagus bagus   \n",
              "\n",
              "                                         contentp_clean  text_length  \n",
              "0     sering muncul ingat tidak hubung jaring orbit ...          238  \n",
              "1     sering dc tiba koneksi lampu indokator merah e...          226  \n",
              "2     jelek lambat padahal taru dekat jendela lantai...          269  \n",
              "3     sering muncul tulis hubung nama wifi padahal j...          240  \n",
              "4     beli model harga juta awal kencang tahun pakai...          147  \n",
              "...                                                 ...          ...  \n",
              "3017                                               good            4  \n",
              "3018                                            semngat            7  \n",
              "3019                                                NaN            0  \n",
              "3020                                                NaN            0  \n",
              "3021                                        bagus bagus           11  \n",
              "\n",
              "[3022 rows x 7 columns]"
            ]
          },
          "execution_count": 2,
          "metadata": {},
          "output_type": "execute_result"
        }
      ],
      "source": [
        "df = pd.read_csv('data_clean_all.csv')\n",
        "df"
      ]
    },
    {
      "cell_type": "code",
      "execution_count": 3,
      "metadata": {
        "id": "3qJ22ThonEkq"
      },
      "outputs": [],
      "source": [
        "df['label'] = df['score'].apply(lambda x: 'negative' if x in [1, 2] else ('neutral' if x == 3 else 'positive'))"
      ]
    },
    {
      "cell_type": "code",
      "execution_count": 4,
      "metadata": {
        "colab": {
          "base_uri": "https://localhost:8080/",
          "height": 143
        },
        "id": "vs_CybKanOQI",
        "outputId": "05a208e1-eab6-4eb6-f21e-0a9c2f4bc63d"
      },
      "outputs": [
        {
          "data": {
            "text/html": [
              "<div>\n",
              "<style scoped>\n",
              "    .dataframe tbody tr th:only-of-type {\n",
              "        vertical-align: middle;\n",
              "    }\n",
              "\n",
              "    .dataframe tbody tr th {\n",
              "        vertical-align: top;\n",
              "    }\n",
              "\n",
              "    .dataframe thead th {\n",
              "        text-align: right;\n",
              "    }\n",
              "</style>\n",
              "<table border=\"1\" class=\"dataframe\">\n",
              "  <thead>\n",
              "    <tr style=\"text-align: right;\">\n",
              "      <th></th>\n",
              "      <th>contentp_clean</th>\n",
              "      <th>label</th>\n",
              "    </tr>\n",
              "  </thead>\n",
              "  <tbody>\n",
              "    <tr>\n",
              "      <th>0</th>\n",
              "      <td>sering muncul ingat tidak hubung jaring orbit ...</td>\n",
              "      <td>positive</td>\n",
              "    </tr>\n",
              "    <tr>\n",
              "      <th>1</th>\n",
              "      <td>sering dc tiba koneksi lampu indokator merah e...</td>\n",
              "      <td>negative</td>\n",
              "    </tr>\n",
              "    <tr>\n",
              "      <th>2</th>\n",
              "      <td>jelek lambat padahal taru dekat jendela lantai...</td>\n",
              "      <td>negative</td>\n",
              "    </tr>\n",
              "  </tbody>\n",
              "</table>\n",
              "</div>"
            ],
            "text/plain": [
              "                                      contentp_clean     label\n",
              "0  sering muncul ingat tidak hubung jaring orbit ...  positive\n",
              "1  sering dc tiba koneksi lampu indokator merah e...  negative\n",
              "2  jelek lambat padahal taru dekat jendela lantai...  negative"
            ]
          },
          "execution_count": 4,
          "metadata": {},
          "output_type": "execute_result"
        }
      ],
      "source": [
        "df = df[['contentp_clean',  'label']]\n",
        "df = df.dropna()\n",
        "df.head(3)"
      ]
    },
    {
      "cell_type": "code",
      "execution_count": 36,
      "metadata": {
        "colab": {
          "base_uri": "https://localhost:8080/"
        },
        "id": "yzEGGX90nXW8",
        "outputId": "a6fb62fe-737c-4444-e670-c59e4e6fa5c5"
      },
      "outputs": [
        {
          "name": "stdout",
          "output_type": "stream",
          "text": [
            "[name: \"/device:CPU:0\"\n",
            "device_type: \"CPU\"\n",
            "memory_limit: 268435456\n",
            "locality {\n",
            "}\n",
            "incarnation: 5878886671131563171\n",
            "xla_global_id: -1\n",
            "]\n"
          ]
        }
      ],
      "source": [
        "from tensorflow.python.client import device_lib\n",
        "print(device_lib.list_local_devices())\n"
      ]
    },
    {
      "cell_type": "code",
      "execution_count": 6,
      "metadata": {
        "colab": {
          "base_uri": "https://localhost:8080/"
        },
        "id": "lOv5Z0CxouQy",
        "outputId": "c07d16bb-8c98-4fc0-95d9-b4b8d0bb8bc5"
      },
      "outputs": [
        {
          "name": "stdout",
          "output_type": "stream",
          "text": [
            "Device mapping: no known devices.\n"
          ]
        },
        {
          "data": {
            "text/plain": [
              "<tensorflow.python.client.session.Session at 0x2881e7bbad0>"
            ]
          },
          "execution_count": 6,
          "metadata": {},
          "output_type": "execute_result"
        }
      ],
      "source": [
        "import tensorflow\n",
        "sess = tensorflow.compat.v1.Session(config=tensorflow.compat.v1.ConfigProto(log_device_placement=True))\n",
        "sess"
      ]
    },
    {
      "cell_type": "code",
      "execution_count": 7,
      "metadata": {
        "colab": {
          "base_uri": "https://localhost:8080/"
        },
        "id": "d25GwCSMrgAZ",
        "outputId": "af8d2aaf-7b05-46c0-9401-ea8d633811ff"
      },
      "outputs": [
        {
          "name": "stderr",
          "output_type": "stream",
          "text": [
            "[nltk_data] Downloading package punkt to\n",
            "[nltk_data]     C:\\Users\\Alharidt\\AppData\\Roaming\\nltk_data...\n",
            "[nltk_data]   Package punkt is already up-to-date!\n"
          ]
        }
      ],
      "source": [
        "import nltk\n",
        "nltk.download('punkt')\n",
        "from nltk.tokenize import sent_tokenize, word_tokenize\n",
        "import pandas as pd\n",
        "import numpy as np\n",
        "import matplotlib.pyplot as plt\n",
        "import re,string\n",
        "\n",
        "\n",
        "from nltk.probability import FreqDist\n",
        "\n",
        "\n",
        "\n",
        "from wordcloud import WordCloud\n",
        "\n"
      ]
    },
    {
      "cell_type": "code",
      "execution_count": 8,
      "metadata": {
        "colab": {
          "base_uri": "https://localhost:8080/",
          "height": 423
        },
        "id": "Hi6AhpTHrQzH",
        "outputId": "17e89cca-c6af-4ebb-8b64-49ec92475897"
      },
      "outputs": [
        {
          "data": {
            "text/html": [
              "<div>\n",
              "<style scoped>\n",
              "    .dataframe tbody tr th:only-of-type {\n",
              "        vertical-align: middle;\n",
              "    }\n",
              "\n",
              "    .dataframe tbody tr th {\n",
              "        vertical-align: top;\n",
              "    }\n",
              "\n",
              "    .dataframe thead th {\n",
              "        text-align: right;\n",
              "    }\n",
              "</style>\n",
              "<table border=\"1\" class=\"dataframe\">\n",
              "  <thead>\n",
              "    <tr style=\"text-align: right;\">\n",
              "      <th></th>\n",
              "      <th>contentp_clean</th>\n",
              "      <th>label</th>\n",
              "      <th>word_length</th>\n",
              "    </tr>\n",
              "  </thead>\n",
              "  <tbody>\n",
              "    <tr>\n",
              "      <th>0</th>\n",
              "      <td>sering muncul ingat tidak hubung jaring orbit ...</td>\n",
              "      <td>positive</td>\n",
              "      <td>37</td>\n",
              "    </tr>\n",
              "    <tr>\n",
              "      <th>1</th>\n",
              "      <td>sering dc tiba koneksi lampu indokator merah e...</td>\n",
              "      <td>negative</td>\n",
              "      <td>38</td>\n",
              "    </tr>\n",
              "    <tr>\n",
              "      <th>2</th>\n",
              "      <td>jelek lambat padahal taru dekat jendela lantai...</td>\n",
              "      <td>negative</td>\n",
              "      <td>39</td>\n",
              "    </tr>\n",
              "    <tr>\n",
              "      <th>3</th>\n",
              "      <td>sering muncul tulis hubung nama wifi padahal j...</td>\n",
              "      <td>neutral</td>\n",
              "      <td>38</td>\n",
              "    </tr>\n",
              "    <tr>\n",
              "      <th>4</th>\n",
              "      <td>beli model harga juta awal kencang tahun pakai...</td>\n",
              "      <td>neutral</td>\n",
              "      <td>24</td>\n",
              "    </tr>\n",
              "    <tr>\n",
              "      <th>...</th>\n",
              "      <td>...</td>\n",
              "      <td>...</td>\n",
              "      <td>...</td>\n",
              "    </tr>\n",
              "    <tr>\n",
              "      <th>3014</th>\n",
              "      <td>lelettt</td>\n",
              "      <td>neutral</td>\n",
              "      <td>1</td>\n",
              "    </tr>\n",
              "    <tr>\n",
              "      <th>3016</th>\n",
              "      <td>oke</td>\n",
              "      <td>positive</td>\n",
              "      <td>1</td>\n",
              "    </tr>\n",
              "    <tr>\n",
              "      <th>3017</th>\n",
              "      <td>good</td>\n",
              "      <td>positive</td>\n",
              "      <td>1</td>\n",
              "    </tr>\n",
              "    <tr>\n",
              "      <th>3018</th>\n",
              "      <td>semngat</td>\n",
              "      <td>positive</td>\n",
              "      <td>1</td>\n",
              "    </tr>\n",
              "    <tr>\n",
              "      <th>3021</th>\n",
              "      <td>bagus bagus</td>\n",
              "      <td>positive</td>\n",
              "      <td>2</td>\n",
              "    </tr>\n",
              "  </tbody>\n",
              "</table>\n",
              "<p>3000 rows × 3 columns</p>\n",
              "</div>"
            ],
            "text/plain": [
              "                                         contentp_clean     label  word_length\n",
              "0     sering muncul ingat tidak hubung jaring orbit ...  positive           37\n",
              "1     sering dc tiba koneksi lampu indokator merah e...  negative           38\n",
              "2     jelek lambat padahal taru dekat jendela lantai...  negative           39\n",
              "3     sering muncul tulis hubung nama wifi padahal j...   neutral           38\n",
              "4     beli model harga juta awal kencang tahun pakai...   neutral           24\n",
              "...                                                 ...       ...          ...\n",
              "3014                                            lelettt   neutral            1\n",
              "3016                                                oke  positive            1\n",
              "3017                                               good  positive            1\n",
              "3018                                            semngat  positive            1\n",
              "3021                                        bagus bagus  positive            2\n",
              "\n",
              "[3000 rows x 3 columns]"
            ]
          },
          "execution_count": 8,
          "metadata": {},
          "output_type": "execute_result"
        }
      ],
      "source": [
        "df['word_length'] = [len(word_tokenize(x)) for x in df['contentp_clean']]\n",
        "df"
      ]
    },
    {
      "cell_type": "code",
      "execution_count": 9,
      "metadata": {
        "colab": {
          "base_uri": "https://localhost:8080/",
          "height": 489
        },
        "id": "R503mjQPs3eD",
        "outputId": "a3b3cdeb-7813-482d-da08-924bab9fe5fe"
      },
      "outputs": [
        {
          "data": {
            "text/plain": [
              "Text(0, 0.5, 'Frequency')"
            ]
          },
          "execution_count": 9,
          "metadata": {},
          "output_type": "execute_result"
        },
        {
          "data": {
            "image/png": "[encoded data removed]",
            "text/plain": [
              "<Figure size 640x480 with 1 Axes>"
            ]
          },
          "metadata": {},
          "output_type": "display_data"
        }
      ],
      "source": [
        "word_lengths = df['word_length']\n",
        "\n",
        "# Create a histogram\n",
        "plt.hist(word_lengths, bins=20, color='blue', edgecolor='black')\n",
        "plt.title('Distribution of Word Lengths')\n",
        "plt.xlabel('Word Length')\n",
        "plt.ylabel('Frequency')"
      ]
    },
    {
      "cell_type": "code",
      "execution_count": 10,
      "metadata": {
        "colab": {
          "base_uri": "https://localhost:8080/"
        },
        "id": "9IB0E1EUrnF0",
        "outputId": "48c5c331-0a64-4d2e-fa58-fc3c235d3210"
      },
      "outputs": [
        {
          "data": {
            "text/plain": [
              "negative    1544\n",
              "positive    1249\n",
              "neutral      207\n",
              "Name: label, dtype: int64"
            ]
          },
          "execution_count": 10,
          "metadata": {},
          "output_type": "execute_result"
        }
      ],
      "source": [
        "pd.value_counts(df[\"label\"])"
      ]
    },
    {
      "cell_type": "code",
      "execution_count": 11,
      "metadata": {
        "id": "eJApsnlrs_af"
      },
      "outputs": [],
      "source": [
        "from tensorflow.keras.preprocessing.text import Tokenizer\n",
        "from tensorflow.keras.preprocessing import sequence\n",
        "import pickle"
      ]
    },
    {
      "cell_type": "code",
      "execution_count": 12,
      "metadata": {
        "id": "lxbPd6TctAnU"
      },
      "outputs": [],
      "source": [
        "#split data\n",
        "from sklearn.model_selection import train_test_split\n",
        "\n",
        "x_train, x_test, y_train, y_test = train_test_split(df.contentp_clean,df.label, test_size=0.3, random_state=42)\n",
        "corpus = df[\"contentp_clean\"]"
      ]
    },
    {
      "cell_type": "code",
      "execution_count": 13,
      "metadata": {
        "id": "Hype_7RgtHVC"
      },
      "outputs": [],
      "source": [
        "max_words = 512\n",
        "max_len = 128\n",
        "tok = Tokenizer(num_words=max_words)\n",
        "tok.fit_on_texts(corpus)\n",
        "\n",
        "# saving\n",
        "with open('tokenizer_symp.pickle', 'wb') as handle:\n",
        "    pickle.dump(tok, handle, protocol=pickle.HIGHEST_PROTOCOL)\n",
        "# loading\n",
        "with open('tokenizer_symp.pickle', 'rb') as handle:\n",
        "    tokenizer = pickle.load(handle)\n",
        "\n",
        "sequences = tokenizer.texts_to_sequences(x_train)\n",
        "X_train = sequence.pad_sequences(sequences,maxlen=max_len)\n",
        "\n",
        "sequences = tokenizer.texts_to_sequences(x_test)\n",
        "X_test = sequence.pad_sequences(sequences,maxlen=max_len)"
      ]
    },
    {
      "cell_type": "code",
      "execution_count": 14,
      "metadata": {
        "colab": {
          "base_uri": "https://localhost:8080/"
        },
        "id": "9DcbeCfBtVW8",
        "outputId": "b47cd274-bb1e-4e07-b8d3-1ae1dd1d91ed"
      },
      "outputs": [
        {
          "data": {
            "text/plain": [
              "array([[  0,   0,   0, ..., 477, 130,  58],\n",
              "       [  0,   0,   0, ..., 106,   7, 423],\n",
              "       [  0,   0,   0, ...,   0,   8, 459],\n",
              "       ...,\n",
              "       [  0,   0,   0, ...,  83,  69, 199],\n",
              "       [  0,   0,   0, ..., 155,  45,  47],\n",
              "       [  0,   0,   0, ...,  39,  37,   3]])"
            ]
          },
          "execution_count": 14,
          "metadata": {},
          "output_type": "execute_result"
        }
      ],
      "source": [
        "X_train"
      ]
    },
    {
      "cell_type": "code",
      "execution_count": 15,
      "metadata": {
        "id": "xv1KSwMqtcEZ"
      },
      "outputs": [],
      "source": [
        "from sklearn.preprocessing import LabelEncoder\n",
        "from keras.utils import to_categorical"
      ]
    },
    {
      "cell_type": "code",
      "execution_count": 16,
      "metadata": {
        "id": "bcTXJTuVtzb5"
      },
      "outputs": [],
      "source": [
        "label_encoder = LabelEncoder()\n",
        "y_train = label_encoder.fit_transform(y_train)\n",
        "y_test = label_encoder.transform(y_test)\n",
        "y_train = to_categorical(y_train)\n",
        "y_test = to_categorical(y_test)"
      ]
    },
    {
      "cell_type": "code",
      "execution_count": 17,
      "metadata": {
        "colab": {
          "base_uri": "https://localhost:8080/"
        },
        "id": "oFJWihKvt3Gv",
        "outputId": "ea72c5d0-f4df-47bd-9985-632d45cc3c7b"
      },
      "outputs": [
        {
          "data": {
            "text/plain": [
              "array([[0., 0., 1.],\n",
              "       [0., 1., 0.],\n",
              "       [0., 0., 1.],\n",
              "       ...,\n",
              "       [1., 0., 0.],\n",
              "       [1., 0., 0.],\n",
              "       [1., 0., 0.]], dtype=float32)"
            ]
          },
          "execution_count": 17,
          "metadata": {},
          "output_type": "execute_result"
        }
      ],
      "source": [
        "y_train"
      ]
    },
    {
      "cell_type": "code",
      "execution_count": 18,
      "metadata": {
        "colab": {
          "base_uri": "https://localhost:8080/"
        },
        "id": "imBLdeIrt8zj",
        "outputId": "a32dd22f-0d3c-4690-ca30-cdd45c77f87f"
      },
      "outputs": [
        {
          "data": {
            "text/plain": [
              "(900, 3)"
            ]
          },
          "execution_count": 18,
          "metadata": {},
          "output_type": "execute_result"
        }
      ],
      "source": [
        "y_test.shape"
      ]
    },
    {
      "cell_type": "code",
      "execution_count": 19,
      "metadata": {
        "id": "jrs3pC4at_M8"
      },
      "outputs": [],
      "source": [
        "import tensorflow as tf\n",
        "from tensorflow import keras\n",
        "from tensorflow.keras import layers\n",
        "from tensorflow.keras.callbacks import ModelCheckpoint"
      ]
    },
    {
      "cell_type": "code",
      "execution_count": 20,
      "metadata": {
        "id": "1tSrR2N_x5PN"
      },
      "outputs": [],
      "source": [
        "# from tensorflow.keras.layers import SimpleRNN\n",
        "\n",
        "# model = keras.Sequential()\n",
        "# model.add(layers.Embedding(max_words, 100, input_length=max_len))\n",
        "# model.add(SimpleRNN(64))  # Use SimpleRNN instead of LSTM\n",
        "# model.add(layers.Dropout(0.25))\n",
        "# model.add(layers.Dense(3, activation='softmax'))"
      ]
    },
    {
      "cell_type": "code",
      "execution_count": 21,
      "metadata": {
        "id": "CpVHDYjSuBSY"
      },
      "outputs": [],
      "source": [
        "model = keras.Sequential()\n",
        "model.add(layers.Embedding(max_words, 100, input_length=max_len))\n",
        "model.add(layers.LSTM(64))\n",
        "model.add(layers.Dropout(0.25))\n",
        "model.add(layers.Dense(3, activation='softmax'))"
      ]
    },
    {
      "cell_type": "markdown",
      "metadata": {
        "id": "DSfPkmRouizn"
      },
      "source": [
        "- model.add(layers.Embedding(max_words, 100, input_length=max_len)): This line adds an embedding layer to the model. The embedding layer is used to convert integer-encoded words into dense vectors of fixed size. Here's what each argument means:\n",
        "max_words: The first argument specifies the size of the vocabulary, i.e., the maximum integer index that can be used for word embeddings.\n",
        "100: The second argument specifies the dimensionality of the word embeddings. Each word in the vocabulary will be represented as a 100-dimensional vector.\n",
        "input_length=max_len: The third argument specifies the length of the input sequences. If you're working with sequences of fixed length, this argument can be set to that fixed length.\n",
        "\n",
        "- model.add(layers.LSTM(64)): This line adds a Long Short-Term Memory (LSTM) layer to the model. LSTM is a type of recurrent neural network (RNN) that is well-suited for sequence modeling tasks. The 64 specifies the number of LSTM units or cells in this layer.\n",
        "\n",
        "- model.add(layers.Dropout(0.25)): This line adds a dropout layer. Dropout is a regularization technique that helps prevent overfitting. The 0.25 argument specifies the dropout rate, which is the fraction of input units to drop during training.\n",
        "\n",
        "- model.add(layers.Dense(3, activation='softmax'): This line adds a fully connected (dense) layer to the model. The 3 specifies the number of units in this layer, and 'softmax' is the activation function used in this layer. The softmax activation function is commonly used for multi-class classification tasks as it computes the probability distribution over multiple classes.\n",
        "\n",
        "\n",
        "In summary, the code defines a sequential neural network model for natural language processing. It starts with an embedding layer for word embeddings, followed by an LSTM layer for sequence modeling, a dropout layer for regularization, and ends with a dense layer for classification into 3 classes using a softmax activation function. This model is suitable for text classification tasks with sequences of words."
      ]
    },
    {
      "cell_type": "code",
      "execution_count": 22,
      "metadata": {
        "id": "HRC3Arfov_M-"
      },
      "outputs": [],
      "source": [
        "from tensorflow.keras.optimizers import Adam\n",
        "learning_rate = 0.001\n",
        "optimizer = Adam(learning_rate=learning_rate)"
      ]
    },
    {
      "cell_type": "code",
      "execution_count": 23,
      "metadata": {
        "colab": {
          "base_uri": "https://localhost:8080/"
        },
        "id": "zqLArk2UuVm3",
        "outputId": "642eceb8-5b33-41b8-fd98-8197e17129c4"
      },
      "outputs": [
        {
          "name": "stdout",
          "output_type": "stream",
          "text": [
            "Model: \"sequential\"\n",
            "_________________________________________________________________\n",
            " Layer (type)                Output Shape              Param #   \n",
            "=================================================================\n",
            " embedding (Embedding)       (None, 128, 100)          51200     \n",
            "                                                                 \n",
            " lstm (LSTM)                 (None, 64)                42240     \n",
            "                                                                 \n",
            " dropout (Dropout)           (None, 64)                0         \n",
            "                                                                 \n",
            " dense (Dense)               (None, 3)                 195       \n",
            "                                                                 \n",
            "=================================================================\n",
            "Total params: 93635 (365.76 KB)\n",
            "Trainable params: 93635 (365.76 KB)\n",
            "Non-trainable params: 0 (0.00 Byte)\n",
            "_________________________________________________________________\n"
          ]
        }
      ],
      "source": [
        "model.summary()\n",
        "model.compile(loss='categorical_crossentropy',optimizer=optimizer,metrics=['accuracy'])"
      ]
    },
    {
      "cell_type": "code",
      "execution_count": 24,
      "metadata": {
        "colab": {
          "base_uri": "https://localhost:8080/"
        },
        "id": "xKUfrew0vNQf",
        "outputId": "75259604-f8d0-4ca0-f1ba-471e97bcbb1d"
      },
      "outputs": [
        {
          "name": "stdout",
          "output_type": "stream",
          "text": [
            "Epoch 1/15\n",
            "27/27 [==============================] - 32s 517ms/step - loss: 0.9276 - accuracy: 0.5577 - val_loss: 0.7751 - val_accuracy: 0.7429\n",
            "Epoch 2/15\n"
          ]
        },
        {
          "name": "stderr",
          "output_type": "stream",
          "text": [
            "c:\\Program Files\\Python311\\Lib\\site-packages\\keras\\src\\engine\\training.py:3079: UserWarning: You are saving your model as an HDF5 file via `model.save()`. This file format is considered legacy. We recommend using instead the native Keras format, e.g. `model.save('my_model.keras')`.\n",
            "  saving_api.save_model(\n"
          ]
        },
        {
          "name": "stdout",
          "output_type": "stream",
          "text": [
            "27/27 [==============================] - 13s 493ms/step - loss: 0.6869 - accuracy: 0.7429 - val_loss: 0.6269 - val_accuracy: 0.7667\n",
            "Epoch 3/15\n",
            "27/27 [==============================] - 12s 457ms/step - loss: 0.5708 - accuracy: 0.7833 - val_loss: 0.5709 - val_accuracy: 0.7905\n",
            "Epoch 4/15\n",
            "27/27 [==============================] - 13s 477ms/step - loss: 0.5041 - accuracy: 0.8214 - val_loss: 0.5409 - val_accuracy: 0.8000\n",
            "Epoch 5/15\n",
            "27/27 [==============================] - 13s 465ms/step - loss: 0.4452 - accuracy: 0.8435 - val_loss: 0.5401 - val_accuracy: 0.8238\n",
            "Epoch 6/15\n",
            "27/27 [==============================] - 12s 460ms/step - loss: 0.4154 - accuracy: 0.8655 - val_loss: 0.5389 - val_accuracy: 0.8024\n",
            "Epoch 7/15\n",
            "27/27 [==============================] - 15s 559ms/step - loss: 0.3773 - accuracy: 0.8667 - val_loss: 0.5475 - val_accuracy: 0.8143\n",
            "Epoch 8/15\n",
            "27/27 [==============================] - 16s 580ms/step - loss: 0.3563 - accuracy: 0.8774 - val_loss: 0.5538 - val_accuracy: 0.8095\n",
            "Epoch 9/15\n",
            "27/27 [==============================] - 17s 627ms/step - loss: 0.3318 - accuracy: 0.8815 - val_loss: 0.5749 - val_accuracy: 0.8143\n",
            "Epoch 10/15\n",
            "27/27 [==============================] - 13s 463ms/step - loss: 0.3158 - accuracy: 0.8905 - val_loss: 0.5817 - val_accuracy: 0.8024\n",
            "Epoch 11/15\n",
            "27/27 [==============================] - 18s 682ms/step - loss: 0.2921 - accuracy: 0.8940 - val_loss: 0.6435 - val_accuracy: 0.8095\n",
            "Epoch 12/15\n",
            "27/27 [==============================] - 17s 615ms/step - loss: 0.2766 - accuracy: 0.8982 - val_loss: 0.6614 - val_accuracy: 0.7881\n",
            "Epoch 13/15\n",
            "27/27 [==============================] - 48s 2s/step - loss: 0.2611 - accuracy: 0.9060 - val_loss: 0.6965 - val_accuracy: 0.7952\n",
            "Epoch 14/15\n",
            "27/27 [==============================] - 33s 1s/step - loss: 0.2444 - accuracy: 0.9048 - val_loss: 0.7329 - val_accuracy: 0.7929\n",
            "Epoch 15/15\n",
            "27/27 [==============================] - 27s 1s/step - loss: 0.2308 - accuracy: 0.9185 - val_loss: 0.7461 - val_accuracy: 0.8048\n"
          ]
        }
      ],
      "source": [
        "history = model.fit(X_train, y_train, batch_size=64, epochs=15,\n",
        "          callbacks = [ModelCheckpoint(filepath='symp_lstm.h5', monitor='val_accuracy', mode='max', save_best_only=True)],\n",
        "          validation_split=0.2)"
      ]
    },
    {
      "cell_type": "code",
      "execution_count": 25,
      "metadata": {
        "id": "d_SuHaRVwZVD"
      },
      "outputs": [],
      "source": [
        "import keras"
      ]
    },
    {
      "cell_type": "code",
      "execution_count": 26,
      "metadata": {
        "colab": {
          "base_uri": "https://localhost:8080/"
        },
        "id": "9HbeDTACwffd",
        "outputId": "3ec77196-4de1-446c-e910-6f1d0dd3876a"
      },
      "outputs": [
        {
          "name": "stdout",
          "output_type": "stream",
          "text": [
            "29/29 [==============================] - 8s 158ms/step\n"
          ]
        }
      ],
      "source": [
        "reconstructed_model = keras.models.load_model(\"symp_lstm.h5\")\n",
        "prediksi = reconstructed_model.predict(X_test)\n",
        "y_pred = np.argmax(prediksi, -1)\n",
        "y_pred = label_encoder.inverse_transform(y_pred)"
      ]
    },
    {
      "cell_type": "code",
      "execution_count": 27,
      "metadata": {
        "colab": {
          "base_uri": "https://localhost:8080/"
        },
        "id": "F-2eem7gwjSM",
        "outputId": "e8970ee1-f9a5-47af-f8f5-7a7fceeb2238"
      },
      "outputs": [
        {
          "data": {
            "text/plain": [
              "array(['negative', 'negative', 'negative', 'negative', 'positive',\n",
              "       'negative', 'positive', 'positive', 'negative', 'positive',\n",
              "       'negative', 'negative', 'negative', 'positive', 'positive',\n",
              "       'positive', 'positive', 'negative', 'positive', 'positive',\n",
              "       'negative', 'negative', 'negative', 'negative', 'positive',\n",
              "       'positive', 'positive', 'positive', 'negative', 'negative',\n",
              "       'negative', 'positive', 'negative', 'positive', 'negative',\n",
              "       'negative', 'negative', 'negative', 'negative', 'negative',\n",
              "       'negative', 'negative', 'negative', 'positive', 'positive',\n",
              "       'negative', 'positive', 'negative', 'positive', 'negative',\n",
              "       'negative', 'negative', 'negative', 'positive', 'negative',\n",
              "       'positive', 'negative', 'negative', 'positive', 'positive',\n",
              "       'positive', 'positive', 'negative', 'negative', 'negative',\n",
              "       'negative', 'negative', 'negative', 'negative', 'negative',\n",
              "       'positive', 'positive', 'positive', 'negative', 'negative',\n",
              "       'negative', 'positive', 'positive', 'negative', 'positive',\n",
              "       'positive', 'negative', 'negative', 'positive', 'positive',\n",
              "       'negative', 'positive', 'negative', 'positive', 'negative',\n",
              "       'negative', 'positive', 'positive', 'negative', 'negative',\n",
              "       'negative', 'positive', 'positive', 'negative', 'negative',\n",
              "       'negative', 'negative', 'negative', 'positive', 'negative',\n",
              "       'negative', 'negative', 'negative', 'negative', 'negative',\n",
              "       'positive', 'negative', 'positive', 'positive', 'negative',\n",
              "       'positive', 'negative', 'negative', 'negative', 'negative',\n",
              "       'positive', 'negative', 'negative', 'positive', 'negative',\n",
              "       'positive', 'negative', 'negative', 'negative', 'negative',\n",
              "       'positive', 'negative', 'positive', 'negative', 'negative',\n",
              "       'negative', 'negative', 'negative', 'negative', 'positive',\n",
              "       'positive', 'negative', 'positive', 'positive', 'negative',\n",
              "       'positive', 'negative', 'positive', 'positive', 'negative',\n",
              "       'positive', 'positive', 'negative', 'positive', 'negative',\n",
              "       'negative', 'negative', 'positive', 'negative', 'positive',\n",
              "       'positive', 'positive', 'negative', 'negative', 'negative',\n",
              "       'negative', 'negative', 'positive', 'positive', 'negative',\n",
              "       'positive', 'positive', 'negative', 'negative', 'positive',\n",
              "       'negative', 'negative', 'negative', 'negative', 'negative',\n",
              "       'negative', 'positive', 'positive', 'negative', 'negative',\n",
              "       'negative', 'negative', 'negative', 'positive', 'positive',\n",
              "       'negative', 'negative', 'negative', 'negative', 'negative',\n",
              "       'positive', 'negative', 'positive', 'positive', 'negative',\n",
              "       'negative', 'positive', 'negative', 'positive', 'negative',\n",
              "       'negative', 'positive', 'positive', 'negative', 'positive',\n",
              "       'positive', 'negative', 'negative', 'negative', 'negative',\n",
              "       'negative', 'negative', 'negative', 'negative', 'negative',\n",
              "       'negative', 'negative', 'negative', 'positive', 'negative',\n",
              "       'negative', 'negative', 'positive', 'negative', 'negative',\n",
              "       'negative', 'negative', 'positive', 'negative', 'negative',\n",
              "       'negative', 'negative', 'negative', 'positive', 'negative',\n",
              "       'positive', 'negative', 'negative', 'negative', 'negative',\n",
              "       'negative', 'negative', 'negative', 'negative', 'positive',\n",
              "       'negative', 'negative', 'negative', 'negative', 'positive',\n",
              "       'positive', 'positive', 'positive', 'negative', 'negative',\n",
              "       'positive', 'positive', 'negative', 'negative', 'negative',\n",
              "       'negative', 'positive', 'positive', 'positive', 'negative',\n",
              "       'negative', 'negative', 'negative', 'negative', 'negative',\n",
              "       'positive', 'negative', 'negative', 'positive', 'negative',\n",
              "       'positive', 'negative', 'negative', 'negative', 'negative',\n",
              "       'positive', 'negative', 'positive', 'positive', 'negative',\n",
              "       'positive', 'positive', 'negative', 'negative', 'negative',\n",
              "       'positive', 'negative', 'positive', 'positive', 'positive',\n",
              "       'negative', 'positive', 'negative', 'negative', 'positive',\n",
              "       'negative', 'positive', 'negative', 'positive', 'negative',\n",
              "       'positive', 'positive', 'negative', 'negative', 'positive',\n",
              "       'negative', 'negative', 'negative', 'negative', 'negative',\n",
              "       'negative', 'negative', 'positive', 'negative', 'positive',\n",
              "       'negative', 'negative', 'negative', 'positive', 'negative',\n",
              "       'negative', 'negative', 'negative', 'negative', 'negative',\n",
              "       'positive', 'positive', 'negative', 'positive', 'negative',\n",
              "       'positive', 'negative', 'negative', 'positive', 'negative',\n",
              "       'positive', 'positive', 'negative', 'positive', 'negative',\n",
              "       'negative', 'positive', 'negative', 'positive', 'positive',\n",
              "       'negative', 'positive', 'negative', 'positive', 'negative',\n",
              "       'positive', 'positive', 'negative', 'negative', 'negative',\n",
              "       'negative', 'negative', 'negative', 'negative', 'positive',\n",
              "       'negative', 'negative', 'positive', 'negative', 'negative',\n",
              "       'negative', 'negative', 'positive', 'negative', 'negative',\n",
              "       'negative', 'positive', 'negative', 'negative', 'negative',\n",
              "       'positive', 'negative', 'negative', 'negative', 'negative',\n",
              "       'positive', 'negative', 'negative', 'negative', 'negative',\n",
              "       'negative', 'negative', 'negative', 'negative', 'positive',\n",
              "       'negative', 'positive', 'positive', 'positive', 'positive',\n",
              "       'negative', 'negative', 'positive', 'negative', 'positive',\n",
              "       'negative', 'negative', 'negative', 'negative', 'negative',\n",
              "       'negative', 'negative', 'positive', 'negative', 'negative',\n",
              "       'negative', 'positive', 'negative', 'negative', 'negative',\n",
              "       'negative', 'negative', 'positive', 'negative', 'negative',\n",
              "       'positive', 'negative', 'positive', 'negative', 'negative',\n",
              "       'negative', 'negative', 'positive', 'positive', 'negative',\n",
              "       'negative', 'positive', 'positive', 'negative', 'negative',\n",
              "       'negative', 'positive', 'positive', 'negative', 'positive',\n",
              "       'positive', 'negative', 'positive', 'negative', 'positive',\n",
              "       'negative', 'negative', 'negative', 'negative', 'negative',\n",
              "       'negative', 'negative', 'negative', 'negative', 'negative',\n",
              "       'negative', 'negative', 'negative', 'negative', 'positive',\n",
              "       'positive', 'positive', 'negative', 'negative', 'positive',\n",
              "       'positive', 'positive', 'positive', 'negative', 'negative',\n",
              "       'positive', 'negative', 'negative', 'positive', 'positive',\n",
              "       'negative', 'negative', 'positive', 'negative', 'negative',\n",
              "       'negative', 'negative', 'positive', 'positive', 'negative',\n",
              "       'positive', 'negative', 'positive', 'positive', 'positive',\n",
              "       'negative', 'negative', 'negative', 'positive', 'negative',\n",
              "       'negative', 'positive', 'negative', 'positive', 'negative',\n",
              "       'positive', 'negative', 'negative', 'negative', 'negative',\n",
              "       'positive', 'negative', 'positive', 'negative', 'negative',\n",
              "       'negative', 'negative', 'negative', 'negative', 'negative',\n",
              "       'negative', 'positive', 'negative', 'positive', 'positive',\n",
              "       'negative', 'positive', 'negative', 'positive', 'negative',\n",
              "       'positive', 'negative', 'negative', 'positive', 'positive',\n",
              "       'negative', 'negative', 'negative', 'negative', 'negative',\n",
              "       'negative', 'negative', 'negative', 'positive', 'positive',\n",
              "       'positive', 'positive', 'negative', 'negative', 'negative',\n",
              "       'positive', 'negative', 'negative', 'negative', 'negative',\n",
              "       'negative', 'positive', 'negative', 'negative', 'negative',\n",
              "       'negative', 'negative', 'positive', 'positive', 'positive',\n",
              "       'negative', 'negative', 'negative', 'negative', 'positive',\n",
              "       'positive', 'negative', 'negative', 'negative', 'negative',\n",
              "       'negative', 'negative', 'positive', 'negative', 'negative',\n",
              "       'negative', 'positive', 'negative', 'negative', 'positive',\n",
              "       'positive', 'positive', 'positive', 'negative', 'negative',\n",
              "       'negative', 'negative', 'negative', 'negative', 'negative',\n",
              "       'negative', 'negative', 'negative', 'negative', 'negative',\n",
              "       'positive', 'negative', 'negative', 'positive', 'negative',\n",
              "       'positive', 'negative', 'negative', 'negative', 'positive',\n",
              "       'negative', 'negative', 'negative', 'negative', 'negative',\n",
              "       'positive', 'negative', 'negative', 'positive', 'negative',\n",
              "       'negative', 'negative', 'negative', 'negative', 'negative',\n",
              "       'negative', 'positive', 'positive', 'positive', 'positive',\n",
              "       'negative', 'positive', 'positive', 'positive', 'positive',\n",
              "       'negative', 'positive', 'positive', 'positive', 'negative',\n",
              "       'negative', 'positive', 'negative', 'negative', 'negative',\n",
              "       'negative', 'negative', 'positive', 'positive', 'positive',\n",
              "       'positive', 'negative', 'positive', 'positive', 'positive',\n",
              "       'negative', 'positive', 'negative', 'negative', 'negative',\n",
              "       'negative', 'positive', 'negative', 'positive', 'negative',\n",
              "       'positive', 'positive', 'negative', 'positive', 'negative',\n",
              "       'positive', 'positive', 'negative', 'negative', 'negative',\n",
              "       'positive', 'negative', 'positive', 'negative', 'negative',\n",
              "       'negative', 'negative', 'positive', 'negative', 'negative',\n",
              "       'negative', 'positive', 'negative', 'negative', 'positive',\n",
              "       'positive', 'negative', 'negative', 'negative', 'negative',\n",
              "       'negative', 'negative', 'negative', 'positive', 'negative',\n",
              "       'negative', 'negative', 'negative', 'negative', 'positive',\n",
              "       'negative', 'negative', 'negative', 'negative', 'positive',\n",
              "       'negative', 'positive', 'positive', 'negative', 'negative',\n",
              "       'negative', 'negative', 'positive', 'negative', 'positive',\n",
              "       'positive', 'negative', 'negative', 'positive', 'negative',\n",
              "       'positive', 'negative', 'negative', 'positive', 'negative',\n",
              "       'positive', 'negative', 'negative', 'negative', 'positive',\n",
              "       'negative', 'negative', 'negative', 'negative', 'positive',\n",
              "       'negative', 'negative', 'negative', 'negative', 'negative',\n",
              "       'positive', 'negative', 'negative', 'negative', 'positive',\n",
              "       'positive', 'negative', 'positive', 'positive', 'positive',\n",
              "       'negative', 'positive', 'negative', 'positive', 'positive',\n",
              "       'negative', 'positive', 'positive', 'positive', 'positive',\n",
              "       'negative', 'negative', 'negative', 'negative', 'negative',\n",
              "       'negative', 'negative', 'positive', 'negative', 'negative',\n",
              "       'negative', 'negative', 'positive', 'negative', 'negative',\n",
              "       'negative', 'positive', 'positive', 'negative', 'positive',\n",
              "       'positive', 'negative', 'negative', 'negative', 'negative',\n",
              "       'positive', 'positive', 'negative', 'positive', 'positive',\n",
              "       'negative', 'positive', 'negative', 'negative', 'negative',\n",
              "       'positive', 'negative', 'negative', 'negative', 'negative',\n",
              "       'negative', 'negative', 'positive', 'positive', 'positive',\n",
              "       'negative', 'negative', 'negative', 'positive', 'negative',\n",
              "       'negative', 'negative', 'positive', 'negative', 'positive',\n",
              "       'positive', 'negative', 'negative', 'negative', 'negative',\n",
              "       'positive', 'negative', 'positive', 'negative', 'negative',\n",
              "       'positive', 'negative', 'negative', 'positive', 'negative',\n",
              "       'positive', 'positive', 'positive', 'positive', 'positive',\n",
              "       'negative', 'positive', 'negative', 'negative', 'negative',\n",
              "       'negative', 'negative', 'negative', 'negative', 'negative',\n",
              "       'negative', 'negative', 'negative', 'positive', 'positive',\n",
              "       'positive', 'negative', 'negative', 'negative', 'negative',\n",
              "       'positive', 'negative', 'negative', 'positive', 'positive',\n",
              "       'negative', 'negative', 'negative', 'positive', 'negative',\n",
              "       'negative', 'negative', 'negative', 'negative', 'negative',\n",
              "       'positive', 'negative', 'negative', 'positive', 'negative',\n",
              "       'positive', 'negative', 'negative', 'negative', 'negative',\n",
              "       'negative', 'positive', 'negative', 'negative', 'positive',\n",
              "       'negative', 'negative', 'positive', 'positive', 'negative'],\n",
              "      dtype=object)"
            ]
          },
          "execution_count": 27,
          "metadata": {},
          "output_type": "execute_result"
        }
      ],
      "source": [
        "y_pred"
      ]
    },
    {
      "cell_type": "code",
      "execution_count": 28,
      "metadata": {
        "id": "PUY-YRqdwpOz"
      },
      "outputs": [],
      "source": [
        "y_test = np.argmax(y_test, -1)\n",
        "y_test = label_encoder.inverse_transform(y_test)"
      ]
    },
    {
      "cell_type": "code",
      "execution_count": 29,
      "metadata": {
        "colab": {
          "base_uri": "https://localhost:8080/"
        },
        "id": "NjaXw0aXwr1X",
        "outputId": "1117aacf-5133-498a-a3f4-74b90b366356"
      },
      "outputs": [
        {
          "name": "stdout",
          "output_type": "stream",
          "text": [
            "              precision    recall  f1-score   support\n",
            "\n",
            "    negative       0.76      0.95      0.84       465\n",
            "     neutral       0.00      0.00      0.00        80\n",
            "    positive       0.88      0.79      0.83       355\n",
            "\n",
            "    accuracy                           0.80       900\n",
            "   macro avg       0.54      0.58      0.56       900\n",
            "weighted avg       0.74      0.80      0.76       900\n",
            "\n"
          ]
        },
        {
          "name": "stderr",
          "output_type": "stream",
          "text": [
            "C:\\Users\\Alharidt\\AppData\\Roaming\\Python\\Python311\\site-packages\\sklearn\\metrics\\_classification.py:1469: UndefinedMetricWarning: Precision and F-score are ill-defined and being set to 0.0 in labels with no predicted samples. Use `zero_division` parameter to control this behavior.\n",
            "  _warn_prf(average, modifier, msg_start, len(result))\n",
            "C:\\Users\\Alharidt\\AppData\\Roaming\\Python\\Python311\\site-packages\\sklearn\\metrics\\_classification.py:1469: UndefinedMetricWarning: Precision and F-score are ill-defined and being set to 0.0 in labels with no predicted samples. Use `zero_division` parameter to control this behavior.\n",
            "  _warn_prf(average, modifier, msg_start, len(result))\n",
            "C:\\Users\\Alharidt\\AppData\\Roaming\\Python\\Python311\\site-packages\\sklearn\\metrics\\_classification.py:1469: UndefinedMetricWarning: Precision and F-score are ill-defined and being set to 0.0 in labels with no predicted samples. Use `zero_division` parameter to control this behavior.\n",
            "  _warn_prf(average, modifier, msg_start, len(result))\n"
          ]
        }
      ],
      "source": [
        "from sklearn.metrics import classification_report\n",
        "\n",
        "print(classification_report(y_test, y_pred))"
      ]
    },
    {
      "cell_type": "code",
      "execution_count": 30,
      "metadata": {
        "colab": {
          "base_uri": "https://localhost:8080/"
        },
        "id": "nSxwxp-_xd62",
        "outputId": "185a1d37-a029-44e1-ad9a-867aa600636e"
      },
      "outputs": [
        {
          "name": "stdout",
          "output_type": "stream",
          "text": [
            "1/1 [==============================] - 0s 258ms/step\n",
            "Predicted Label: positive\n"
          ]
        }
      ],
      "source": [
        "def predict_text(input_text, model, tokenizer, label_encoder, max_len):\n",
        "    # Preprocess the input text\n",
        "    input_sequence = tokenizer.texts_to_sequences([input_text])\n",
        "    input_sequence = sequence.pad_sequences(input_sequence, maxlen=max_len)\n",
        "\n",
        "    # Make predictions using the model\n",
        "    predictions = model.predict(input_sequence)\n",
        "    predicted_label_idx = np.argmax(predictions, -1)\n",
        "    predicted_label = label_encoder.inverse_transform(predicted_label_idx)\n",
        "\n",
        "    return predicted_label[0]\n",
        "\n",
        "# Get user input\n",
        "user_input = input(\"Enter a text: \")\n",
        "\n",
        "# Make predictions\n",
        "predicted_label = predict_text(user_input, reconstructed_model, tokenizer, label_encoder, max_len)\n",
        "print(f\"Predicted Label: {predicted_label}\")"
      ]
    },
    {
      "cell_type": "code",
      "execution_count": 31,
      "metadata": {
        "colab": {
          "base_uri": "https://localhost:8080/"
        },
        "id": "8_-VQsRSx9IC",
        "outputId": "3d25d923-1c9f-4361-f52c-73c1a4d8b163"
      },
      "outputs": [
        {
          "name": "stdout",
          "output_type": "stream",
          "text": [
            "1/1 [==============================] - 0s 152ms/step\n",
            "Predicted Label: negative\n"
          ]
        }
      ],
      "source": [
        "# Get user input\n",
        "user_input = input(\"Enter a text: \")\n",
        "\n",
        "# Make predictions\n",
        "predicted_label = predict_text(user_input, reconstructed_model, tokenizer, label_encoder, max_len)\n",
        "print(f\"Predicted Label: {predicted_label}\")"
      ]
    }
  ],
  "metadata": {
    "accelerator": "GPU",
    "colab": {
      "authorship_tag": "ABX9TyPSMUHLrwz1B616ZnE78I0s",
      "gpuType": "T4",
      "include_colab_link": true,
      "provenance": []
    },
    "kernelspec": {
      "display_name": "Python 3",
      "name": "python3"
    },
    "language_info": {
      "codemirror_mode": {
        "name": "ipython",
        "version": 3
      },
      "file_extension": ".py",
      "mimetype": "text/x-python",
      "name": "python",
      "nbconvert_exporter": "python",
      "pygments_lexer": "ipython3",
      "version": "3.11.5"
    }
  },
  "nbformat": 4,
  "nbformat_minor": 0
}
